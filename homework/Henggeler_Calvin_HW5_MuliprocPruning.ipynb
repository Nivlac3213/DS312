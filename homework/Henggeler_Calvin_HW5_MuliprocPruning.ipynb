{
 "cells": [
  {
   "cell_type": "markdown",
   "source": [
    "# Homework 5: Multiprocessing and Pruning\n",
    "### Author: Calvin Henggeler\n",
    "### Dataset: Housing.csv\n",
    "\n",
    "## A. Multiprocessing.\n",
    "The Collatz conjecture says that if you start with a positive integer, divide by 2 when even, and multiply by 3 and add 1 when odd, you will eventually arrive at 1. For example,\n",
    "12 -> 6 -> 3 -> 10 -> 5 -> 16 -> 8 -> 4 -> 2 -> 1\n",
    "9 -> 28 -> 14 -> 7 -> 22 -> 11 -> 34 -> 17 -> 52 -> 26 -> 13 -> 40 -> 20 -> 10 -> 5 -> 16 -> 8 -> 4 -> 2 -> 1\n",
    "19 -> 58 -> 29 -> 88 -> 44 -> 22 -> 11 -> 34 -> 17 -> 52 -> 26 -> 13 -> 40 -> 20 -> 10 -> 5 -> 16 -> 8 -> 4 -> 2 -> 1\n",
    "We can define the Collatz length of n to be the number of steps required to arrive at 1 from n. So, the Collatz length of 12 is 9, the Collatz length of 9 is 19, and the Collatz length of 19 is 20.\n",
    "\n",
    "1. Write a function which accepts a positive integer n and returns the Collatz length of n.\n",
    "2. Use multiprocessing to get the Collatz lengths of the integers from 1 to 10**5.\n",
    "3. Create a scatterplot of the Collatz length of n vs n.\n",
    "\n",
    "## B. Pruning.\n",
    "\n",
    "1. Use the Titanic datasetLinks to an external site..\n",
    "2. Split the dataset into training and testing subsets.\n",
    "3. Select a suitable feature subset to predict the survived/died column.\n",
    "4. Train an unrestricted tree and compute its cost_complexity_pruning_path.\n",
    "5. Find the optimum value of alpha. Use 3-fold cross-validation.\n",
    "6. Train a tree, supplying the optimum value of alpha as a parameter.\n",
    "7. Report the accuracy on the test data."
   ],
   "metadata": {
    "collapsed": false
   }
  },
  {
   "cell_type": "code",
   "execution_count": 1,
   "outputs": [],
   "source": [
    "import pandas as pd\n",
    "import numpy as np\n",
    "import matplotlib.pyplot as plt"
   ],
   "metadata": {
    "collapsed": false
   }
  },
  {
   "cell_type": "markdown",
   "source": [
    "## A. Multiprocessing"
   ],
   "metadata": {
    "collapsed": false
   }
  },
  {
   "cell_type": "markdown",
   "source": [
    "#### 1. Write a function which accepts a positive integer n and returns the Callatz length of n"
   ],
   "metadata": {
    "collapsed": false
   }
  },
  {
   "cell_type": "code",
   "execution_count": 1,
   "outputs": [],
   "source": [
    "def collatz_len(n):\n",
    "    \"\"\" Finds the number of steps to arrive at 1 from the number n using the Collatz conjecture \"\"\"\n",
    "    steps = 0\n",
    "    while n != 1:\n",
    "        # n is even\n",
    "        if n % 2 == 0:\n",
    "            n = n/2\n",
    "        # n is odd\n",
    "        else:\n",
    "            n = 3*n + 1\n",
    "\n",
    "        steps = steps + 1\n",
    "    return steps"
   ],
   "metadata": {
    "collapsed": false,
    "ExecuteTime": {
     "end_time": "2024-04-21T21:53:33.180776362Z",
     "start_time": "2024-04-21T21:53:33.132399926Z"
    }
   }
  },
  {
   "cell_type": "markdown",
   "source": [
    "Test collatz_len()"
   ],
   "metadata": {
    "collapsed": false
   }
  },
  {
   "cell_type": "code",
   "execution_count": 3,
   "outputs": [],
   "source": [
    "a = collatz_len(12)"
   ],
   "metadata": {
    "collapsed": false
   }
  },
  {
   "cell_type": "code",
   "execution_count": 4,
   "outputs": [
    {
     "data": {
      "text/plain": "19"
     },
     "execution_count": 4,
     "metadata": {},
     "output_type": "execute_result"
    }
   ],
   "source": [
    "collatz_len(9)"
   ],
   "metadata": {
    "collapsed": false
   }
  },
  {
   "cell_type": "code",
   "execution_count": 5,
   "outputs": [
    {
     "data": {
      "text/plain": "128"
     },
     "execution_count": 5,
     "metadata": {},
     "output_type": "execute_result"
    }
   ],
   "source": [
    "collatz_len(100000)"
   ],
   "metadata": {
    "collapsed": false
   }
  },
  {
   "cell_type": "markdown",
   "source": [
    "#### 2. Use Multiprocessing to get the Collatz lengths for integers form 1 to 10**5 (100000)"
   ],
   "metadata": {
    "collapsed": false
   }
  },
  {
   "cell_type": "code",
   "execution_count": 7,
   "outputs": [],
   "source": [
    "inpt = range(1,10**5)\n",
    "# inpt = [1, 100, 1000, 10000, 100000]"
   ],
   "metadata": {
    "collapsed": false,
    "ExecuteTime": {
     "end_time": "2024-04-21T21:54:07.300447986Z",
     "start_time": "2024-04-21T21:54:07.257624827Z"
    }
   }
  },
  {
   "cell_type": "code",
   "execution_count": 3,
   "outputs": [],
   "source": [
    "from multiprocessing import Pool, cpu_count"
   ],
   "metadata": {
    "collapsed": false,
    "ExecuteTime": {
     "end_time": "2024-04-21T21:53:40.533788996Z",
     "start_time": "2024-04-21T21:53:40.526858347Z"
    }
   }
  },
  {
   "cell_type": "code",
   "execution_count": 4,
   "outputs": [
    {
     "data": {
      "text/plain": "7"
     },
     "execution_count": 4,
     "metadata": {},
     "output_type": "execute_result"
    }
   ],
   "source": [
    "processes = cpu_count() - 1\n",
    "processes"
   ],
   "metadata": {
    "collapsed": false,
    "ExecuteTime": {
     "end_time": "2024-04-21T21:53:41.224584106Z",
     "start_time": "2024-04-21T21:53:41.208320563Z"
    }
   }
  },
  {
   "cell_type": "code",
   "execution_count": 5,
   "outputs": [
    {
     "name": "stdout",
     "output_type": "stream",
     "text": [
      "[0, 25, 111, 29, 128]\n"
     ]
    }
   ],
   "source": [
    "res = map(collatz_len, inpt)\n",
    "print(list(res))"
   ],
   "metadata": {
    "collapsed": false,
    "ExecuteTime": {
     "end_time": "2024-04-21T21:53:45.876618034Z",
     "start_time": "2024-04-21T21:53:45.868253194Z"
    }
   }
  },
  {
   "cell_type": "code",
   "execution_count": 8,
   "outputs": [
    {
     "data": {
      "text/plain": "[0,\n 1,\n 7,\n 2,\n 5,\n 8,\n 16,\n 3,\n 19,\n 6,\n 14,\n 9,\n 9,\n 17,\n 17,\n 4,\n 12,\n 20,\n 20,\n 7,\n 7,\n 15,\n 15,\n 10,\n 23,\n 10,\n 111,\n 18,\n 18,\n 18,\n 106,\n 5,\n 26,\n 13,\n 13,\n 21,\n 21,\n 21,\n 34,\n 8,\n 109,\n 8,\n 29,\n 16,\n 16,\n 16,\n 104,\n 11,\n 24,\n 24,\n 24,\n 11,\n 11,\n 112,\n 112,\n 19,\n 32,\n 19,\n 32,\n 19,\n 19,\n 107,\n 107,\n 6,\n 27,\n 27,\n 27,\n 14,\n 14,\n 14,\n 102,\n 22,\n 115,\n 22,\n 14,\n 22,\n 22,\n 35,\n 35,\n 9,\n 22,\n 110,\n 110,\n 9,\n 9,\n 30,\n 30,\n 17,\n 30,\n 17,\n 92,\n 17,\n 17,\n 105,\n 105,\n 12,\n 118,\n 25,\n 25,\n 25,\n 25,\n 25,\n 87,\n 12,\n 38,\n 12,\n 100,\n 113,\n 113,\n 113,\n 69,\n 20,\n 12,\n 33,\n 33,\n 20,\n 20,\n 33,\n 33,\n 20,\n 95,\n 20,\n 46,\n 108,\n 108,\n 108,\n 46,\n 7,\n 121,\n 28,\n 28,\n 28,\n 28,\n 28,\n 41,\n 15,\n 90,\n 15,\n 41,\n 15,\n 15,\n 103,\n 103,\n 23,\n 116,\n 116,\n 116,\n 23,\n 23,\n 15,\n 15,\n 23,\n 36,\n 23,\n 85,\n 36,\n 36,\n 36,\n 54,\n 10,\n 98,\n 23,\n 23,\n 111,\n 111,\n 111,\n 67,\n 10,\n 49,\n 10,\n 124,\n 31,\n 31,\n 31,\n 80,\n 18,\n 31,\n 31,\n 31,\n 18,\n 18,\n 93,\n 93,\n 18,\n 44,\n 18,\n 44,\n 106,\n 106,\n 106,\n 44,\n 13,\n 119,\n 119,\n 119,\n 26,\n 26,\n 26,\n 119,\n 26,\n 18,\n 26,\n 39,\n 26,\n 26,\n 88,\n 88,\n 13,\n 39,\n 39,\n 39,\n 13,\n 13,\n 101,\n 101,\n 114,\n 26,\n 114,\n 52,\n 114,\n 114,\n 70,\n 70,\n 21,\n 52,\n 13,\n 13,\n 34,\n 34,\n 34,\n 127,\n 21,\n 83,\n 21,\n 127,\n 34,\n 34,\n 34,\n 52,\n 21,\n 21,\n 96,\n 96,\n 21,\n 21,\n 47,\n 47,\n 109,\n 47,\n 109,\n 65,\n 109,\n 109,\n 47,\n 47,\n 8,\n 122,\n 122,\n 122,\n 29,\n 29,\n 29,\n 78,\n 29,\n 122,\n 29,\n 21,\n 29,\n 29,\n 42,\n 42,\n 16,\n 29,\n 91,\n 91,\n 16,\n 16,\n 42,\n 42,\n 16,\n 42,\n 16,\n 60,\n 104,\n 104,\n 104,\n 42,\n 24,\n 29,\n 117,\n 117,\n 117,\n 117,\n 117,\n 55,\n 24,\n 73,\n 24,\n 117,\n 16,\n 16,\n 16,\n 42,\n 24,\n 37,\n 37,\n 37,\n 24,\n 24,\n 86,\n 86,\n 37,\n 130,\n 37,\n 37,\n 37,\n 37,\n 55,\n 55,\n 11,\n 24,\n 99,\n 99,\n 24,\n 24,\n 24,\n 143,\n 112,\n 50,\n 112,\n 24,\n 112,\n 112,\n 68,\n 68,\n 11,\n 112,\n 50,\n 50,\n 11,\n 11,\n 125,\n 125,\n 32,\n 125,\n 32,\n 125,\n 32,\n 32,\n 81,\n 81,\n 19,\n 125,\n 32,\n 32,\n 32,\n 32,\n 32,\n 50,\n 19,\n 45,\n 19,\n 45,\n 94,\n 94,\n 94,\n 45,\n 19,\n 19,\n 45,\n 45,\n 19,\n 19,\n 45,\n 45,\n 107,\n 63,\n 107,\n 58,\n 107,\n 107,\n 45,\n 45,\n 14,\n 32,\n 120,\n 120,\n 120,\n 120,\n 120,\n 120,\n 27,\n 58,\n 27,\n 76,\n 27,\n 27,\n 120,\n 120,\n 27,\n 19,\n 19,\n 19,\n 27,\n 27,\n 40,\n 40,\n 27,\n 40,\n 27,\n 133,\n 89,\n 89,\n 89,\n 133,\n 14,\n 133,\n 40,\n 40,\n 40,\n 40,\n 40,\n 32,\n 14,\n 58,\n 14,\n 53,\n 102,\n 102,\n 102,\n 40,\n 115,\n 27,\n 27,\n 27,\n 115,\n 115,\n 53,\n 53,\n 115,\n 27,\n 115,\n 53,\n 71,\n 71,\n 71,\n 97,\n 22,\n 115,\n 53,\n 53,\n 14,\n 14,\n 14,\n 40,\n 35,\n 128,\n 35,\n 128,\n 35,\n 35,\n 128,\n 128,\n 22,\n 35,\n 84,\n 84,\n 22,\n 22,\n 128,\n 128,\n 35,\n 35,\n 35,\n 27,\n 35,\n 35,\n 53,\n 53,\n 22,\n 48,\n 22,\n 22,\n 97,\n 97,\n 97,\n 141,\n 22,\n 48,\n 22,\n 141,\n 48,\n 48,\n 48,\n 97,\n 110,\n 22,\n 48,\n 48,\n 110,\n 110,\n 66,\n 66,\n 110,\n 61,\n 110,\n 35,\n 48,\n 48,\n 48,\n 61,\n 9,\n 35,\n 123,\n 123,\n 123,\n 123,\n 123,\n 61,\n 30,\n 123,\n 30,\n 123,\n 30,\n 30,\n 79,\n 79,\n 30,\n 30,\n 123,\n 123,\n 30,\n 30,\n 22,\n 22,\n 30,\n 22,\n 30,\n 48,\n 43,\n 43,\n 43,\n 136,\n 17,\n 43,\n 30,\n 30,\n 92,\n 92,\n 92,\n 43,\n 17,\n 136,\n 17,\n 30,\n 43,\n 43,\n 43,\n 87,\n 17,\n 43,\n 43,\n 43,\n 17,\n 17,\n 61,\n 61,\n 105,\n 56,\n 105,\n 30,\n 105,\n 105,\n 43,\n 43,\n 25,\n 30,\n 30,\n 30,\n 118,\n 118,\n 118,\n 30,\n 118,\n 56,\n 118,\n 118,\n 118,\n 118,\n 56,\n 56,\n 25,\n 74,\n 74,\n 74,\n 25,\n 25,\n 118,\n 118,\n 17,\n 56,\n 17,\n 69,\n 17,\n 17,\n 43,\n 43,\n 25,\n 131,\n 38,\n 38,\n 38,\n 38,\n 38,\n 69,\n 25,\n 131,\n 25,\n 131,\n 87,\n 87,\n 87,\n 131,\n 38,\n 25,\n 131,\n 131,\n 38,\n 38,\n 38,\n 38,\n 38,\n 30,\n 38,\n 30,\n 56,\n 56,\n 56,\n 131,\n 12,\n 51,\n 25,\n 25,\n 100,\n 100,\n 100,\n 38,\n 25,\n 144,\n 25,\n 100,\n 25,\n 25,\n 144,\n 144,\n 113,\n 51,\n 51,\n 51,\n 113,\n 113,\n 25,\n 25,\n 113,\n 51,\n 113,\n 144,\n 69,\n 69,\n 69,\n 95,\n 12,\n 64,\n 113,\n 113,\n 51,\n 51,\n 51,\n 64,\n 12,\n 64,\n 12,\n 38,\n 126,\n 126,\n 126,\n 38,\n 33,\n 126,\n 126,\n 126,\n 33,\n 33,\n 126,\n 126,\n 33,\n 126,\n 33,\n 64,\n 82,\n 82,\n 82,\n 170,\n 20,\n 33,\n 126,\n 126,\n 33,\n 33,\n 33,\n 64,\n 33,\n 25,\n 33,\n 25,\n 33,\n 33,\n 51,\n 51,\n 20,\n 46,\n 46,\n 46,\n 20,\n 20,\n 46,\n 46,\n 95,\n 33,\n 95,\n 139,\n 95,\n 95,\n 46,\n 46,\n 20,\n 139,\n 20,\n 20,\n 46,\n 46,\n 46,\n 95,\n 20,\n 90,\n 20,\n 46,\n 46,\n 46,\n 46,\n 139,\n 108,\n 20,\n 64,\n 64,\n 108,\n 108,\n 59,\n 59,\n 108,\n 33,\n 108,\n 152,\n 46,\n 46,\n 46,\n 59,\n 15,\n 33,\n 33,\n 33,\n 121,\n 121,\n 121,\n 152,\n 121,\n 33,\n 121,\n 59,\n 121,\n 121,\n 121,\n 121,\n 28,\n 121,\n 59,\n 59,\n 28,\n 28,\n 77,\n 77,\n 28,\n 77,\n 28,\n 103,\n 121,\n 121,\n 121,\n 72,\n 28,\n 59,\n 20,\n 20,\n 20,\n 20,\n 20,\n 72,\n 28,\n 46,\n 28,\n 134,\n 41,\n 41,\n 41,\n 134,\n 28,\n 41,\n 41,\n 41,\n 28,\n 28,\n 134,\n 134,\n 90,\n 134,\n 90,\n 41,\n 90,\n 90,\n 134,\n 134,\n 15,\n 28,\n 134,\n 134,\n 41,\n 41,\n 41,\n 85,\n 41,\n 41,\n 41,\n 41,\n 41,\n 41,\n 33,\n 33,\n 15,\n 59,\n 59,\n 59,\n 15,\n 15,\n 54,\n 54,\n 103,\n 28,\n 103,\n 147,\n 103,\n 103,\n 41,\n 41,\n 116,\n 147,\n 28,\n 28,\n 28,\n 28,\n 28,\n 178,\n 116,\n 147,\n 116,\n 28,\n 54,\n 54,\n 54,\n 147,\n 116,\n 116,\n 28,\n 28,\n 116,\n 116,\n 54,\n 54,\n 72,\n 147,\n 72,\n 46,\n 72,\n 72,\n 98,\n 98,\n 23,\n 67,\n 116,\n 116,\n 54,\n 54,\n 54,\n 116,\n 15,\n 67,\n 15,\n 54,\n 15,\n 15,\n 41,\n 41,\n 36,\n 129,\n 129,\n 129,\n 36,\n 36,\n 129,\n 129,\n 36,\n 129,\n 36,\n 67,\n 129,\n 129,\n 129,\n 116,\n 23,\n 129,\n 36,\n 36,\n 85,\n 85,\n 85,\n 129,\n 23,\n 173,\n 23,\n 85,\n 129,\n 129,\n 129,\n 36,\n 36,\n 36,\n 36,\n 36,\n 36,\n 36,\n 28,\n 28,\n 36,\n 28,\n 36,\n 28,\n 54,\n 54,\n 54,\n 129,\n 23,\n 49,\n 49,\n 49,\n 23,\n 23,\n 23,\n 142,\n 98,\n 49,\n 98,\n 36,\n 98,\n 98,\n 142,\n 142,\n 23,\n 98,\n 49,\n 49,\n 23,\n 23,\n 142,\n 142,\n 49,\n 23,\n 49,\n 36,\n 49,\n 49,\n 98,\n 98,\n 111,\n 93,\n 23,\n 23,\n 49,\n 49,\n 49,\n 49,\n 111,\n ...]"
     },
     "execution_count": 8,
     "metadata": {},
     "output_type": "execute_result"
    }
   ],
   "source": [
    "with Pool(processes=processes) as pool:\n",
    "    res = pool.map(collatz_len, inpt)\n",
    "res"
   ],
   "metadata": {
    "collapsed": false,
    "pycharm": {
     "is_executing": true
    },
    "ExecuteTime": {
     "end_time": "2024-04-21T21:54:09.990544245Z",
     "start_time": "2024-04-21T21:54:09.253917030Z"
    }
   }
  },
  {
   "cell_type": "markdown",
   "source": [],
   "metadata": {
    "collapsed": false
   }
  }
 ],
 "metadata": {
  "kernelspec": {
   "display_name": "Python 3",
   "language": "python",
   "name": "python3"
  },
  "language_info": {
   "codemirror_mode": {
    "name": "ipython",
    "version": 2
   },
   "file_extension": ".py",
   "mimetype": "text/x-python",
   "name": "python",
   "nbconvert_exporter": "python",
   "pygments_lexer": "ipython2",
   "version": "2.7.6"
  }
 },
 "nbformat": 4,
 "nbformat_minor": 0
}
