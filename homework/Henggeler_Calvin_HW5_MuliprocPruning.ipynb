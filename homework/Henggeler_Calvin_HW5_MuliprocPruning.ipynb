{
 "cells": [
  {
   "cell_type": "markdown",
   "source": [
    "# Homework 5: Multiprocessing and Pruning\n",
    "### Author: Calvin Henggeler\n",
    "### Dataset: Housing.csv\n",
    "\n",
    "## A. Multiprocessing.\n",
    "The Collatz conjecture says that if you start with a positive integer, divide by 2 when even, and multiply by 3 and add 1 when odd, you will eventually arrive at 1. For example,\n",
    "12 -> 6 -> 3 -> 10 -> 5 -> 16 -> 8 -> 4 -> 2 -> 1\n",
    "9 -> 28 -> 14 -> 7 -> 22 -> 11 -> 34 -> 17 -> 52 -> 26 -> 13 -> 40 -> 20 -> 10 -> 5 -> 16 -> 8 -> 4 -> 2 -> 1\n",
    "19 -> 58 -> 29 -> 88 -> 44 -> 22 -> 11 -> 34 -> 17 -> 52 -> 26 -> 13 -> 40 -> 20 -> 10 -> 5 -> 16 -> 8 -> 4 -> 2 -> 1\n",
    "We can define the Collatz length of n to be the number of steps required to arrive at 1 from n. So, the Collatz length of 12 is 9, the Collatz length of 9 is 19, and the Collatz length of 19 is 20.\n",
    "\n",
    "1. Write a function which accepts a positive integer n and returns the Collatz length of n.\n",
    "2. Use multiprocessing to get the Collatz lengths of the integers from 1 to 10**5.\n",
    "3. Create a scatterplot of the Collatz length of n vs n.\n",
    "\n",
    "## B. Pruning.\n",
    "\n",
    "1. Use the Titanic datasetLinks to an external site..\n",
    "2. Split the dataset into training and testing subsets.\n",
    "3. Select a suitable feature subset to predict the survived/died column.\n",
    "4. Train an unrestricted tree and compute its cost_complexity_pruning_path.\n",
    "5. Find the optimum value of alpha. Use 3-fold cross-validation.\n",
    "6. Train a tree, supplying the optimum value of alpha as a parameter.\n",
    "7. Report the accuracy on the test data."
   ],
   "metadata": {
    "collapsed": false
   }
  },
  {
   "cell_type": "code",
   "execution_count": 1,
   "outputs": [],
   "source": [
    "import pandas as pd\n",
    "import numpy as np\n",
    "import matplotlib.pyplot as plt"
   ],
   "metadata": {
    "collapsed": false
   }
  },
  {
   "cell_type": "markdown",
   "source": [
    "## A. Multiprocessing"
   ],
   "metadata": {
    "collapsed": false
   }
  },
  {
   "cell_type": "markdown",
   "source": [
    "#### 1. Write a function which accepts a positive integer n and returns the Callatz length of n"
   ],
   "metadata": {
    "collapsed": false
   }
  },
  {
   "cell_type": "code",
   "execution_count": 2,
   "outputs": [],
   "source": [
    "def collatz_len(n):\n",
    "    \"\"\" Finds the number of steps to arrive at 1 from the number n using the Collatz conjecture \"\"\"\n",
    "    steps = 0\n",
    "    while n != 1:\n",
    "        # n is even\n",
    "        if n % 2 == 0:\n",
    "            n = n/2\n",
    "        # n is odd\n",
    "        else:\n",
    "            n = 3*n + 1\n",
    "\n",
    "        steps = steps + 1\n",
    "    return steps"
   ],
   "metadata": {
    "collapsed": false
   }
  },
  {
   "cell_type": "markdown",
   "source": [
    "Test collatz_len()"
   ],
   "metadata": {
    "collapsed": false
   }
  },
  {
   "cell_type": "code",
   "execution_count": 3,
   "outputs": [],
   "source": [
    "a = collatz_len(12)"
   ],
   "metadata": {
    "collapsed": false
   }
  },
  {
   "cell_type": "code",
   "execution_count": 4,
   "outputs": [
    {
     "data": {
      "text/plain": "19"
     },
     "execution_count": 4,
     "metadata": {},
     "output_type": "execute_result"
    }
   ],
   "source": [
    "collatz_len(9)"
   ],
   "metadata": {
    "collapsed": false
   }
  },
  {
   "cell_type": "code",
   "execution_count": 5,
   "outputs": [
    {
     "data": {
      "text/plain": "128"
     },
     "execution_count": 5,
     "metadata": {},
     "output_type": "execute_result"
    }
   ],
   "source": [
    "collatz_len(100000)"
   ],
   "metadata": {
    "collapsed": false
   }
  },
  {
   "cell_type": "markdown",
   "source": [
    "#### 2. Use Multiprocessing to get the Collatz lengths for integers form 1 to 10**5 (100000)"
   ],
   "metadata": {
    "collapsed": false
   }
  },
  {
   "cell_type": "code",
   "execution_count": 6,
   "outputs": [],
   "source": [
    "# inpt = range(1,10**5)\n",
    "inpt = [1, 100, 1000, 10000, 100000]"
   ],
   "metadata": {
    "collapsed": false
   }
  },
  {
   "cell_type": "code",
   "execution_count": 7,
   "outputs": [],
   "source": [
    "from multiprocessing import Pool, cpu_count"
   ],
   "metadata": {
    "collapsed": false
   }
  },
  {
   "cell_type": "code",
   "execution_count": 8,
   "outputs": [
    {
     "data": {
      "text/plain": "7"
     },
     "execution_count": 8,
     "metadata": {},
     "output_type": "execute_result"
    }
   ],
   "source": [
    "processes = cpu_count() - 1\n",
    "processes"
   ],
   "metadata": {
    "collapsed": false
   }
  },
  {
   "cell_type": "code",
   "execution_count": 9,
   "outputs": [
    {
     "name": "stdout",
     "output_type": "stream",
     "text": [
      "[0, 25, 111, 29, 128]\n"
     ]
    }
   ],
   "source": [
    "res = map(collatz_len, inpt)\n",
    "print(list(res))"
   ],
   "metadata": {
    "collapsed": false
   }
  },
  {
   "cell_type": "code",
   "execution_count": null,
   "outputs": [],
   "source": [
    "with Pool(processes=processes) as pool:\n",
    "    res = pool.map(collatz_len, inpt)\n",
    "res"
   ],
   "metadata": {
    "collapsed": false,
    "pycharm": {
     "is_executing": true
    }
   }
  },
  {
   "cell_type": "markdown",
   "source": [],
   "metadata": {
    "collapsed": false
   }
  }
 ],
 "metadata": {
  "kernelspec": {
   "display_name": "Python 3",
   "language": "python",
   "name": "python3"
  },
  "language_info": {
   "codemirror_mode": {
    "name": "ipython",
    "version": 2
   },
   "file_extension": ".py",
   "mimetype": "text/x-python",
   "name": "python",
   "nbconvert_exporter": "python",
   "pygments_lexer": "ipython2",
   "version": "2.7.6"
  }
 },
 "nbformat": 4,
 "nbformat_minor": 0
}
