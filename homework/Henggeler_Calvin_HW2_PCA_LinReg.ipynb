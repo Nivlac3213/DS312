{
 "cells": [
  {
   "cell_type": "markdown",
   "source": [
    "DS312 Homework 2: Linear Regression with PCA\n",
    "============================================\n",
    "### Calvin Henggeler\n",
    "### Fall 2023\n",
    "\n",
    "Use the data county_info.csv under Files > data.\n",
    "\n",
    "1. Compute the annual population growth rate (%) over the time period.\n",
    "2. Compute the annual house value growth rate (%) over the time period\n",
    "3. Compute the annual birth rate over the measured time period.\n",
    "4. Use features: pop_foreigen_born, adult obesity rate, pop/sq mi, pop pct urban, poverty rate, median income, cost of living, annual pop growth rate,\n",
    "   annual house value growth rate. You should drop any rows lacking entries for any of the features (but do not drop any rows which have figures for all these features).\n",
    "   Adjust all dollar figures to 2022/03/01 using python's CPI package.\n",
    "5. Use linear regression to model the median house value in 2000 as a function of the features. Don't forget to split the data into training, validation, and test sets.\n",
    "6. Report the coefficient for each feature. Are there any which make you suspect multicollinearity?\n",
    "7. Investigate multicollinearity among the features by plotting the correlation heatmap.\n",
    "8. Normalize the data, then use PCA to transform the features into a new linearly independent feature set.\n",
    "9. Describe the principal (first) component as a linear combination of the given features.\n",
    "10. For k = 1, ...,n, train a linear model on the first k components, and score on the validation set.\n",
    "11. Graph the score vs number of components.\n",
    "12. Include on the same graph variance explained vs number of components."
   ],
   "metadata": {
    "collapsed": false
   }
  },
  {
   "cell_type": "code",
   "execution_count": 2,
   "outputs": [],
   "source": [
    "import pandas as pd\n",
    "import matplotlib.pyplot as plt"
   ],
   "metadata": {
    "collapsed": false
   }
  },
  {
   "cell_type": "code",
   "execution_count": 20,
   "outputs": [],
   "source": [
    "df = pd.read_csv('county_info.csv')"
   ],
   "metadata": {
    "collapsed": false
   }
  },
  {
   "cell_type": "code",
   "execution_count": 4,
   "outputs": [
    {
     "data": {
      "text/plain": "   fips state   county  pop_in_later_year  pop_ref_later_year     pop_f  \\\n0  1001    AL  Autauga            55308.0                2017   28306.0   \n1  1003    AL  Baldwin           212628.0                2017  107930.0   \n2  1005    AL  Barbour            26330.0                2017   12301.0   \n3  1007    AL     Bibb            22691.0                2017   10393.0   \n4  1009    AL   Blount            57952.0                2017   29352.0   \n\n      pop_m  pop_in_2000  median_age  median_age_f  ...  births_to_yr_int2  \\\n0   27002.0      43671.0        38.0          39.2  ...             2006.0   \n1  104698.0     140415.0        42.6          44.3  ...             2006.0   \n2   14029.0      29038.0        39.9          43.3  ...             2006.0   \n3   12298.0      20826.0        40.0          43.6  ...             2006.0   \n4   28600.0      51024.0        41.1          42.6  ...             2006.0   \n\n   pop_foreign_born  land_area_km2  land_area_mi2  water_area_km2  \\\n0            1170.0       1539.582        594.436          25.776   \n1           10881.0       4117.522       1589.784        1133.190   \n2             701.0       2291.819        884.876          50.865   \n3             232.0       1612.481        622.582           9.289   \n4            2638.0       1669.962        644.776          15.157   \n\n   water_area_mi2  total_area_km2  total_area_mi2   latitude  longitude  \n0           9.952        1565.358         604.388  32.536382 -86.644490  \n1         437.527        5250.712        2027.311  30.659218 -87.746067  \n2          19.639        2342.684         904.515  31.870670 -85.405456  \n3           3.587        1621.770         626.169  33.015893 -87.127148  \n4           5.852        1685.119         650.628  33.977448 -86.567246  \n\n[5 rows x 50 columns]",
      "text/html": "<div>\n<style scoped>\n    .dataframe tbody tr th:only-of-type {\n        vertical-align: middle;\n    }\n\n    .dataframe tbody tr th {\n        vertical-align: top;\n    }\n\n    .dataframe thead th {\n        text-align: right;\n    }\n</style>\n<table border=\"1\" class=\"dataframe\">\n  <thead>\n    <tr style=\"text-align: right;\">\n      <th></th>\n      <th>fips</th>\n      <th>state</th>\n      <th>county</th>\n      <th>pop_in_later_year</th>\n      <th>pop_ref_later_year</th>\n      <th>pop_f</th>\n      <th>pop_m</th>\n      <th>pop_in_2000</th>\n      <th>median_age</th>\n      <th>median_age_f</th>\n      <th>...</th>\n      <th>births_to_yr_int2</th>\n      <th>pop_foreign_born</th>\n      <th>land_area_km2</th>\n      <th>land_area_mi2</th>\n      <th>water_area_km2</th>\n      <th>water_area_mi2</th>\n      <th>total_area_km2</th>\n      <th>total_area_mi2</th>\n      <th>latitude</th>\n      <th>longitude</th>\n    </tr>\n  </thead>\n  <tbody>\n    <tr>\n      <th>0</th>\n      <td>1001</td>\n      <td>AL</td>\n      <td>Autauga</td>\n      <td>55308.0</td>\n      <td>2017</td>\n      <td>28306.0</td>\n      <td>27002.0</td>\n      <td>43671.0</td>\n      <td>38.0</td>\n      <td>39.2</td>\n      <td>...</td>\n      <td>2006.0</td>\n      <td>1170.0</td>\n      <td>1539.582</td>\n      <td>594.436</td>\n      <td>25.776</td>\n      <td>9.952</td>\n      <td>1565.358</td>\n      <td>604.388</td>\n      <td>32.536382</td>\n      <td>-86.644490</td>\n    </tr>\n    <tr>\n      <th>1</th>\n      <td>1003</td>\n      <td>AL</td>\n      <td>Baldwin</td>\n      <td>212628.0</td>\n      <td>2017</td>\n      <td>107930.0</td>\n      <td>104698.0</td>\n      <td>140415.0</td>\n      <td>42.6</td>\n      <td>44.3</td>\n      <td>...</td>\n      <td>2006.0</td>\n      <td>10881.0</td>\n      <td>4117.522</td>\n      <td>1589.784</td>\n      <td>1133.190</td>\n      <td>437.527</td>\n      <td>5250.712</td>\n      <td>2027.311</td>\n      <td>30.659218</td>\n      <td>-87.746067</td>\n    </tr>\n    <tr>\n      <th>2</th>\n      <td>1005</td>\n      <td>AL</td>\n      <td>Barbour</td>\n      <td>26330.0</td>\n      <td>2017</td>\n      <td>12301.0</td>\n      <td>14029.0</td>\n      <td>29038.0</td>\n      <td>39.9</td>\n      <td>43.3</td>\n      <td>...</td>\n      <td>2006.0</td>\n      <td>701.0</td>\n      <td>2291.819</td>\n      <td>884.876</td>\n      <td>50.865</td>\n      <td>19.639</td>\n      <td>2342.684</td>\n      <td>904.515</td>\n      <td>31.870670</td>\n      <td>-85.405456</td>\n    </tr>\n    <tr>\n      <th>3</th>\n      <td>1007</td>\n      <td>AL</td>\n      <td>Bibb</td>\n      <td>22691.0</td>\n      <td>2017</td>\n      <td>10393.0</td>\n      <td>12298.0</td>\n      <td>20826.0</td>\n      <td>40.0</td>\n      <td>43.6</td>\n      <td>...</td>\n      <td>2006.0</td>\n      <td>232.0</td>\n      <td>1612.481</td>\n      <td>622.582</td>\n      <td>9.289</td>\n      <td>3.587</td>\n      <td>1621.770</td>\n      <td>626.169</td>\n      <td>33.015893</td>\n      <td>-87.127148</td>\n    </tr>\n    <tr>\n      <th>4</th>\n      <td>1009</td>\n      <td>AL</td>\n      <td>Blount</td>\n      <td>57952.0</td>\n      <td>2017</td>\n      <td>29352.0</td>\n      <td>28600.0</td>\n      <td>51024.0</td>\n      <td>41.1</td>\n      <td>42.6</td>\n      <td>...</td>\n      <td>2006.0</td>\n      <td>2638.0</td>\n      <td>1669.962</td>\n      <td>644.776</td>\n      <td>15.157</td>\n      <td>5.852</td>\n      <td>1685.119</td>\n      <td>650.628</td>\n      <td>33.977448</td>\n      <td>-86.567246</td>\n    </tr>\n  </tbody>\n</table>\n<p>5 rows × 50 columns</p>\n</div>"
     },
     "execution_count": 4,
     "metadata": {},
     "output_type": "execute_result"
    }
   ],
   "source": [
    "df.head()"
   ],
   "metadata": {
    "collapsed": false
   }
  },
  {
   "cell_type": "code",
   "execution_count": 5,
   "outputs": [
    {
     "data": {
      "text/plain": "               fips  pop_in_later_year  pop_ref_later_year         pop_f  \\\ncount   3144.000000       3.143000e+03         3144.000000  3.143000e+03   \nmean   30426.815840       1.046328e+05         2016.538486  5.311072e+04   \nstd    15162.977553       3.339503e+05            0.657162  1.699278e+05   \nmin     1001.000000       7.900000e+01         2005.000000  3.800000e+01   \n25%    18182.500000       1.119100e+04         2016.000000  5.555000e+03   \n50%    29182.000000       2.626200e+04         2017.000000  1.310700e+04   \n75%    45087.500000       6.787050e+04         2017.000000  3.414150e+04   \nmax    56045.000000       1.016351e+07         2017.000000  5.153936e+06   \n\n              pop_m   pop_in_2000   median_age  median_age_f  median_age_m  \\\ncount  3.143000e+03  3.140000e+03  3144.000000   3138.000000   3138.000000   \nmean   5.152209e+04  9.028927e+04    41.477195     42.799968     40.241714   \nstd    1.640617e+05  2.934152e+05     5.389288      5.474568      5.463137   \nmin    4.100000e+01  6.700000e+01    21.700000     22.600000     21.300000   \n25%    5.646000e+03  1.127400e+04    38.200000     39.500000     36.900000   \n50%    1.313600e+04  2.475200e+04    41.500000     43.000000     40.100000   \n75%    3.412500e+04  6.213825e+04    44.500000     46.000000     43.300000   \nmax    5.009571e+06  9.519338e+06    67.600000     67.800000     67.200000   \n\n       median_house_income_2017  ...  births_to_yr_int2  pop_foreign_born  \\\ncount               3144.000000  ...             3142.0      3.143000e+03   \nmean               51610.303753  ...             2006.0      1.435947e+04   \nstd                13653.386549  ...                0.0      9.346699e+04   \nmin                20025.000000  ...             2006.0      0.000000e+00   \n25%                42632.750000  ...             2006.0      1.920000e+02   \n50%                49810.000000  ...             2006.0      6.680000e+02   \n75%                57890.250000  ...             2006.0      2.961500e+03   \nmax               135842.000000  ...             2006.0      3.482367e+06   \n\n       land_area_km2  land_area_mi2  water_area_km2  water_area_mi2  \\\ncount    3144.000000    3144.000000     3142.000000     3142.000000   \nmean     2909.230355    1123.260163      218.300708       84.286379   \nstd      9352.259303    3610.927669     1217.424055      470.050078   \nmin         5.177000       1.999000        0.003000        0.001000   \n25%      1115.376000     430.649250        7.156000        2.763250   \n50%      1594.389500     615.597500       19.373000        7.480000   \n75%      2392.932250     923.916000       60.647000       23.416000   \nmax    376855.656000  145504.789000    25190.644000     9726.162000   \n\n       total_area_km2  total_area_mi2     latitude    longitude  \ncount     3144.000000     3144.000000  3144.000000  3144.000000  \nmean      3127.392193     1207.492925    38.446272   -92.255665  \nstd       9912.130123     3827.095010     5.292499    12.937532  \nmin          5.177000        1.999000    19.597764  -178.338813  \n25%       1154.607750      445.796750    34.699969   -98.217051  \n50%       1686.876500      651.307000    38.363697   -90.360508  \n75%       2552.592000      985.561750    41.808187   -83.417609  \nmax     382812.220000   147804.631000    69.449343   -67.609354  \n\n[8 rows x 48 columns]",
      "text/html": "<div>\n<style scoped>\n    .dataframe tbody tr th:only-of-type {\n        vertical-align: middle;\n    }\n\n    .dataframe tbody tr th {\n        vertical-align: top;\n    }\n\n    .dataframe thead th {\n        text-align: right;\n    }\n</style>\n<table border=\"1\" class=\"dataframe\">\n  <thead>\n    <tr style=\"text-align: right;\">\n      <th></th>\n      <th>fips</th>\n      <th>pop_in_later_year</th>\n      <th>pop_ref_later_year</th>\n      <th>pop_f</th>\n      <th>pop_m</th>\n      <th>pop_in_2000</th>\n      <th>median_age</th>\n      <th>median_age_f</th>\n      <th>median_age_m</th>\n      <th>median_house_income_2017</th>\n      <th>...</th>\n      <th>births_to_yr_int2</th>\n      <th>pop_foreign_born</th>\n      <th>land_area_km2</th>\n      <th>land_area_mi2</th>\n      <th>water_area_km2</th>\n      <th>water_area_mi2</th>\n      <th>total_area_km2</th>\n      <th>total_area_mi2</th>\n      <th>latitude</th>\n      <th>longitude</th>\n    </tr>\n  </thead>\n  <tbody>\n    <tr>\n      <th>count</th>\n      <td>3144.000000</td>\n      <td>3.143000e+03</td>\n      <td>3144.000000</td>\n      <td>3.143000e+03</td>\n      <td>3.143000e+03</td>\n      <td>3.140000e+03</td>\n      <td>3144.000000</td>\n      <td>3138.000000</td>\n      <td>3138.000000</td>\n      <td>3144.000000</td>\n      <td>...</td>\n      <td>3142.0</td>\n      <td>3.143000e+03</td>\n      <td>3144.000000</td>\n      <td>3144.000000</td>\n      <td>3142.000000</td>\n      <td>3142.000000</td>\n      <td>3144.000000</td>\n      <td>3144.000000</td>\n      <td>3144.000000</td>\n      <td>3144.000000</td>\n    </tr>\n    <tr>\n      <th>mean</th>\n      <td>30426.815840</td>\n      <td>1.046328e+05</td>\n      <td>2016.538486</td>\n      <td>5.311072e+04</td>\n      <td>5.152209e+04</td>\n      <td>9.028927e+04</td>\n      <td>41.477195</td>\n      <td>42.799968</td>\n      <td>40.241714</td>\n      <td>51610.303753</td>\n      <td>...</td>\n      <td>2006.0</td>\n      <td>1.435947e+04</td>\n      <td>2909.230355</td>\n      <td>1123.260163</td>\n      <td>218.300708</td>\n      <td>84.286379</td>\n      <td>3127.392193</td>\n      <td>1207.492925</td>\n      <td>38.446272</td>\n      <td>-92.255665</td>\n    </tr>\n    <tr>\n      <th>std</th>\n      <td>15162.977553</td>\n      <td>3.339503e+05</td>\n      <td>0.657162</td>\n      <td>1.699278e+05</td>\n      <td>1.640617e+05</td>\n      <td>2.934152e+05</td>\n      <td>5.389288</td>\n      <td>5.474568</td>\n      <td>5.463137</td>\n      <td>13653.386549</td>\n      <td>...</td>\n      <td>0.0</td>\n      <td>9.346699e+04</td>\n      <td>9352.259303</td>\n      <td>3610.927669</td>\n      <td>1217.424055</td>\n      <td>470.050078</td>\n      <td>9912.130123</td>\n      <td>3827.095010</td>\n      <td>5.292499</td>\n      <td>12.937532</td>\n    </tr>\n    <tr>\n      <th>min</th>\n      <td>1001.000000</td>\n      <td>7.900000e+01</td>\n      <td>2005.000000</td>\n      <td>3.800000e+01</td>\n      <td>4.100000e+01</td>\n      <td>6.700000e+01</td>\n      <td>21.700000</td>\n      <td>22.600000</td>\n      <td>21.300000</td>\n      <td>20025.000000</td>\n      <td>...</td>\n      <td>2006.0</td>\n      <td>0.000000e+00</td>\n      <td>5.177000</td>\n      <td>1.999000</td>\n      <td>0.003000</td>\n      <td>0.001000</td>\n      <td>5.177000</td>\n      <td>1.999000</td>\n      <td>19.597764</td>\n      <td>-178.338813</td>\n    </tr>\n    <tr>\n      <th>25%</th>\n      <td>18182.500000</td>\n      <td>1.119100e+04</td>\n      <td>2016.000000</td>\n      <td>5.555000e+03</td>\n      <td>5.646000e+03</td>\n      <td>1.127400e+04</td>\n      <td>38.200000</td>\n      <td>39.500000</td>\n      <td>36.900000</td>\n      <td>42632.750000</td>\n      <td>...</td>\n      <td>2006.0</td>\n      <td>1.920000e+02</td>\n      <td>1115.376000</td>\n      <td>430.649250</td>\n      <td>7.156000</td>\n      <td>2.763250</td>\n      <td>1154.607750</td>\n      <td>445.796750</td>\n      <td>34.699969</td>\n      <td>-98.217051</td>\n    </tr>\n    <tr>\n      <th>50%</th>\n      <td>29182.000000</td>\n      <td>2.626200e+04</td>\n      <td>2017.000000</td>\n      <td>1.310700e+04</td>\n      <td>1.313600e+04</td>\n      <td>2.475200e+04</td>\n      <td>41.500000</td>\n      <td>43.000000</td>\n      <td>40.100000</td>\n      <td>49810.000000</td>\n      <td>...</td>\n      <td>2006.0</td>\n      <td>6.680000e+02</td>\n      <td>1594.389500</td>\n      <td>615.597500</td>\n      <td>19.373000</td>\n      <td>7.480000</td>\n      <td>1686.876500</td>\n      <td>651.307000</td>\n      <td>38.363697</td>\n      <td>-90.360508</td>\n    </tr>\n    <tr>\n      <th>75%</th>\n      <td>45087.500000</td>\n      <td>6.787050e+04</td>\n      <td>2017.000000</td>\n      <td>3.414150e+04</td>\n      <td>3.412500e+04</td>\n      <td>6.213825e+04</td>\n      <td>44.500000</td>\n      <td>46.000000</td>\n      <td>43.300000</td>\n      <td>57890.250000</td>\n      <td>...</td>\n      <td>2006.0</td>\n      <td>2.961500e+03</td>\n      <td>2392.932250</td>\n      <td>923.916000</td>\n      <td>60.647000</td>\n      <td>23.416000</td>\n      <td>2552.592000</td>\n      <td>985.561750</td>\n      <td>41.808187</td>\n      <td>-83.417609</td>\n    </tr>\n    <tr>\n      <th>max</th>\n      <td>56045.000000</td>\n      <td>1.016351e+07</td>\n      <td>2017.000000</td>\n      <td>5.153936e+06</td>\n      <td>5.009571e+06</td>\n      <td>9.519338e+06</td>\n      <td>67.600000</td>\n      <td>67.800000</td>\n      <td>67.200000</td>\n      <td>135842.000000</td>\n      <td>...</td>\n      <td>2006.0</td>\n      <td>3.482367e+06</td>\n      <td>376855.656000</td>\n      <td>145504.789000</td>\n      <td>25190.644000</td>\n      <td>9726.162000</td>\n      <td>382812.220000</td>\n      <td>147804.631000</td>\n      <td>69.449343</td>\n      <td>-67.609354</td>\n    </tr>\n  </tbody>\n</table>\n<p>8 rows × 48 columns</p>\n</div>"
     },
     "execution_count": 5,
     "metadata": {},
     "output_type": "execute_result"
    }
   ],
   "source": [
    "df.describe()"
   ],
   "metadata": {
    "collapsed": false
   }
  },
  {
   "cell_type": "code",
   "execution_count": 21,
   "outputs": [
    {
     "data": {
      "text/plain": "(3144, 50)"
     },
     "execution_count": 21,
     "metadata": {},
     "output_type": "execute_result"
    }
   ],
   "source": [
    "df.shape"
   ],
   "metadata": {
    "collapsed": false
   }
  },
  {
   "cell_type": "code",
   "execution_count": 9,
   "outputs": [
    {
     "data": {
      "text/plain": "0       26.646974\n1       51.428266\n2       -9.325711\n3        8.955152\n4       13.577924\n          ...    \n3139    18.379284\n3140    23.160375\n3141     5.151454\n3142     0.096513\n3143     7.299819\nName: growth_rate_perc, Length: 3144, dtype: float64"
     },
     "execution_count": 9,
     "metadata": {},
     "output_type": "execute_result"
    }
   ],
   "source": [
    "# 1) Annual population growth rate percentage\n",
    "# Compound Annual Growth Rate = ( (EV/BV)^(1/n) - 1 ) * 100 where\n",
    "# BV: Beginning value\n",
    "# EV: Ending value\n",
    "# n : Number of years\n",
    "# https://www.investopedia.com/terms/c/cagr.asp#:~:text=Divide%20the%20value%20of%20an,the%20answer%20into%20a%20percentage.\n",
    "df['annual_pop_growth_rate'] = ((df['pop_in_later_year'] - df['pop_in_2000']) / df['pop_in_2000']) * 100\n",
    "df['annual_pop_growth_rate']"
   ],
   "metadata": {
    "collapsed": false
   }
  },
  {
   "cell_type": "code",
   "execution_count": 17,
   "outputs": [
    {
     "data": {
      "text/plain": "0    85.404848\n1    89.743590\n2    66.991259\n3    96.597561\n4    69.975293\nName: med_house_value_growth_rate_perc, dtype: float64"
     },
     "execution_count": 17,
     "metadata": {},
     "output_type": "execute_result"
    }
   ],
   "source": [
    "# 2) Annual House value growth rate percentage\n",
    "df['annual_house_value_growth_rate'] = ((df['median_house_value_2017'] - df['median_house_value_2000']) / df['median_house_value_2000']) * 100\n",
    "df['annual_house_value_growth_rate'].head()"
   ],
   "metadata": {
    "collapsed": false
   }
  },
  {
   "cell_type": "code",
   "execution_count": 18,
   "outputs": [],
   "source": [
    "# 3) Annual birth rate over measured period"
   ],
   "metadata": {
    "collapsed": false
   }
  },
  {
   "cell_type": "code",
   "execution_count": null,
   "outputs": [],
   "source": [
    "# 4)\n",
    "features = ['pop_foreigen_born' , 'adult_obes_rate', 'pop_per_sq_mi', 'pop_percent_urban', 'poverty_pct' , 'median_house_income_2017',\n",
    "            'cost_of_living_usd', annual pop growth rate, annual house value growth rate']"
   ],
   "metadata": {
    "collapsed": false
   }
  },
  {
   "cell_type": "code",
   "execution_count": 19,
   "outputs": [
    {
     "data": {
      "text/plain": "Index(['fips', 'state', 'county', 'pop_in_later_year', 'pop_ref_later_year',\n       'pop_f', 'pop_m', 'pop_in_2000', 'median_age', 'median_age_f',\n       'median_age_m', 'median_house_income_2017',\n       'median_house_income_ref_val', 'median_house_income_ref_yr',\n       'median_house_value_2017', 'median_house_value_2000',\n       'avg_household_size', 'mar_coup_w_children', 'cost_of_living_usd',\n       'cost_of_living_yr', 'poverty_pct', 'adult_obes_rate',\n       'presch_obes_rate', 'commute_minutes', 'pop_per_sq_mi',\n       'pop_percent_urban', 'unemploy_rate', 'unemploy_date', 'rent_1br_usd',\n       'rent_2br_usd', 'rent_3br_usd', 'avg_farm_size', 'avg_farm_sales_usd',\n       'pct_farms_fam_op', 'avg_farm_mach_val_usd', 'birth_per_1000_int1',\n       'births_from_yr_int1', 'births_from_yr_int2', 'birth_per_1000_int2',\n       'births_to_yr_int1', 'births_to_yr_int2', 'pop_foreign_born',\n       'land_area_km2', 'land_area_mi2', 'water_area_km2', 'water_area_mi2',\n       'total_area_km2', 'total_area_mi2', 'latitude', 'longitude',\n       'med_house_value_growth_rate_perc'],\n      dtype='object')"
     },
     "execution_count": 19,
     "metadata": {},
     "output_type": "execute_result"
    }
   ],
   "source": [
    "df.columns"
   ],
   "metadata": {
    "collapsed": false
   }
  },
  {
   "cell_type": "code",
   "execution_count": null,
   "outputs": [],
   "source": [],
   "metadata": {
    "collapsed": false
   }
  }
 ],
 "metadata": {
  "kernelspec": {
   "display_name": "Python 3",
   "language": "python",
   "name": "python3"
  },
  "language_info": {
   "codemirror_mode": {
    "name": "ipython",
    "version": 2
   },
   "file_extension": ".py",
   "mimetype": "text/x-python",
   "name": "python",
   "nbconvert_exporter": "python",
   "pygments_lexer": "ipython2",
   "version": "2.7.6"
  }
 },
 "nbformat": 4,
 "nbformat_minor": 0
}
