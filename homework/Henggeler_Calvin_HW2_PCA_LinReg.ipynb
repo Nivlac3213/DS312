{
 "cells": [
  {
   "cell_type": "markdown",
   "source": [
    "DS312 Homework 2: Linear Regression with PCA\n",
    "============================================\n",
    "### Calvin Henggeler\n",
    "### Fall 2023\n",
    "\n",
    "Use the data county_info.csv under Files > data.\n",
    "\n",
    "1. Compute the annual population growth rate (%) over the time period.\n",
    "2. Compute the annual house value growth rate (%) over the time period\n",
    "3. Compute the annual birth rate over the measured time period.\n",
    "4. Use features: pop_foreigen_born, adult obesity rate, pop/sq mi, pop pct urban, poverty rate, median income, cost of living, annual pop growth rate,\n",
    "   annual house value growth rate. You should drop any rows lacking entries for any of the features (but do not drop any rows which have figures for all these features).\n",
    "   Adjust all dollar figures to 2022/03/01 using python's CPI package.\n",
    "5. Use linear regression to model the median house value in 2000 as a function of the features. Don't forget to split the data into training, validation, and test sets.\n",
    "6. Report the coefficient for each feature. Are there any which make you suspect multicollinearity?\n",
    "7. Investigate multicollinearity among the features by plotting the correlation heatmap.\n",
    "8. Normalize the data, then use PCA to transform the features into a new linearly independent feature set.\n",
    "9. Describe the principal (first) component as a linear combination of the given features.\n",
    "10. For k = 1, ...,n, train a linear model on the first k components, and score on the validation set.\n",
    "11. Graph the score vs number of components.\n",
    "12. Include on the same graph variance explained vs number of components."
   ],
   "metadata": {
    "collapsed": false
   }
  },
  {
   "cell_type": "code",
   "execution_count": null,
   "outputs": [],
   "source": [
    "import pandas as pd\n",
    "import matplotlib.pyplot as plt"
   ],
   "metadata": {
    "collapsed": false,
    "pycharm": {
     "is_executing": true
    }
   }
  },
  {
   "cell_type": "code",
   "execution_count": null,
   "outputs": [],
   "source": [],
   "metadata": {
    "collapsed": false
   }
  }
 ],
 "metadata": {
  "kernelspec": {
   "display_name": "Python 3",
   "language": "python",
   "name": "python3"
  },
  "language_info": {
   "codemirror_mode": {
    "name": "ipython",
    "version": 2
   },
   "file_extension": ".py",
   "mimetype": "text/x-python",
   "name": "python",
   "nbconvert_exporter": "python",
   "pygments_lexer": "ipython2",
   "version": "2.7.6"
  }
 },
 "nbformat": 4,
 "nbformat_minor": 0
}
