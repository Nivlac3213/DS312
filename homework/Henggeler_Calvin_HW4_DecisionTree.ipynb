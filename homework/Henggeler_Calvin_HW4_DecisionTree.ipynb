{
 "cells": [
  {
   "cell_type": "markdown",
   "source": [],
   "metadata": {
    "collapsed": false
   }
  },
  {
   "cell_type": "markdown",
   "source": [
    "# Homework 4: Decision Tree\n",
    "## Author: Calvin Henggeler\n",
    "## Dataset: county_info"
   ],
   "metadata": {
    "collapsed": false
   }
  },
  {
   "cell_type": "markdown",
   "source": [
    "1) Begin with the same data set, feature set, and target variable as Homework 2: linear regression, PCA,\n",
    "2) Split the data into train/validation/test subsets.\n",
    "3) Train a decision tree and a linear model on the training data, score them each on the training data, then score them each on the validation data. Write a few sentences with any observations you have about the four accuracies.\n",
    "4) Report the depth of the tree which was fitted to the data.\n",
    "5) Now optimize the max_depth hyperparameter.\n",
    "6) Repeat steps 4 and 5 using entropy instead of gini impurity.\n",
    "7) Select the optimum criterion and max_depth. Compare the accuracy of this model to that of the linear model on the validation data.\n",
    "8) Select the best-performing model on the validation data, and report the accuracy of this model on the test set."
   ],
   "metadata": {
    "collapsed": false
   }
  },
  {
   "cell_type": "code",
   "execution_count": 2,
   "outputs": [],
   "source": [
    "import pandas as pd\n",
    "import numpy as np\n",
    "import matplotlib.pyplot as plt\n",
    "from sklearn.linear_model import LinearRegression\n",
    "from sklearn.tree import DecisionTreeRegressor\n",
    "from sklearn.model_selection import train_test_split"
   ],
   "metadata": {
    "collapsed": false,
    "ExecuteTime": {
     "end_time": "2023-10-06T18:41:45.673261900Z",
     "start_time": "2023-10-06T18:41:45.133574Z"
    }
   }
  },
  {
   "cell_type": "markdown",
   "source": [
    "### Begin with same dataset, feature set and target variable"
   ],
   "metadata": {
    "collapsed": false
   }
  },
  {
   "cell_type": "code",
   "execution_count": 3,
   "outputs": [],
   "source": [
    "df = pd.read_csv('../data/county_info.csv')"
   ],
   "metadata": {
    "collapsed": false,
    "ExecuteTime": {
     "end_time": "2023-10-06T22:01:52.375192900Z",
     "start_time": "2023-10-06T22:01:52.324621700Z"
    }
   }
  },
  {
   "cell_type": "markdown",
   "source": [
    "Calculate annual population and housing value growth rate"
   ],
   "metadata": {
    "collapsed": false
   }
  },
  {
   "cell_type": "code",
   "execution_count": 4,
   "outputs": [],
   "source": [
    "# Compound Annual Growth Rate = ( (EV/BV)^(1/n) - 1 ) * 100 where\n",
    "# BV: Beginning value\n",
    "# EV: Ending value\n",
    "# n : Number of years\n",
    "# https://www.investopedia.com/terms/c/cagr.asp#:~:text=Divide%20the%20value%20of%20an,the%20answer%20into%20a%20percentage.\n",
    "\n",
    "# Annual population growth rate percentage\n",
    "df['annual_pop_growth_rate'] = ((df['pop_in_later_year']/df['pop_in_2000'])**(1/(df['pop_ref_later_year']-2000))-1) * 100\n",
    "\n",
    "# Annual House value growth rate percentage\n",
    "df['annual_house_value_growth_rate'] = ((df['median_house_value_2017']/df['median_house_value_2000'])**(1/(2017-2000))-1) * 100"
   ],
   "metadata": {
    "collapsed": false,
    "ExecuteTime": {
     "end_time": "2023-10-06T22:01:56.720798100Z",
     "start_time": "2023-10-06T22:01:56.493139100Z"
    }
   }
  },
  {
   "cell_type": "markdown",
   "source": [
    "Define Features and Target Variable"
   ],
   "metadata": {
    "collapsed": false
   }
  },
  {
   "cell_type": "code",
   "execution_count": 5,
   "outputs": [],
   "source": [
    "features =  ['pop_foreign_born' , 'adult_obes_rate', 'pop_per_sq_mi','pop_percent_urban', 'poverty_pct', 'median_house_income_ref_val', 'median_house_income_ref_yr', 'median_house_income_2017', 'cost_of_living_usd','annual_pop_growth_rate', 'annual_house_value_growth_rate']\n",
    "\n",
    "target =    ['median_house_value_2000']\n",
    "\n",
    "df = df[features+target]\n",
    "df = df.dropna()"
   ],
   "metadata": {
    "collapsed": false,
    "ExecuteTime": {
     "end_time": "2023-10-06T22:08:47.213013200Z",
     "start_time": "2023-10-06T22:08:47.184119Z"
    }
   }
  },
  {
   "cell_type": "code",
   "execution_count": 6,
   "outputs": [
    {
     "data": {
      "text/plain": "   pop_foreign_born  adult_obes_rate  pop_per_sq_mi  pop_percent_urban  \\\n0            1170.0             30.0             93               58.0   \n1           10881.0             24.5            133               58.0   \n2             701.0             36.4             30               32.0   \n3             232.0             31.7             36               32.0   \n4            2638.0             31.5             90               10.0   \n\n   poverty_pct  median_house_income_ref_val  median_house_income_ref_yr  \\\n0         12.9                        42013                        1999   \n1          9.4                        40250                        1999   \n2         25.6                        25101                        1999   \n3         14.3                        31420                        1999   \n4         14.7                        35241                        1999   \n\n   median_house_income_2017  cost_of_living_usd  annual_pop_growth_rate  \\\n0                     57282                86.5                1.399308   \n1                     55342                86.9                2.470867   \n2                     34553                82.2               -0.574206   \n3                     44946                82.7                0.505782   \n4                     49096                82.6                0.751747   \n\n   annual_house_value_growth_rate  median_house_value_2000  \n0                        3.698346                  82500.0  \n1                        3.839544                 105300.0  \n2                        3.062253                  57200.0  \n3                        4.056521                  57400.0  \n4                        3.169685                  76900.0  ",
      "text/html": "<div>\n<style scoped>\n    .dataframe tbody tr th:only-of-type {\n        vertical-align: middle;\n    }\n\n    .dataframe tbody tr th {\n        vertical-align: top;\n    }\n\n    .dataframe thead th {\n        text-align: right;\n    }\n</style>\n<table border=\"1\" class=\"dataframe\">\n  <thead>\n    <tr style=\"text-align: right;\">\n      <th></th>\n      <th>pop_foreign_born</th>\n      <th>adult_obes_rate</th>\n      <th>pop_per_sq_mi</th>\n      <th>pop_percent_urban</th>\n      <th>poverty_pct</th>\n      <th>median_house_income_ref_val</th>\n      <th>median_house_income_ref_yr</th>\n      <th>median_house_income_2017</th>\n      <th>cost_of_living_usd</th>\n      <th>annual_pop_growth_rate</th>\n      <th>annual_house_value_growth_rate</th>\n      <th>median_house_value_2000</th>\n    </tr>\n  </thead>\n  <tbody>\n    <tr>\n      <th>0</th>\n      <td>1170.0</td>\n      <td>30.0</td>\n      <td>93</td>\n      <td>58.0</td>\n      <td>12.9</td>\n      <td>42013</td>\n      <td>1999</td>\n      <td>57282</td>\n      <td>86.5</td>\n      <td>1.399308</td>\n      <td>3.698346</td>\n      <td>82500.0</td>\n    </tr>\n    <tr>\n      <th>1</th>\n      <td>10881.0</td>\n      <td>24.5</td>\n      <td>133</td>\n      <td>58.0</td>\n      <td>9.4</td>\n      <td>40250</td>\n      <td>1999</td>\n      <td>55342</td>\n      <td>86.9</td>\n      <td>2.470867</td>\n      <td>3.839544</td>\n      <td>105300.0</td>\n    </tr>\n    <tr>\n      <th>2</th>\n      <td>701.0</td>\n      <td>36.4</td>\n      <td>30</td>\n      <td>32.0</td>\n      <td>25.6</td>\n      <td>25101</td>\n      <td>1999</td>\n      <td>34553</td>\n      <td>82.2</td>\n      <td>-0.574206</td>\n      <td>3.062253</td>\n      <td>57200.0</td>\n    </tr>\n    <tr>\n      <th>3</th>\n      <td>232.0</td>\n      <td>31.7</td>\n      <td>36</td>\n      <td>32.0</td>\n      <td>14.3</td>\n      <td>31420</td>\n      <td>1999</td>\n      <td>44946</td>\n      <td>82.7</td>\n      <td>0.505782</td>\n      <td>4.056521</td>\n      <td>57400.0</td>\n    </tr>\n    <tr>\n      <th>4</th>\n      <td>2638.0</td>\n      <td>31.5</td>\n      <td>90</td>\n      <td>10.0</td>\n      <td>14.7</td>\n      <td>35241</td>\n      <td>1999</td>\n      <td>49096</td>\n      <td>82.6</td>\n      <td>0.751747</td>\n      <td>3.169685</td>\n      <td>76900.0</td>\n    </tr>\n  </tbody>\n</table>\n</div>"
     },
     "execution_count": 6,
     "metadata": {},
     "output_type": "execute_result"
    }
   ],
   "source": [
    "df.head()"
   ],
   "metadata": {
    "collapsed": false,
    "ExecuteTime": {
     "end_time": "2023-10-06T21:44:23.096673300Z",
     "start_time": "2023-10-06T21:44:22.979816600Z"
    }
   }
  },
  {
   "cell_type": "markdown",
   "source": [
    "### Split to Train-Test-Validation Sets"
   ],
   "metadata": {
    "collapsed": false
   }
  },
  {
   "cell_type": "code",
   "execution_count": 9,
   "outputs": [],
   "source": [
    "x_tr, x_temp, y_tr, y_temp = train_test_split(df[features], df[target],\n",
    "                                              test_size=0.4, random_state=0)\n",
    "x_va, x_te, y_va, y_te = train_test_split(x_temp, y_temp,\n",
    "                                          test_size=0.5, random_state=0)"
   ],
   "metadata": {
    "collapsed": false,
    "ExecuteTime": {
     "end_time": "2023-10-06T22:55:50.039728800Z",
     "start_time": "2023-10-06T22:55:50.008911400Z"
    }
   }
  },
  {
   "cell_type": "markdown",
   "source": [
    "### Train a decision tree and a linear model on the training data, score them each on the training data, then score them each on the validation data.\n",
    "Write a few sentences with any observations you have about the four accuracies"
   ],
   "metadata": {
    "collapsed": false
   }
  },
  {
   "cell_type": "code",
   "execution_count": 10,
   "outputs": [],
   "source": [
    "# Instantiate the regression models\n",
    "lr = LinearRegression()\n",
    "tree = DecisionTreeRegressor()"
   ],
   "metadata": {
    "collapsed": false,
    "ExecuteTime": {
     "end_time": "2023-10-06T22:58:36.121112700Z",
     "start_time": "2023-10-06T22:58:36.093011400Z"
    }
   }
  },
  {
   "cell_type": "code",
   "execution_count": 11,
   "outputs": [
    {
     "data": {
      "text/plain": "DecisionTreeRegressor()",
      "text/html": "<style>#sk-container-id-1 {color: black;}#sk-container-id-1 pre{padding: 0;}#sk-container-id-1 div.sk-toggleable {background-color: white;}#sk-container-id-1 label.sk-toggleable__label {cursor: pointer;display: block;width: 100%;margin-bottom: 0;padding: 0.3em;box-sizing: border-box;text-align: center;}#sk-container-id-1 label.sk-toggleable__label-arrow:before {content: \"▸\";float: left;margin-right: 0.25em;color: #696969;}#sk-container-id-1 label.sk-toggleable__label-arrow:hover:before {color: black;}#sk-container-id-1 div.sk-estimator:hover label.sk-toggleable__label-arrow:before {color: black;}#sk-container-id-1 div.sk-toggleable__content {max-height: 0;max-width: 0;overflow: hidden;text-align: left;background-color: #f0f8ff;}#sk-container-id-1 div.sk-toggleable__content pre {margin: 0.2em;color: black;border-radius: 0.25em;background-color: #f0f8ff;}#sk-container-id-1 input.sk-toggleable__control:checked~div.sk-toggleable__content {max-height: 200px;max-width: 100%;overflow: auto;}#sk-container-id-1 input.sk-toggleable__control:checked~label.sk-toggleable__label-arrow:before {content: \"▾\";}#sk-container-id-1 div.sk-estimator input.sk-toggleable__control:checked~label.sk-toggleable__label {background-color: #d4ebff;}#sk-container-id-1 div.sk-label input.sk-toggleable__control:checked~label.sk-toggleable__label {background-color: #d4ebff;}#sk-container-id-1 input.sk-hidden--visually {border: 0;clip: rect(1px 1px 1px 1px);clip: rect(1px, 1px, 1px, 1px);height: 1px;margin: -1px;overflow: hidden;padding: 0;position: absolute;width: 1px;}#sk-container-id-1 div.sk-estimator {font-family: monospace;background-color: #f0f8ff;border: 1px dotted black;border-radius: 0.25em;box-sizing: border-box;margin-bottom: 0.5em;}#sk-container-id-1 div.sk-estimator:hover {background-color: #d4ebff;}#sk-container-id-1 div.sk-parallel-item::after {content: \"\";width: 100%;border-bottom: 1px solid gray;flex-grow: 1;}#sk-container-id-1 div.sk-label:hover label.sk-toggleable__label {background-color: #d4ebff;}#sk-container-id-1 div.sk-serial::before {content: \"\";position: absolute;border-left: 1px solid gray;box-sizing: border-box;top: 0;bottom: 0;left: 50%;z-index: 0;}#sk-container-id-1 div.sk-serial {display: flex;flex-direction: column;align-items: center;background-color: white;padding-right: 0.2em;padding-left: 0.2em;position: relative;}#sk-container-id-1 div.sk-item {position: relative;z-index: 1;}#sk-container-id-1 div.sk-parallel {display: flex;align-items: stretch;justify-content: center;background-color: white;position: relative;}#sk-container-id-1 div.sk-item::before, #sk-container-id-1 div.sk-parallel-item::before {content: \"\";position: absolute;border-left: 1px solid gray;box-sizing: border-box;top: 0;bottom: 0;left: 50%;z-index: -1;}#sk-container-id-1 div.sk-parallel-item {display: flex;flex-direction: column;z-index: 1;position: relative;background-color: white;}#sk-container-id-1 div.sk-parallel-item:first-child::after {align-self: flex-end;width: 50%;}#sk-container-id-1 div.sk-parallel-item:last-child::after {align-self: flex-start;width: 50%;}#sk-container-id-1 div.sk-parallel-item:only-child::after {width: 0;}#sk-container-id-1 div.sk-dashed-wrapped {border: 1px dashed gray;margin: 0 0.4em 0.5em 0.4em;box-sizing: border-box;padding-bottom: 0.4em;background-color: white;}#sk-container-id-1 div.sk-label label {font-family: monospace;font-weight: bold;display: inline-block;line-height: 1.2em;}#sk-container-id-1 div.sk-label-container {text-align: center;}#sk-container-id-1 div.sk-container {/* jupyter's `normalize.less` sets `[hidden] { display: none; }` but bootstrap.min.css set `[hidden] { display: none !important; }` so we also need the `!important` here to be able to override the default hidden behavior on the sphinx rendered scikit-learn.org. See: https://github.com/scikit-learn/scikit-learn/issues/21755 */display: inline-block !important;position: relative;}#sk-container-id-1 div.sk-text-repr-fallback {display: none;}</style><div id=\"sk-container-id-1\" class=\"sk-top-container\"><div class=\"sk-text-repr-fallback\"><pre>DecisionTreeRegressor()</pre><b>In a Jupyter environment, please rerun this cell to show the HTML representation or trust the notebook. <br />On GitHub, the HTML representation is unable to render, please try loading this page with nbviewer.org.</b></div><div class=\"sk-container\" hidden><div class=\"sk-item\"><div class=\"sk-estimator sk-toggleable\"><input class=\"sk-toggleable__control sk-hidden--visually\" id=\"sk-estimator-id-1\" type=\"checkbox\" checked><label for=\"sk-estimator-id-1\" class=\"sk-toggleable__label sk-toggleable__label-arrow\">DecisionTreeRegressor</label><div class=\"sk-toggleable__content\"><pre>DecisionTreeRegressor()</pre></div></div></div></div></div>"
     },
     "execution_count": 11,
     "metadata": {},
     "output_type": "execute_result"
    }
   ],
   "source": [
    "# Train the models\n",
    "lr.fit(x_tr, y_tr)\n",
    "tree.fit(x_tr, y_tr)"
   ],
   "metadata": {
    "collapsed": false,
    "ExecuteTime": {
     "end_time": "2023-10-06T22:59:07.873027200Z",
     "start_time": "2023-10-06T22:59:07.803117Z"
    }
   }
  },
  {
   "cell_type": "code",
   "execution_count": 12,
   "outputs": [],
   "source": [
    "# Score models on the training set\n",
    "lr_tr_score = lr.score(x_tr, y_tr)\n",
    "tree_tr_score = tree.score(x_tr, y_tr)"
   ],
   "metadata": {
    "collapsed": false,
    "ExecuteTime": {
     "end_time": "2023-10-06T23:00:28.651296700Z",
     "start_time": "2023-10-06T23:00:28.611994200Z"
    }
   }
  },
  {
   "cell_type": "code",
   "execution_count": 13,
   "outputs": [],
   "source": [
    "# Score models on the validation set\n",
    "lr_va_score = lr.score(x_va, y_va)\n",
    "tree_va_score = tree.score(x_va, y_va)"
   ],
   "metadata": {
    "collapsed": false,
    "ExecuteTime": {
     "end_time": "2023-10-06T23:01:26.487317400Z",
     "start_time": "2023-10-06T23:01:26.448843900Z"
    }
   }
  },
  {
   "cell_type": "code",
   "execution_count": 14,
   "outputs": [
    {
     "name": "stdout",
     "output_type": "stream",
     "text": [
      "Training Set Score: LinReg = 0.7190103762389861, Tree = 1.0\n",
      "Validation Set Score: LinReg = 0.7841104402489826, Tree = 0.703648347263492\n"
     ]
    }
   ],
   "source": [
    "print(f'Training Set Score: LinReg = {lr_tr_score}, Tree = {tree_tr_score}')\n",
    "print(f'Validation Set Score: LinReg = {lr_va_score}, Tree = {tree_va_score}')"
   ],
   "metadata": {
    "collapsed": false,
    "ExecuteTime": {
     "end_time": "2023-10-06T23:03:18.892177500Z",
     "start_time": "2023-10-06T23:03:18.843478300Z"
    }
   }
  },
  {
   "cell_type": "markdown",
   "source": [
    "The difference in performance of the models is very evident. The linear model had pretty good performance on both the training and validation sets. What is interesting is that the two scores from the linear model are somewhat close to each other, which implies that the model is not over fitting that bad and ins generalizing well over the unseen validation set. Conversely, the DecisionTree showed the exact opposite behavior. The perfect performance on the training set and significantly worse performance on the validation set show that the model is extremely over fit."
   ],
   "metadata": {
    "collapsed": false
   }
  },
  {
   "cell_type": "markdown",
   "source": [
    "### Report Tree Depth"
   ],
   "metadata": {
    "collapsed": false
   }
  },
  {
   "cell_type": "code",
   "execution_count": 15,
   "outputs": [
    {
     "data": {
      "text/plain": "27"
     },
     "execution_count": 15,
     "metadata": {},
     "output_type": "execute_result"
    }
   ],
   "source": [
    "tree.get_depth()"
   ],
   "metadata": {
    "collapsed": false,
    "ExecuteTime": {
     "end_time": "2023-10-06T23:09:32.296287600Z",
     "start_time": "2023-10-06T23:09:32.253686800Z"
    }
   }
  },
  {
   "cell_type": "markdown",
   "source": [
    "### Optimize Max Depth Hyperperameter"
   ],
   "metadata": {
    "collapsed": false
   }
  },
  {
   "cell_type": "code",
   "execution_count": 16,
   "outputs": [],
   "source": [
    "val_acc = []\n",
    "train_acc = []\n",
    "for i in range(1,28):\n",
    "       tr = DecisionTreeRegressor(max_depth=i, random_state=0)\n",
    "       tr.fit(x_tr, y_tr)\n",
    "       val_acc.append(tr.score(x_va, y_va))\n",
    "       train_acc.append(tr.score(x_tr, y_tr))"
   ],
   "metadata": {
    "collapsed": false,
    "ExecuteTime": {
     "end_time": "2023-10-06T23:20:34.843525600Z",
     "start_time": "2023-10-06T23:20:33.813235200Z"
    }
   }
  },
  {
   "cell_type": "code",
   "execution_count": 22,
   "outputs": [
    {
     "data": {
      "text/plain": "<matplotlib.legend.Legend at 0x1701e1acfd0>"
     },
     "execution_count": 22,
     "metadata": {},
     "output_type": "execute_result"
    },
    {
     "data": {
      "text/plain": "<Figure size 640x480 with 1 Axes>",
      "image/png": "[encoded data removed]"
     },
     "metadata": {},
     "output_type": "display_data"
    }
   ],
   "source": [
    "fig, ax = plt.subplots()\n",
    "plt.scatter(range(1,28), val_acc)\n",
    "plt.scatter(range(1,28), train_acc)\n",
    "ax.legend(['Val Score', 'Train Score'])"
   ],
   "metadata": {
    "collapsed": false,
    "ExecuteTime": {
     "end_time": "2023-10-06T23:20:36.380663200Z",
     "start_time": "2023-10-06T23:20:36.049060600Z"
    }
   }
  },
  {
   "cell_type": "markdown",
   "source": [
    "From eye-balling the graph, a tree depth of 5 seems to be the most optimal depth"
   ],
   "metadata": {
    "collapsed": false
   }
  },
  {
   "cell_type": "markdown",
   "source": [
    "## Repeat Optimization with non-default criterion"
   ],
   "metadata": {
    "collapsed": false
   }
  },
  {
   "cell_type": "code",
   "execution_count": 23,
   "outputs": [
    {
     "name": "stdout",
     "output_type": "stream",
     "text": [
      "squared_error: 27\n",
      "friedman_mse: 27\n",
      "absolute_error: 30\n",
      "poisson: 26\n"
     ]
    }
   ],
   "source": [
    "# Available Decision Tree Regressor Model Criterion\n",
    "criterion = ['squared_error', 'friedman_mse', 'absolute_error', 'poisson']\n",
    "\n",
    "for crit in criterion:\n",
    "    # Get the max tree depth\n",
    "    tree = DecisionTreeRegressor(criterion=crit)\n",
    "    tree.fit(x_tr, y_tr)\n",
    "    max_depth = tree.get_depth()\n",
    "    print(f'{crit}: {max_depth}')\n"
   ],
   "metadata": {
    "collapsed": false
   }
  },
  {
   "cell_type": "code",
   "execution_count": 26,
   "outputs": [
    {
     "name": "stdout",
     "output_type": "stream",
     "text": [
      "Sqared Error score: 0.7977904096391885\n"
     ]
    }
   ],
   "source": [
    "#\n",
    "# (Default) Squared Error, Depth 5\n",
    "#\n",
    "\n",
    "tr = DecisionTreeRegressor(max_depth=5, random_state=0)\n",
    "tr.fit(x_tr, y_tr)\n",
    "print('Sqared Error score:',tr.score(x_va, y_va))"
   ],
   "metadata": {
    "collapsed": false
   }
  },
  {
   "cell_type": "code",
   "execution_count": 25,
   "outputs": [
    {
     "data": {
      "text/plain": "Text(0.5, 1.0, 'Friedman MSE')"
     },
     "execution_count": 25,
     "metadata": {},
     "output_type": "execute_result"
    },
    {
     "data": {
      "text/plain": "<Figure size 640x480 with 1 Axes>",
      "image/png": "[encoded data removed]"
     },
     "metadata": {},
     "output_type": "display_data"
    }
   ],
   "source": [
    "#\n",
    "# Friedman MSE\n",
    "#\n",
    "\n",
    "val_acc = []\n",
    "train_acc = []\n",
    "for i in range(1, 28):\n",
    "    tr = DecisionTreeRegressor(criterion='friedman_mse' ,max_depth=i, random_state=0)\n",
    "    tr.fit(x_tr, y_tr)\n",
    "    val_acc.append(tr.score(x_va, y_va))\n",
    "    train_acc.append(tr.score(x_tr, y_tr))\n",
    "\n",
    "fig, ax = plt.subplots()\n",
    "plt.scatter(range(1, 28), val_acc)\n",
    "plt.scatter(range(1, 28), train_acc)\n",
    "ax.legend(['Val Score', 'Train Score'])\n",
    "ax.set_title('Friedman MSE')"
   ],
   "metadata": {
    "collapsed": false
   }
  },
  {
   "cell_type": "code",
   "execution_count": 28,
   "outputs": [
    {
     "name": "stdout",
     "output_type": "stream",
     "text": [
      "Friedman MSE score: 0.7977904096391885\n"
     ]
    }
   ],
   "source": [
    "tr = DecisionTreeRegressor(criterion='friedman_mse', max_depth=5, random_state=0)\n",
    "tr.fit(x_tr, y_tr)\n",
    "print('Friedman MSE score:',tr.score(x_va, y_va))"
   ],
   "metadata": {
    "collapsed": false
   }
  },
  {
   "cell_type": "code",
   "execution_count": 33,
   "outputs": [
    {
     "data": {
      "text/plain": "Text(0.5, 1.0, 'Absolute Error')"
     },
     "execution_count": 33,
     "metadata": {},
     "output_type": "execute_result"
    },
    {
     "data": {
      "text/plain": "<Figure size 640x480 with 1 Axes>",
      "image/png": "[encoded data removed]"
     },
     "metadata": {},
     "output_type": "display_data"
    }
   ],
   "source": [
    "#\n",
    "# Absolure Error\n",
    "#\n",
    "\n",
    "val_acc = []\n",
    "train_acc = []\n",
    "for i in range(1, 31):\n",
    "    tr = DecisionTreeRegressor(criterion='absolute_error', max_depth=i, random_state=0)\n",
    "    tr.fit(x_tr, y_tr)\n",
    "    val_acc.append(tr.score(x_va, y_va))\n",
    "    train_acc.append(tr.score(x_tr, y_tr))\n",
    "\n",
    "fig, ax = plt.subplots()\n",
    "plt.scatter(range(1, 31), val_acc)\n",
    "plt.scatter(range(1, 31), train_acc)\n",
    "ax.legend(['Val Score', 'Train Score'])\n",
    "ax.set_title('Absolute Error')"
   ],
   "metadata": {
    "collapsed": false
   }
  },
  {
   "cell_type": "code",
   "execution_count": 38,
   "outputs": [
    {
     "name": "stdout",
     "output_type": "stream",
     "text": [
      "Absolute Error score: 0.8479681145065142\n"
     ]
    }
   ],
   "source": [
    "tr = DecisionTreeRegressor(criterion='absolute_error', max_depth=5, random_state=0)\n",
    "tr.fit(x_tr, y_tr)\n",
    "print('Absolute Error score:', tr.score(x_va, y_va))"
   ],
   "metadata": {
    "collapsed": false
   }
  },
  {
   "cell_type": "code",
   "execution_count": 31,
   "outputs": [
    {
     "data": {
      "text/plain": "Text(0.5, 1.0, 'Poisson')"
     },
     "execution_count": 31,
     "metadata": {},
     "output_type": "execute_result"
    },
    {
     "data": {
      "text/plain": "<Figure size 640x480 with 1 Axes>",
      "image/png": "[encoded data removed]"
     },
     "metadata": {},
     "output_type": "display_data"
    }
   ],
   "source": [
    " #\n",
    "# Poisson\n",
    "#\n",
    "\n",
    "val_acc = []\n",
    "train_acc = []\n",
    "for i in range(1, 27):\n",
    "    tr = DecisionTreeRegressor(criterion='poisson', max_depth=i, random_state=0)\n",
    "    tr.fit(x_tr, y_tr)\n",
    "    val_acc.append(tr.score(x_va, y_va))\n",
    "    train_acc.append(tr.score(x_tr, y_tr))\n",
    "\n",
    "fig, ax = plt.subplots()\n",
    "plt.scatter(range(1, 27), val_acc)\n",
    "plt.scatter(range(1, 27), train_acc)\n",
    "ax.legend(['Val Score', 'Train Score'])\n",
    "ax.set_title('Poisson')"
   ],
   "metadata": {
    "collapsed": false
   }
  },
  {
   "cell_type": "code",
   "execution_count": 39,
   "outputs": [
    {
     "name": "stdout",
     "output_type": "stream",
     "text": [
      "Poisson score: 0.8051279105556743\n"
     ]
    }
   ],
   "source": [
    "tr = DecisionTreeRegressor(criterion='poisson', max_depth=5, random_state=0)\n",
    "tr.fit(x_tr, y_tr)\n",
    "print('Poisson score:', tr.score(x_va, y_va))"
   ],
   "metadata": {
    "collapsed": false
   }
  },
  {
   "cell_type": "markdown",
   "source": [
    "### Select the optimum criterion and max_depth. Compare the accuracy of this model to that of the linear model on the validation data.\n",
    "Optimum Criteria: Absolute Error\n",
    "Optimal Max Depth: 5"
   ],
   "metadata": {
    "collapsed": false
   }
  },
  {
   "cell_type": "code",
   "execution_count": 40,
   "outputs": [
    {
     "name": "stdout",
     "output_type": "stream",
     "text": [
      "Validation Set Score: LinReg = 0.7841104402489826, Tree(abs error) = 0.8445945672979698\n"
     ]
    }
   ],
   "source": [
    "tree = DecisionTreeRegressor(criterion='absolute_error', max_depth=5)\n",
    "tree.fit(x_tr, y_tr)\n",
    "\n",
    "# Score models on the validation set\n",
    "lr_va_score = lr.score(x_va, y_va)\n",
    "tree_va_score = tree.score(x_va, y_va)\n",
    "\n",
    "print(f'Validation Set Score: LinReg = {lr_va_score}, Tree(abs error) = {tree_va_score}')"
   ],
   "metadata": {
    "collapsed": false
   }
  },
  {
   "cell_type": "markdown",
   "source": [
    "### Select the best-performing model on the validation data, and report the accuracy of this model on the test set."
   ],
   "metadata": {
    "collapsed": false
   }
  },
  {
   "cell_type": "code",
   "execution_count": 42,
   "outputs": [
    {
     "name": "stdout",
     "output_type": "stream",
     "text": [
      "Test Set Score = 0.7234946426690252\n"
     ]
    }
   ],
   "source": [
    "print(f'Test Set Score = {tree.score(x_te, y_te)}')"
   ],
   "metadata": {
    "collapsed": false
   }
  },
  {
   "cell_type": "code",
   "execution_count": null,
   "outputs": [],
   "source": [],
   "metadata": {
    "collapsed": false
   }
  }
 ],
 "metadata": {
  "kernelspec": {
   "display_name": "Python 3",
   "language": "python",
   "name": "python3"
  },
  "language_info": {
   "codemirror_mode": {
    "name": "ipython",
    "version": 2
   },
   "file_extension": ".py",
   "mimetype": "text/x-python",
   "name": "python",
   "nbconvert_exporter": "python",
   "pygments_lexer": "ipython2",
   "version": "2.7.6"
  }
 },
 "nbformat": 4,
 "nbformat_minor": 0
}
