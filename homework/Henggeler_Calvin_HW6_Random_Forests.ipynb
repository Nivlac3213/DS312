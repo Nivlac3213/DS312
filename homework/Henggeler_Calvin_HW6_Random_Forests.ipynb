{
 "cells": [
  {
   "cell_type": "markdown",
   "metadata": {},
   "source": [
    "Homework 6: Random forests\n",
    "==========================\n",
    "### Author: Calvin Henggeler\n",
    "### Dataset: Wine Quality\n",
    "https://archive.ics.uci.edu/dataset/186/wine+quality\n",
    "Starting notebook: 312_2023-10-27.ipynb\n",
    "\n",
    "1) Begin from the notebook from 10/27. We created a random forest which dropped random columns and got pretty good performance. We then tried random subspace projection with mediocre results. Next, we tried using normalization and PCA with random subspace projection, and the results still were not great. Try combining normalization and PCA with dropping random columns.\n",
    "2) In class on 10/30, we combined row bootstrapping with dropping random columns to make a random forest. Try this again, varying the size of your bootstrap sample from 100 to 10000 (or larger if you see reason to do so). Graph model accuracy vs size of bootstrap sample."
   ]
  },
  {
   "cell_type": "code",
   "execution_count": 1,
   "metadata": {},
   "outputs": [],
   "source": [
    "from sklearn.tree import DecisionTreeRegressor\n",
    "from sklearn.model_selection import train_test_split\n",
    "import pandas as pd\n",
    "import matplotlib.pyplot as plt\n",
    "import seaborn as sns\n",
    "import numpy as np"
   ]
  },
  {
   "cell_type": "code",
   "execution_count": 2,
   "metadata": {
    "collapsed": false,
    "jupyter": {
     "outputs_hidden": false
    }
   },
   "outputs": [],
   "source": [
    "rand_state = 420"
   ]
  },
  {
   "cell_type": "code",
   "execution_count": 2,
   "metadata": {},
   "outputs": [
    {
     "data": {
      "text/html": [
       "<div>\n",
       "<style scoped>\n",
       "    .dataframe tbody tr th:only-of-type {\n",
       "        vertical-align: middle;\n",
       "    }\n",
       "\n",
       "    .dataframe tbody tr th {\n",
       "        vertical-align: top;\n",
       "    }\n",
       "\n",
       "    .dataframe thead th {\n",
       "        text-align: right;\n",
       "    }\n",
       "</style>\n",
       "<table border=\"1\" class=\"dataframe\">\n",
       "  <thead>\n",
       "    <tr style=\"text-align: right;\">\n",
       "      <th></th>\n",
       "      <th>fixed acidity</th>\n",
       "      <th>volatile acidity</th>\n",
       "      <th>citric acid</th>\n",
       "      <th>residual sugar</th>\n",
       "      <th>chlorides</th>\n",
       "      <th>free sulfur dioxide</th>\n",
       "      <th>total sulfur dioxide</th>\n",
       "      <th>density</th>\n",
       "      <th>pH</th>\n",
       "      <th>sulphates</th>\n",
       "      <th>alcohol</th>\n",
       "      <th>quality</th>\n",
       "      <th>color</th>\n",
       "    </tr>\n",
       "  </thead>\n",
       "  <tbody>\n",
       "    <tr>\n",
       "      <th>0</th>\n",
       "      <td>7.4</td>\n",
       "      <td>0.70</td>\n",
       "      <td>0.00</td>\n",
       "      <td>1.9</td>\n",
       "      <td>0.076</td>\n",
       "      <td>11.0</td>\n",
       "      <td>34.0</td>\n",
       "      <td>0.9978</td>\n",
       "      <td>3.51</td>\n",
       "      <td>0.56</td>\n",
       "      <td>9.4</td>\n",
       "      <td>5</td>\n",
       "      <td>1</td>\n",
       "    </tr>\n",
       "    <tr>\n",
       "      <th>1</th>\n",
       "      <td>7.8</td>\n",
       "      <td>0.88</td>\n",
       "      <td>0.00</td>\n",
       "      <td>2.6</td>\n",
       "      <td>0.098</td>\n",
       "      <td>25.0</td>\n",
       "      <td>67.0</td>\n",
       "      <td>0.9968</td>\n",
       "      <td>3.20</td>\n",
       "      <td>0.68</td>\n",
       "      <td>9.8</td>\n",
       "      <td>5</td>\n",
       "      <td>1</td>\n",
       "    </tr>\n",
       "    <tr>\n",
       "      <th>2</th>\n",
       "      <td>7.8</td>\n",
       "      <td>0.76</td>\n",
       "      <td>0.04</td>\n",
       "      <td>2.3</td>\n",
       "      <td>0.092</td>\n",
       "      <td>15.0</td>\n",
       "      <td>54.0</td>\n",
       "      <td>0.9970</td>\n",
       "      <td>3.26</td>\n",
       "      <td>0.65</td>\n",
       "      <td>9.8</td>\n",
       "      <td>5</td>\n",
       "      <td>1</td>\n",
       "    </tr>\n",
       "    <tr>\n",
       "      <th>3</th>\n",
       "      <td>11.2</td>\n",
       "      <td>0.28</td>\n",
       "      <td>0.56</td>\n",
       "      <td>1.9</td>\n",
       "      <td>0.075</td>\n",
       "      <td>17.0</td>\n",
       "      <td>60.0</td>\n",
       "      <td>0.9980</td>\n",
       "      <td>3.16</td>\n",
       "      <td>0.58</td>\n",
       "      <td>9.8</td>\n",
       "      <td>6</td>\n",
       "      <td>1</td>\n",
       "    </tr>\n",
       "    <tr>\n",
       "      <th>4</th>\n",
       "      <td>7.4</td>\n",
       "      <td>0.70</td>\n",
       "      <td>0.00</td>\n",
       "      <td>1.9</td>\n",
       "      <td>0.076</td>\n",
       "      <td>11.0</td>\n",
       "      <td>34.0</td>\n",
       "      <td>0.9978</td>\n",
       "      <td>3.51</td>\n",
       "      <td>0.56</td>\n",
       "      <td>9.4</td>\n",
       "      <td>5</td>\n",
       "      <td>1</td>\n",
       "    </tr>\n",
       "  </tbody>\n",
       "</table>\n",
       "</div>"
      ],
      "text/plain": [
       "   fixed acidity  volatile acidity  citric acid  residual sugar  chlorides  \\\n",
       "0            7.4              0.70         0.00             1.9      0.076   \n",
       "1            7.8              0.88         0.00             2.6      0.098   \n",
       "2            7.8              0.76         0.04             2.3      0.092   \n",
       "3           11.2              0.28         0.56             1.9      0.075   \n",
       "4            7.4              0.70         0.00             1.9      0.076   \n",
       "\n",
       "   free sulfur dioxide  total sulfur dioxide  density    pH  sulphates  \\\n",
       "0                 11.0                  34.0   0.9978  3.51       0.56   \n",
       "1                 25.0                  67.0   0.9968  3.20       0.68   \n",
       "2                 15.0                  54.0   0.9970  3.26       0.65   \n",
       "3                 17.0                  60.0   0.9980  3.16       0.58   \n",
       "4                 11.0                  34.0   0.9978  3.51       0.56   \n",
       "\n",
       "   alcohol  quality  color  \n",
       "0      9.4        5      1  \n",
       "1      9.8        5      1  \n",
       "2      9.8        5      1  \n",
       "3      9.8        6      1  \n",
       "4      9.4        5      1  "
      ]
     },
     "execution_count": 2,
     "metadata": {},
     "output_type": "execute_result"
    }
   ],
   "source": [
    "# combine red and white data sets\n",
    "df_red = pd.read_csv('../data/winequality-red.csv',sep = ';')\n",
    "df_red['color'] = 1\n",
    "df_white = pd.read_csv('../data/winequality-white.csv',sep = ';')\n",
    "df_white['color'] = 0\n",
    "df = pd.concat([df_red,df_white])\n",
    "df.head()"
   ]
  },
  {
   "cell_type": "code",
   "execution_count": 4,
   "metadata": {},
   "outputs": [
    {
     "data": {
      "image/png": "[encoded data removed]",
      "text/plain": [
       "<Figure size 1000x700 with 2 Axes>"
      ]
     },
     "metadata": {},
     "output_type": "display_data"
    }
   ],
   "source": [
    "fig,ax = plt.subplots(figsize=(10, 7))\n",
    "ax = sns.heatmap(df.corr(), vmin=-1, vmax=1,cmap='vlag',annot=True)\n",
    "ax.set_xticklabels(ax.get_xticklabels(),rotation =90)\n",
    "ax.set_yticklabels(ax.get_yticklabels(),rotation=0)\n",
    "ax.set_title('wine', pad = 25);"
   ]
  },
  {
   "cell_type": "markdown",
   "metadata": {},
   "source": [
    "We'll predict target: quality using the other columns as features."
   ]
  },
  {
   "cell_type": "code",
   "execution_count": 3,
   "metadata": {},
   "outputs": [],
   "source": [
    "features = ['fixed acidity', 'volatile acidity', 'citric acid', 'residual sugar',\n",
    "       'chlorides', 'free sulfur dioxide', 'total sulfur dioxide', 'density',\n",
    "       'pH', 'sulphates', 'alcohol', 'color']\n",
    "target = ['quality']"
   ]
  },
  {
   "cell_type": "code",
   "execution_count": 4,
   "metadata": {},
   "outputs": [],
   "source": [
    "# Train 80% | Validation 20% | Test 20%\n",
    "x_tr,x_te,y_tr,y_te = train_test_split(df[features],df[target],\n",
    "                                       train_size = 0.8)\n",
    "x_tr,x_va,y_tr,y_va = train_test_split(x_tr,y_tr,\n",
    "                                       train_size = 0.5)"
   ]
  },
  {
   "cell_type": "markdown",
   "metadata": {},
   "source": [
    "We check the accuracy of an unrestricted tree."
   ]
  },
  {
   "cell_type": "code",
   "execution_count": 15,
   "metadata": {},
   "outputs": [
    {
     "name": "stdout",
     "output_type": "stream",
     "text": [
      "Train score: 1.0\n",
      "Val score: -0.1490027554907205\n"
     ]
    }
   ],
   "source": [
    "tr = DecisionTreeRegressor(random_state = rand_state)\n",
    "tr.fit(x_tr,y_tr)\n",
    "print(f'Train score: {tr.score(x_tr,y_tr)}')\n",
    "print(f'Val score: {tr.score(x_va,y_va)}')"
   ]
  },
  {
   "cell_type": "markdown",
   "metadata": {
    "collapsed": false,
    "jupyter": {
     "outputs_hidden": false
    }
   },
   "source": [
    "First, we attempt to create an ensemble from a bunch of unrestricted trees."
   ]
  },
  {
   "cell_type": "code",
   "execution_count": 16,
   "metadata": {},
   "outputs": [],
   "source": [
    "# create a collection of 100 trees\n",
    "np.random.seed(0)\n",
    "trees = []\n",
    "for i in range(100):\n",
    "    tr = DecisionTreeRegressor(random_state = rand_state)\n",
    "    trees.append(tr)"
   ]
  },
  {
   "cell_type": "code",
   "execution_count": 17,
   "metadata": {},
   "outputs": [],
   "source": [
    "# train each tree\n",
    "for tr in trees:\n",
    "    tr.fit(x_tr,y_tr)"
   ]
  },
  {
   "cell_type": "markdown",
   "metadata": {},
   "source": [
    "We need a function which, given a forest and some inputs (feature data), will generate predictions. It should do this by getting the prediction for each tree then averaging the results. We can imagine slight tweaks to this approach, such as taking the mean of the middle 80% of predictions."
   ]
  },
  {
   "cell_type": "code",
   "execution_count": 18,
   "metadata": {},
   "outputs": [],
   "source": [
    "def forest_pred(forest,inputs):\n",
    "    '''\n",
    "    accepts: forest: a collection of trees\n",
    "             inputs: the feature data\n",
    "    returns: an array of predictions gotten by averaging the predictions per tree\n",
    "    '''\n",
    "    preds = [tree.predict(inputs) for tree in forest] # make prediction per tree\n",
    "    avgs = sum(preds)/len(preds) # average the predictions\n",
    "    return(avgs)\n",
    "\n",
    "def score(preds,actual):\n",
    "    '''\n",
    "    accepts: preds: an iterable of predictions\n",
    "             actual: the actual values\n",
    "    returns: the R^2 score of the model which generated the predictions\n",
    "    '''\n",
    "    resid = actual - preds.reshape(-1,1)\n",
    "    sse = np.sum(resid**2)\n",
    "    resid_null = actual - np.mean(actual)\n",
    "    sse_null = np.sum(resid_null**2)\n",
    "    r2 = 1-sse/sse_null\n",
    "    return(r2)"
   ]
  },
  {
   "cell_type": "markdown",
   "metadata": {},
   "source": [
    "So, let's see how accurate our forest is."
   ]
  },
  {
   "cell_type": "code",
   "execution_count": 19,
   "metadata": {},
   "outputs": [
    {
     "name": "stderr",
     "output_type": "stream",
     "text": [
      "C:\\repos\\DS312\\venv\\Lib\\site-packages\\numpy\\core\\fromnumeric.py:86: FutureWarning: The behavior of DataFrame.sum with axis=None is deprecated, in a future version this will reduce over both axes and return a scalar. To retain the old behavior, pass axis=0 (or do not pass axis)\n",
      "  return reduction(axis=axis, out=out, **passkwargs)\n"
     ]
    },
    {
     "data": {
      "text/plain": [
       "quality   -0.149003\n",
       "dtype: float64"
      ]
     },
     "execution_count": 19,
     "metadata": {},
     "output_type": "execute_result"
    }
   ],
   "source": [
    "preds = forest_pred(trees, x_va)\n",
    "score(preds,y_va)"
   ]
  },
  {
   "cell_type": "markdown",
   "metadata": {},
   "source": [
    "This didn't turn out so great. Why is that? The trees are all basically the same, so when they are wrong (overfit), the are wrong (overfit) in the same way."
   ]
  },
  {
   "cell_type": "markdown",
   "metadata": {
    "collapsed": false,
    "jupyter": {
     "outputs_hidden": false
    }
   },
   "source": [
    "### Select Random Features per Tree\n",
    "\n",
    "Like a good Who Wants to be a Millionaire audience, we want these bad trees to make errors which are uncorrelated with each other. One way to reduce correlation among the errors is to train each tree on a random subset of the feature set. We can imagine other interventions (which would be less straightforward to code), such as at each node randomly forcing a tree to ignore a subset of the features. It would be interesting to see a comparison of different approaches to disrupting tree correlation."
   ]
  },
  {
   "cell_type": "code",
   "execution_count": 24,
   "metadata": {},
   "outputs": [
    {
     "name": "stdout",
     "output_type": "stream",
     "text": [
      "['fixed acidity', 'volatile acidity', 'citric acid', 'residual sugar', 'chlorides', 'free sulfur dioxide', 'total sulfur dioxide', 'density', 'pH', 'sulphates', 'alcohol', 'color']\n"
     ]
    }
   ],
   "source": [
    "print(features)"
   ]
  },
  {
   "cell_type": "code",
   "execution_count": 25,
   "metadata": {},
   "outputs": [
    {
     "data": {
      "text/plain": [
       "array([1, 0, 0, 1, 0, 0, 0, 1, 1, 0, 1, 0])"
      ]
     },
     "execution_count": 25,
     "metadata": {},
     "output_type": "execute_result"
    }
   ],
   "source": [
    "# I want to get random subsets of features\n",
    "np.random.randint(0,2,len(features)) # gets a random array of 0s and 1s of length 12"
   ]
  },
  {
   "cell_type": "code",
   "execution_count": 26,
   "metadata": {},
   "outputs": [
    {
     "data": {
      "text/plain": [
       "[False, False, False, False, True, False, True, False, True, True, True, True]"
      ]
     },
     "execution_count": 26,
     "metadata": {},
     "output_type": "execute_result"
    }
   ],
   "source": [
    "# convert from binary to boolean\n",
    "[bool(x) for x in np.random.randint(0,2,len(features))]"
   ]
  },
  {
   "cell_type": "code",
   "execution_count": 34,
   "metadata": {},
   "outputs": [
    {
     "name": "stdout",
     "output_type": "stream",
     "text": [
      "['fixed acidity', 'volatile acidity', 'citric acid', 'residual sugar', 'chlorides', 'free sulfur dioxide', 'total sulfur dioxide', 'density', 'pH', 'sulphates', 'alcohol', 'color']\n"
     ]
    },
    {
     "data": {
      "text/plain": [
       "array(['citric acid', 'residual sugar', 'sulphates', 'color'],\n",
       "      dtype='<U20')"
      ]
     },
     "execution_count": 34,
     "metadata": {},
     "output_type": "execute_result"
    }
   ],
   "source": [
    "# I can subset a np array with a boolean vector\n",
    "print(features)\n",
    "np.array(features)[[bool(x) for x in np.random.randint(0,2,len(features))]]"
   ]
  },
  {
   "cell_type": "code",
   "execution_count": 43,
   "metadata": {},
   "outputs": [
    {
     "data": {
      "text/plain": [
       "Index(['fixed acidity', 'volatile acidity', 'citric acid', 'residual sugar',\n",
       "       'chlorides', 'free sulfur dioxide', 'total sulfur dioxide', 'color'],\n",
       "      dtype='object')"
      ]
     },
     "execution_count": 43,
     "metadata": {},
     "output_type": "execute_result"
    }
   ],
   "source": [
    "fs = np.array(features)[[bool(x) for x in np.random.randint(0,2,12)]]\n",
    "df[fs].columns"
   ]
  },
  {
   "cell_type": "markdown",
   "metadata": {},
   "source": [
    "We need a list of feature sets for the trees to be trained on. We must store this information, because when we make predictions, for each tree, we must isolate the same feature subset that tree was trained on. If we store the feature names, we can only accept inputs which include the feature names. If we store the binary, we can only accept inputs whose features are in the correct order, and if the feature names are not supplied, the user could unknowingly get an incorrect result. It is therefore safest to insist on feature names being supplied."
   ]
  },
  {
   "cell_type": "code",
   "execution_count": 21,
   "metadata": {},
   "outputs": [],
   "source": [
    "num_trees = 100\n",
    "fss = [] # a list to hold the list of feature subsets\n",
    "for i in range(num_trees):\n",
    "    # we need a random binary array with not all 0s\n",
    "    array = [0]\n",
    "    while sum(array)==0:\n",
    "        array = np.random.randint(0,2,12)\n",
    "    fs = np.array(features)[[bool(x) for x in np.random.randint(0,2,12)]]\n",
    "    fss.append(df[fs].columns)"
   ]
  },
  {
   "cell_type": "code",
   "execution_count": 27,
   "metadata": {},
   "outputs": [],
   "source": [
    "np.random.seed(0)\n",
    "trees = []\n",
    "for i in range(num_trees):\n",
    "    tr = DecisionTreeRegressor(random_state =  np.random.randint(2**10))\n",
    "    x_tr_subset = x_tr[fss[i]] # get the subset of the training set according to fs\n",
    "    tr.fit(x_tr_subset,y_tr)\n",
    "    trees.append(tr)"
   ]
  },
  {
   "cell_type": "code",
   "execution_count": 23,
   "metadata": {},
   "outputs": [],
   "source": [
    "def forest_pred(forest,inputs,fss):\n",
    "    preds = []\n",
    "    for tree,fs in zip(forest,fss):\n",
    "        preds.append(tree.predict(inputs[fs]))\n",
    "    avgs = sum(preds)/len(preds) # average the predictions\n",
    "    return(avgs)"
   ]
  },
  {
   "cell_type": "markdown",
   "metadata": {},
   "source": [
    "Let's make predictions. Let's remember that each tree here will be worse on average than before, since each tree is given only a subset of the available data."
   ]
  },
  {
   "cell_type": "code",
   "execution_count": 28,
   "metadata": {},
   "outputs": [
    {
     "name": "stderr",
     "output_type": "stream",
     "text": [
      "C:\\repos\\DS312\\venv\\Lib\\site-packages\\numpy\\core\\fromnumeric.py:86: FutureWarning: The behavior of DataFrame.sum with axis=None is deprecated, in a future version this will reduce over both axes and return a scalar. To retain the old behavior, pass axis=0 (or do not pass axis)\n",
      "  return reduction(axis=axis, out=out, **passkwargs)\n"
     ]
    },
    {
     "data": {
      "text/plain": [
       "quality    0.432771\n",
       "dtype: float64"
      ]
     },
     "execution_count": 28,
     "metadata": {},
     "output_type": "execute_result"
    }
   ],
   "source": [
    "preds = forest_pred(trees,x_va,fss)\n",
    "score(preds,y_va)"
   ]
  },
  {
   "cell_type": "markdown",
   "metadata": {},
   "source": [
    "### Sklearn Built in Random Forest Model"
   ]
  },
  {
   "cell_type": "code",
   "execution_count": 28,
   "metadata": {},
   "outputs": [],
   "source": [
    "from sklearn.ensemble import RandomForestRegressor"
   ]
  },
  {
   "cell_type": "code",
   "execution_count": 29,
   "metadata": {},
   "outputs": [
    {
     "name": "stderr",
     "output_type": "stream",
     "text": [
      "/home/calvin/.local/lib/python3.10/site-packages/sklearn/base.py:1152: DataConversionWarning: A column-vector y was passed when a 1d array was expected. Please change the shape of y to (n_samples,), for example using ravel().\n",
      "  return fit_method(estimator, *args, **kwargs)\n"
     ]
    },
    {
     "data": {
      "text/plain": [
       "0.41954489119915217"
      ]
     },
     "execution_count": 29,
     "metadata": {},
     "output_type": "execute_result"
    }
   ],
   "source": [
    "rfr = RandomForestRegressor()\n",
    "rfr.fit(x_tr,y_tr)\n",
    "rfr.score(x_va,y_va)"
   ]
  },
  {
   "cell_type": "markdown",
   "metadata": {},
   "source": [
    "We can see some details about the random forest."
   ]
  },
  {
   "cell_type": "markdown",
   "metadata": {},
   "source": [
    "### Random Subspace Projection\n",
    "\n",
    "We'll try to improve on what we've done. You may recall from our discussion of PCA: sometimes we can take a dataset and project it onto a subspace. For example, applying PCA with $k$ components to a dataset with $n\\geq k$ features involves projecting the dataset onto a subspace of dimension $k$.\n",
    "\n",
    "Here, when we drop some features, we're really just projecting onto a subspace of the dataset. Dropping features is a very special case of projecting onto a subspace. We can try other means of projecting onto subspaces, with an eye towards further reducing correlation between individual trees.\n",
    "\n",
    "Our first attempt will be: randomly select $k$ with $1 \\leq k \\leq 12$ (where 12 is the number of features), then randomly generate an orthonormal 12-by-$k$ matrix, and use this effect a projection of the data onto a random subspace. As before, we'll have a different projection for each tree, and we must be able to recall those projections when we make predictions. So, these random matrices are stored."
   ]
  },
  {
   "cell_type": "code",
   "execution_count": 29,
   "metadata": {},
   "outputs": [
    {
     "data": {
      "text/html": [
       "<div>\n",
       "<style scoped>\n",
       "    .dataframe tbody tr th:only-of-type {\n",
       "        vertical-align: middle;\n",
       "    }\n",
       "\n",
       "    .dataframe tbody tr th {\n",
       "        vertical-align: top;\n",
       "    }\n",
       "\n",
       "    .dataframe thead th {\n",
       "        text-align: right;\n",
       "    }\n",
       "</style>\n",
       "<table border=\"1\" class=\"dataframe\">\n",
       "  <thead>\n",
       "    <tr style=\"text-align: right;\">\n",
       "      <th></th>\n",
       "      <th>0</th>\n",
       "      <th>1</th>\n",
       "      <th>2</th>\n",
       "      <th>3</th>\n",
       "      <th>4</th>\n",
       "      <th>5</th>\n",
       "      <th>6</th>\n",
       "      <th>7</th>\n",
       "      <th>8</th>\n",
       "      <th>9</th>\n",
       "    </tr>\n",
       "  </thead>\n",
       "  <tbody>\n",
       "    <tr>\n",
       "      <th>0</th>\n",
       "      <td>0.256348</td>\n",
       "      <td>-0.065028</td>\n",
       "      <td>0.292110</td>\n",
       "      <td>-0.144617</td>\n",
       "      <td>0.467846</td>\n",
       "      <td>0.050801</td>\n",
       "      <td>-0.426487</td>\n",
       "      <td>0.617166</td>\n",
       "      <td>-0.111693</td>\n",
       "      <td>-0.033217</td>\n",
       "    </tr>\n",
       "    <tr>\n",
       "      <th>1</th>\n",
       "      <td>0.132297</td>\n",
       "      <td>-0.413269</td>\n",
       "      <td>-0.268912</td>\n",
       "      <td>0.294478</td>\n",
       "      <td>-0.287791</td>\n",
       "      <td>0.634683</td>\n",
       "      <td>-0.149678</td>\n",
       "      <td>0.134341</td>\n",
       "      <td>-0.158901</td>\n",
       "      <td>0.104153</td>\n",
       "    </tr>\n",
       "    <tr>\n",
       "      <th>2</th>\n",
       "      <td>-0.151722</td>\n",
       "      <td>-0.619538</td>\n",
       "      <td>-0.243786</td>\n",
       "      <td>0.174958</td>\n",
       "      <td>0.185993</td>\n",
       "      <td>-0.471775</td>\n",
       "      <td>0.349444</td>\n",
       "      <td>0.221603</td>\n",
       "      <td>-0.020696</td>\n",
       "      <td>0.031779</td>\n",
       "    </tr>\n",
       "    <tr>\n",
       "      <th>3</th>\n",
       "      <td>0.221289</td>\n",
       "      <td>-0.210829</td>\n",
       "      <td>0.276367</td>\n",
       "      <td>0.060541</td>\n",
       "      <td>0.295504</td>\n",
       "      <td>0.197764</td>\n",
       "      <td>0.351553</td>\n",
       "      <td>-0.201622</td>\n",
       "      <td>-0.404001</td>\n",
       "      <td>0.350444</td>\n",
       "    </tr>\n",
       "    <tr>\n",
       "      <th>4</th>\n",
       "      <td>-0.470795</td>\n",
       "      <td>0.048320</td>\n",
       "      <td>-0.003738</td>\n",
       "      <td>0.061546</td>\n",
       "      <td>0.034260</td>\n",
       "      <td>-0.233469</td>\n",
       "      <td>-0.453346</td>\n",
       "      <td>-0.104867</td>\n",
       "      <td>-0.305942</td>\n",
       "      <td>0.603419</td>\n",
       "    </tr>\n",
       "    <tr>\n",
       "      <th>5</th>\n",
       "      <td>-0.491923</td>\n",
       "      <td>-0.046243</td>\n",
       "      <td>-0.072046</td>\n",
       "      <td>-0.191199</td>\n",
       "      <td>0.516323</td>\n",
       "      <td>0.353596</td>\n",
       "      <td>0.064326</td>\n",
       "      <td>-0.262552</td>\n",
       "      <td>-0.193232</td>\n",
       "      <td>-0.404535</td>\n",
       "    </tr>\n",
       "    <tr>\n",
       "      <th>6</th>\n",
       "      <td>-0.322104</td>\n",
       "      <td>0.149469</td>\n",
       "      <td>-0.214729</td>\n",
       "      <td>0.148534</td>\n",
       "      <td>-0.248045</td>\n",
       "      <td>-0.004124</td>\n",
       "      <td>-0.046940</td>\n",
       "      <td>0.377078</td>\n",
       "      <td>-0.447282</td>\n",
       "      <td>-0.313481</td>\n",
       "    </tr>\n",
       "    <tr>\n",
       "      <th>7</th>\n",
       "      <td>-0.003450</td>\n",
       "      <td>0.284380</td>\n",
       "      <td>-0.192302</td>\n",
       "      <td>-0.080324</td>\n",
       "      <td>0.030176</td>\n",
       "      <td>0.243805</td>\n",
       "      <td>0.147531</td>\n",
       "      <td>-0.026818</td>\n",
       "      <td>-0.036071</td>\n",
       "      <td>0.350278</td>\n",
       "    </tr>\n",
       "    <tr>\n",
       "      <th>8</th>\n",
       "      <td>0.065321</td>\n",
       "      <td>-0.074425</td>\n",
       "      <td>-0.028577</td>\n",
       "      <td>-0.778173</td>\n",
       "      <td>-0.326459</td>\n",
       "      <td>-0.057189</td>\n",
       "      <td>0.230229</td>\n",
       "      <td>0.153279</td>\n",
       "      <td>-0.362637</td>\n",
       "      <td>0.067191</td>\n",
       "    </tr>\n",
       "    <tr>\n",
       "      <th>9</th>\n",
       "      <td>-0.212425</td>\n",
       "      <td>-0.492789</td>\n",
       "      <td>0.026858</td>\n",
       "      <td>-0.388461</td>\n",
       "      <td>-0.122632</td>\n",
       "      <td>0.134162</td>\n",
       "      <td>-0.331466</td>\n",
       "      <td>-0.139178</td>\n",
       "      <td>0.388797</td>\n",
       "      <td>0.049878</td>\n",
       "    </tr>\n",
       "    <tr>\n",
       "      <th>10</th>\n",
       "      <td>-0.387257</td>\n",
       "      <td>0.158646</td>\n",
       "      <td>0.046251</td>\n",
       "      <td>-0.030736</td>\n",
       "      <td>0.076615</td>\n",
       "      <td>0.264836</td>\n",
       "      <td>0.373888</td>\n",
       "      <td>0.495489</td>\n",
       "      <td>0.421235</td>\n",
       "      <td>0.307828</td>\n",
       "    </tr>\n",
       "    <tr>\n",
       "      <th>11</th>\n",
       "      <td>0.279350</td>\n",
       "      <td>0.124375</td>\n",
       "      <td>-0.783950</td>\n",
       "      <td>-0.178421</td>\n",
       "      <td>0.344524</td>\n",
       "      <td>-0.050107</td>\n",
       "      <td>-0.117077</td>\n",
       "      <td>-0.009308</td>\n",
       "      <td>0.078871</td>\n",
       "      <td>0.117218</td>\n",
       "    </tr>\n",
       "  </tbody>\n",
       "</table>\n",
       "</div>"
      ],
      "text/plain": [
       "           0         1         2         3         4         5         6  \\\n",
       "0   0.256348 -0.065028  0.292110 -0.144617  0.467846  0.050801 -0.426487   \n",
       "1   0.132297 -0.413269 -0.268912  0.294478 -0.287791  0.634683 -0.149678   \n",
       "2  -0.151722 -0.619538 -0.243786  0.174958  0.185993 -0.471775  0.349444   \n",
       "3   0.221289 -0.210829  0.276367  0.060541  0.295504  0.197764  0.351553   \n",
       "4  -0.470795  0.048320 -0.003738  0.061546  0.034260 -0.233469 -0.453346   \n",
       "5  -0.491923 -0.046243 -0.072046 -0.191199  0.516323  0.353596  0.064326   \n",
       "6  -0.322104  0.149469 -0.214729  0.148534 -0.248045 -0.004124 -0.046940   \n",
       "7  -0.003450  0.284380 -0.192302 -0.080324  0.030176  0.243805  0.147531   \n",
       "8   0.065321 -0.074425 -0.028577 -0.778173 -0.326459 -0.057189  0.230229   \n",
       "9  -0.212425 -0.492789  0.026858 -0.388461 -0.122632  0.134162 -0.331466   \n",
       "10 -0.387257  0.158646  0.046251 -0.030736  0.076615  0.264836  0.373888   \n",
       "11  0.279350  0.124375 -0.783950 -0.178421  0.344524 -0.050107 -0.117077   \n",
       "\n",
       "           7         8         9  \n",
       "0   0.617166 -0.111693 -0.033217  \n",
       "1   0.134341 -0.158901  0.104153  \n",
       "2   0.221603 -0.020696  0.031779  \n",
       "3  -0.201622 -0.404001  0.350444  \n",
       "4  -0.104867 -0.305942  0.603419  \n",
       "5  -0.262552 -0.193232 -0.404535  \n",
       "6   0.377078 -0.447282 -0.313481  \n",
       "7  -0.026818 -0.036071  0.350278  \n",
       "8   0.153279 -0.362637  0.067191  \n",
       "9  -0.139178  0.388797  0.049878  \n",
       "10  0.495489  0.421235  0.307828  \n",
       "11 -0.009308  0.078871  0.117218  "
      ]
     },
     "execution_count": 29,
     "metadata": {},
     "output_type": "execute_result"
    }
   ],
   "source": [
    "''' Example: generating a random 12-by-k orthogonal matrix.\n",
    "    The so-called QR-factorization of X will Gram-Schmidt it.\n",
    "    To be safe, I suppose we should see what happens when we try to QR a matrix with\n",
    "    linearly dependent columns, and if that raises an exception, use try/except.\n",
    "'''\n",
    "k = np.random.randint(1,13)\n",
    "X = np.random.uniform(-1,1,k*12).reshape(-1,k)\n",
    "X,_ = np.linalg.qr(X) # gram-schmidt X\n",
    "np.random.shuffle(X.T) # in case the columns aren't random, shuffle them.\n",
    "pd.DataFrame(X)"
   ]
  },
  {
   "cell_type": "code",
   "execution_count": 30,
   "metadata": {},
   "outputs": [],
   "source": [
    "num_trees = 100\n",
    "trees = []\n",
    "fss = []\n",
    "for i in range(num_trees):\n",
    "    k = np.random.randint(1,13)\n",
    "    fs = np.random.uniform(-100,100,k*12).reshape(-1,k)\n",
    "    fs,_ = np.linalg.qr(fs) # gram-schmidt X\n",
    "    np.random.shuffle(fs.T) # in case the columns aren't random, shuffle them.\n",
    "    fss.append(fs)\n",
    "    tr = DecisionTreeRegressor(random_state = np.random.randint(2**10))\n",
    "    tr.fit(np.matmul(x_tr,fs),y_tr)\n",
    "    trees.append(tr)\n",
    "\n",
    "def forest_pred(forest,inputs,fss):\n",
    "    preds = []\n",
    "    for tree,fs in zip(forest,fss):\n",
    "        preds.append(tree.predict(np.matmul(inputs,fs)))\n",
    "    avgs = sum(preds)/len(preds) # average the predictions\n",
    "    return(avgs)"
   ]
  },
  {
   "cell_type": "code",
   "execution_count": 31,
   "metadata": {},
   "outputs": [
    {
     "name": "stderr",
     "output_type": "stream",
     "text": [
      "C:\\repos\\DS312\\venv\\Lib\\site-packages\\numpy\\core\\fromnumeric.py:86: FutureWarning: The behavior of DataFrame.sum with axis=None is deprecated, in a future version this will reduce over both axes and return a scalar. To retain the old behavior, pass axis=0 (or do not pass axis)\n",
      "  return reduction(axis=axis, out=out, **passkwargs)\n"
     ]
    },
    {
     "data": {
      "text/plain": [
       "quality    0.294264\n",
       "dtype: float64"
      ]
     },
     "execution_count": 31,
     "metadata": {},
     "output_type": "execute_result"
    }
   ],
   "source": [
    "preds = forest_pred(trees,x_va,fss)\n",
    "score(preds,y_va)"
   ]
  },
  {
   "cell_type": "markdown",
   "metadata": {},
   "source": [
    "### Normalization and PCA with Random Subspace Projection\n",
    "It looks to be less accurate than dropping random features. Let's try normalizing then PCA before random subspace projection."
   ]
  },
  {
   "cell_type": "code",
   "execution_count": 32,
   "metadata": {},
   "outputs": [],
   "source": [
    "from sklearn.preprocessing import normalize\n",
    "from sklearn.decomposition import PCA"
   ]
  },
  {
   "cell_type": "code",
   "execution_count": 34,
   "metadata": {},
   "outputs": [
    {
     "name": "stderr",
     "output_type": "stream",
     "text": [
      "C:\\repos\\DS312\\venv\\Lib\\site-packages\\numpy\\core\\fromnumeric.py:86: FutureWarning: The behavior of DataFrame.sum with axis=None is deprecated, in a future version this will reduce over both axes and return a scalar. To retain the old behavior, pass axis=0 (or do not pass axis)\n",
      "  return reduction(axis=axis, out=out, **passkwargs)\n"
     ]
    },
    {
     "data": {
      "text/plain": [
       "quality    0.307357\n",
       "dtype: float64"
      ]
     },
     "execution_count": 34,
     "metadata": {},
     "output_type": "execute_result"
    }
   ],
   "source": [
    "pca = PCA()\n",
    "pca.fit(normalize(x_tr))\n",
    "x_tr_p = pca.transform(normalize(x_tr))\n",
    "\n",
    "num_trees = 100\n",
    "trees = []\n",
    "fss = []\n",
    "\n",
    "for i in range(num_trees):\n",
    "    k = np.random.randint(1,13)\n",
    "    fs = np.random.uniform(-100,100,k*12).reshape(-1,k)\n",
    "    fs,_ = np.linalg.qr(fs) # gram-schmidt X\n",
    "    np.random.shuffle(fs.T) # in case the columns aren't random, shuffle them.\n",
    "    fss.append(fs)\n",
    "    tr = DecisionTreeRegressor(random_state = np.random.randint(2**10))\n",
    "    tr.fit(np.matmul(x_tr_p,fs),y_tr)\n",
    "    trees.append(tr)\n",
    "\n",
    "def forest_pred(forest,inputs,fss):\n",
    "    inputs = pca.transform(normalize(inputs))\n",
    "    preds = []\n",
    "    for tree,fs in zip(forest,fss):\n",
    "        preds.append(tree.predict(np.matmul(inputs,fs)))\n",
    "    avgs = sum(preds)/len(preds) # average the predictions\n",
    "    return(avgs)\n",
    "\n",
    "preds = forest_pred(trees,x_va,fss)\n",
    "score(preds,y_va)"
   ]
  },
  {
   "cell_type": "markdown",
   "metadata": {
    "collapsed": false,
    "jupyter": {
     "outputs_hidden": false
    }
   },
   "source": [
    "## 1) Normalization and PCA w/ Dropping Random Columns"
   ]
  },
  {
   "cell_type": "code",
   "execution_count": 37,
   "metadata": {
    "collapsed": false,
    "jupyter": {
     "outputs_hidden": false
    }
   },
   "outputs": [
    {
     "data": {
      "text/plain": [
       "array([[-4.91207908e-02, -1.17571651e-01, -2.92540082e-02,\n",
       "        -1.71372563e-02, -7.95504990e-03,  2.12961590e-03,\n",
       "         5.62542681e-03,  1.00108144e-03,  1.92887539e-03,\n",
       "         1.40528758e-03, -1.80201214e-04,  4.35781123e-04],\n",
       "       [ 1.60323942e-01,  1.64616419e-01,  2.16052696e-02,\n",
       "         7.60132634e-02, -1.52445523e-02, -3.69575683e-03,\n",
       "         9.02575671e-04, -2.98453786e-03, -1.20214495e-03,\n",
       "        -7.49376807e-04, -1.52195121e-04,  9.04616247e-05],\n",
       "       [ 1.39871577e-01,  1.78445264e-02, -2.37372650e-02,\n",
       "        -1.06280180e-03, -4.04518033e-02,  1.22201736e-02,\n",
       "        -3.23254591e-04, -3.65826129e-04,  8.55813948e-04,\n",
       "        -2.10892055e-03, -2.20400979e-04,  4.52729000e-04],\n",
       "       [-9.27341037e-02,  3.40183798e-03, -3.22787469e-02,\n",
       "        -3.05820814e-03,  9.72660199e-03, -2.88395977e-03,\n",
       "        -3.78422791e-04, -2.06628184e-03, -5.44785991e-04,\n",
       "         1.35069201e-05,  1.32025997e-04, -7.85014618e-05],\n",
       "       [ 5.72570481e-01, -3.81964787e-02, -3.01992529e-02,\n",
       "         1.01133642e-01,  3.05985792e-02, -8.09169217e-03,\n",
       "         1.22984606e-03,  9.21139874e-03, -3.91259018e-03,\n",
       "        -6.20928801e-03, -5.16056433e-04,  7.87545786e-04],\n",
       "       [-1.51620714e-01, -1.37926702e-01,  7.40925333e-03,\n",
       "         4.89765177e-03,  2.42343248e-02,  4.43562219e-03,\n",
       "        -2.13829372e-03, -1.38517595e-03,  6.17977646e-04,\n",
       "        -1.80963447e-04, -9.15845489e-05, -7.36431240e-05],\n",
       "       [-5.80838846e-02,  9.03187575e-03, -2.95407376e-02,\n",
       "        -1.10860007e-02, -1.81198258e-03, -6.10492792e-03,\n",
       "         1.05288661e-03, -2.00388197e-03, -4.94458452e-04,\n",
       "         7.28817024e-05,  1.33860754e-04, -6.94128693e-05],\n",
       "       [ 4.40818325e-02,  1.07758066e-01, -2.70541698e-02,\n",
       "         2.40837006e-03, -1.29235020e-02, -1.57219157e-03,\n",
       "        -4.70145874e-03,  3.05061751e-04, -2.43660863e-03,\n",
       "        -1.60755059e-04, -2.48570583e-05,  1.47486156e-04],\n",
       "       [-1.00802795e-01, -1.88275036e-01,  3.65427489e-03,\n",
       "        -8.34277228e-03,  9.36527406e-03,  3.97673028e-03,\n",
       "         1.89269149e-03,  1.68602529e-03,  1.21215669e-03,\n",
       "        -8.88182145e-04,  1.41086764e-04, -2.37141854e-04],\n",
       "       [-7.99785132e-02,  1.39560500e-01,  1.46151182e-03,\n",
       "         1.22969418e-03,  2.07879713e-02,  5.29004253e-03,\n",
       "         1.08460216e-03,  2.69754346e-03, -6.27840230e-04,\n",
       "         3.06543332e-04, -7.25975469e-05, -5.21460444e-05]])"
      ]
     },
     "execution_count": 37,
     "metadata": {},
     "output_type": "execute_result"
    }
   ],
   "source": [
    "pca = PCA()\n",
    "pca.fit(normalize(x_tr))\n",
    "x_tr_p = pca.transform(normalize(x_tr))     # normalized & PCA feature set\n",
    "x_tr_p[:10]"
   ]
  },
  {
   "cell_type": "code",
   "execution_count": 46,
   "metadata": {
    "collapsed": false,
    "jupyter": {
     "outputs_hidden": false
    }
   },
   "outputs": [],
   "source": [
    "num_trees = 100\n",
    "trees = []      # list to hold trees (the forest)\n",
    "fss = []        # list to hold feature subsets\n",
    "\n",
    "for i in range(num_trees):\n",
    "    # we need a random binary array with not all 0s (ensures no empty feature set)\n",
    "    array = [0]\n",
    "    while sum(array)==0:\n",
    "        array = np.random.randint(0,2,12)\n",
    "    pc_sub = [bool(x) for x in np.random.randint(0,2,12)]                   # pick random principal components\n",
    "    fss.append(pc_sub)                                                      # save subset component numbers\n",
    "    tr = DecisionTreeRegressor(random_state = np.random.randint(2**10))\n",
    "    tr.fit(x_tr_p[:,pc_sub],y_tr)                                           # train tree on subset\n",
    "    trees.append(tr)                                                        # append tree to forest"
   ]
  },
  {
   "cell_type": "code",
   "execution_count": 57,
   "metadata": {
    "collapsed": false,
    "jupyter": {
     "outputs_hidden": false
    }
   },
   "outputs": [],
   "source": [
    "def forest_pred(forest,inputs,fss):\n",
    "    inputs = pca.transform(normalize(inputs))                               # transform inputs to PCA fit\n",
    "    preds = []\n",
    "    for tree,fs in zip(forest,fss):\n",
    "        preds.append(tree.predict(inputs[:,fs]))\n",
    "    avgs = sum(preds)/len(preds) # average the predictions\n",
    "    return(avgs)"
   ]
  },
  {
   "cell_type": "code",
   "execution_count": 59,
   "metadata": {
    "collapsed": false,
    "jupyter": {
     "outputs_hidden": false
    }
   },
   "outputs": [
    {
     "name": "stderr",
     "output_type": "stream",
     "text": [
      "C:\\repos\\DS312\\venv\\Lib\\site-packages\\numpy\\core\\fromnumeric.py:86: FutureWarning: The behavior of DataFrame.sum with axis=None is deprecated, in a future version this will reduce over both axes and return a scalar. To retain the old behavior, pass axis=0 (or do not pass axis)\n",
      "  return reduction(axis=axis, out=out, **passkwargs)\n"
     ]
    },
    {
     "data": {
      "text/plain": [
       "quality    0.407434\n",
       "dtype: float64"
      ]
     },
     "execution_count": 59,
     "metadata": {},
     "output_type": "execute_result"
    }
   ],
   "source": [
    "preds = forest_pred(trees,x_va,fss)\n",
    "score(preds,y_va)"
   ]
  },
  {
   "cell_type": "markdown",
   "metadata": {
    "collapsed": false,
    "jupyter": {
     "outputs_hidden": false
    }
   },
   "source": [
    "## 2) Bootstrapping with Random Columns - Varied Sample Size"
   ]
  },
  {
   "cell_type": "code",
   "execution_count": 5,
   "metadata": {
    "collapsed": false,
    "jupyter": {
     "outputs_hidden": false
    }
   },
   "outputs": [],
   "source": [
    "from multiprocessing import Pool, cpu_count\n",
    "# from multiprocess import Pool, cpu_count        #\n",
    "from sklearn.tree import DecisionTreeRegressor"
   ]
  },
  {
   "cell_type": "code",
   "execution_count": 6,
   "metadata": {
    "collapsed": false,
    "jupyter": {
     "outputs_hidden": false
    }
   },
   "outputs": [
    {
     "data": {
      "text/plain": [
       "7"
      ]
     },
     "execution_count": 6,
     "metadata": {},
     "output_type": "execute_result"
    }
   ],
   "source": [
    "processes = cpu_count() - 1\n",
    "processes"
   ]
  },
  {
   "cell_type": "code",
   "execution_count": 7,
   "metadata": {
    "collapsed": false,
    "jupyter": {
     "outputs_hidden": false
    }
   },
   "outputs": [],
   "source": [
    "# dropping random features\n",
    "global fss, num_trees\n",
    "num_trees = 100\n",
    "fss = [] # a list to hold the list of feature subsets\n",
    "for i in range(num_trees):\n",
    "    # we need a random binary array with not all 0s\n",
    "    array = np.random.randint(0,2,12)\n",
    "    while sum(array)==0:\n",
    "        array = np.random.randint(0,2,12)\n",
    "    fs = np.array(features)[[bool(x) for x in np.random.randint(0,2,12)]]\n",
    "    fss.append(df[fs].columns)"
   ]
  },
  {
   "cell_type": "code",
   "execution_count": 8,
   "metadata": {
    "collapsed": false,
    "jupyter": {
     "outputs_hidden": false
    }
   },
   "outputs": [],
   "source": [
    "def forest_pred(forest,inputs,fss):\n",
    "    preds = []\n",
    "    for tree,fs in zip(forest,fss):\n",
    "        preds.append(tree.predict(inputs[fs]))\n",
    "    avgs = sum(preds)/len(preds) # average the predictions\n",
    "    return(avgs)"
   ]
  },
  {
   "cell_type": "code",
   "execution_count": 9,
   "metadata": {
    "collapsed": false,
    "jupyter": {
     "outputs_hidden": false
    }
   },
   "outputs": [],
   "source": [
    "def score(preds,actual):\n",
    "    '''\n",
    "    accepts: preds: an iterable of predictions\n",
    "             actual: the actual values\n",
    "    returns: the R^2 score of the model which generated the predictions\n",
    "    '''\n",
    "    resid = actual - preds.reshape(-1,1)\n",
    "    sse = np.sum(resid**2, axis=0);\n",
    "    resid_null = actual - np.mean(actual)\n",
    "    sse_null = np.sum(resid_null**2, axis=0);\n",
    "    r2 = 1-sse/sse_null\n",
    "    return(r2)"
   ]
  },
  {
   "cell_type": "code",
   "execution_count": 10,
   "metadata": {
    "collapsed": false,
    "jupyter": {
     "outputs_hidden": false
    },
    "pycharm": {
     "is_executing": true
    }
   },
   "outputs": [],
   "source": [
    "def train_score_forest(bootstrap_sample):\n",
    "\n",
    "    # Train the forest with the boostrap sample size\n",
    "    forest = []\n",
    "    for i in range(100):\n",
    "        tr = DecisionTreeRegressor(random_state = np.random.randint(10**7));\n",
    "        bootstrap_index = np.random.choice(x_tr.index,bootstrap_sample)\n",
    "        x_tr_subset = x_tr[fss[i]]\n",
    "        tr.fit(x_tr_subset.loc[bootstrap_index,],y_tr.loc[bootstrap_index,]);\n",
    "        forest.append(tr)\n",
    "\n",
    "    preds = forest_pred(forest, x_va, fss)\n",
    "    accuracy = score(preds, y_va)\n",
    "    \n",
    "    return accuracy"
   ]
  },
  {
   "cell_type": "code",
   "execution_count": 13,
   "metadata": {},
   "outputs": [],
   "source": [
    "with Pool(processes=processes) as pool:\n",
    "    accs = pool.map(train_score_forest, range(100,10001, 100)) # steps of 100 cause otherwise this aint finishing on my computer, not today anyway."
   ]
  },
  {
   "cell_type": "code",
   "execution_count": 16,
   "metadata": {},
   "outputs": [
    {
     "data": {
      "text/plain": [
       "[<matplotlib.lines.Line2D at 0x7f4446e73940>]"
      ]
     },
     "execution_count": 16,
     "metadata": {},
     "output_type": "execute_result"
    },
    {
     "data": {
      "image/png": "[encoded data removed]",
      "text/plain": [
       "<Figure size 640x480 with 1 Axes>"
      ]
     },
     "metadata": {},
     "output_type": "display_data"
    }
   ],
   "source": [
    "fig,ax = plt.subplots()\n",
    "ax.plot(range(100,10001,100), accs)"
   ]
  },
  {
   "cell_type": "code",
   "execution_count": 17,
   "metadata": {},
   "outputs": [],
   "source": [
    "# we are really trying everythign here to get an accuracy above the 0.40's"
   ]
  },
  {
   "cell_type": "code",
   "execution_count": null,
   "metadata": {},
   "outputs": [],
   "source": []
  }
 ],
 "metadata": {
  "kernelspec": {
   "display_name": "Python 3 (ipykernel)",
   "language": "python",
   "name": "python3"
  },
  "language_info": {
   "codemirror_mode": {
    "name": "ipython",
    "version": 3
   },
   "file_extension": ".py",
   "mimetype": "text/x-python",
   "name": "python",
   "nbconvert_exporter": "python",
   "pygments_lexer": "ipython3",
   "version": "3.10.12"
  }
 },
 "nbformat": 4,
 "nbformat_minor": 4
}
