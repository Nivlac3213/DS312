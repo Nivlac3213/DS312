{
 "cells": [
  {
   "cell_type": "markdown",
   "source": [
    "CEC470 Project: Personal Computer vs. Workstation in Machine Learning Tasks\n",
    "===========================================================================\n",
    "**Author: Calvin Henggler**\n",
    "**Dataset: Housing Dataset**\n",
    "Group members: Zach Hart, Calvin Henggeler, Heeithan Shanthan, Tyler Thurman\n",
    "\n",
    "Machine Learning is a booming concept in computer and data sciences with many applications. Developing machine learning models is primarily a CPU intensive task because of the "
   ],
   "metadata": {
    "collapsed": false
   }
  },
  {
   "cell_type": "code",
   "execution_count": 1,
   "outputs": [],
   "source": [
    "import pandas as pd\n",
    "import numpy as np\n",
    "import time\n",
    "from statistics import mean"
   ],
   "metadata": {
    "collapsed": false,
    "ExecuteTime": {
     "end_time": "2024-03-31T05:38:36.335547600Z",
     "start_time": "2024-03-31T05:38:36.290731497Z"
    }
   }
  },
  {
   "cell_type": "markdown",
   "source": [
    "## Single Threaded Tasks:\n",
    "1) inline algorithm performance (colatz length)\n",
    "2) data cleaning/ preparation\n",
    "3) small forest training"
   ],
   "metadata": {
    "collapsed": false
   }
  },
  {
   "cell_type": "markdown",
   "source": [
    "#### 1) Series Algorithm performance\n",
    "Computations for machine learning are based around mathematical operations. Training a single simple model might rely on a series of simple or longer computations or algorithms."
   ],
   "metadata": {
    "collapsed": false
   }
  },
  {
   "cell_type": "code",
   "execution_count": 2,
   "outputs": [],
   "source": [
    "def collatz_len(n):\n",
    "    \"\"\" Finds the number of steps to arrive at 1 from the number n using the Collatz conjecture \"\"\"\n",
    "    steps = 0\n",
    "    while n != 1:\n",
    "        # n is even\n",
    "        if n % 2 == 0:\n",
    "            n = n/2\n",
    "        # n is odd\n",
    "        else:\n",
    "            n = 3*n + 1\n",
    "\n",
    "        steps = steps + 1\n",
    "    return steps"
   ],
   "metadata": {
    "collapsed": false,
    "ExecuteTime": {
     "end_time": "2024-03-31T05:38:41.994614584Z",
     "start_time": "2024-03-31T05:38:41.961846824Z"
    }
   }
  },
  {
   "cell_type": "code",
   "execution_count": 9,
   "outputs": [
    {
     "name": "stdout",
     "output_type": "stream",
     "text": [
      "Mean execution time = 89682.059 nanoseconds\n"
     ]
    }
   ],
   "source": [
    "# Compute the Collatz length of a random integer 100 times and take the average time.\n",
    "execution_times = []\n",
    "for x in range(0,1000):\n",
    "    t_start = time.time_ns()\n",
    "    collatz_len(10)\n",
    "    collatz_len(100)\n",
    "    collatz_len(1000)\n",
    "    collatz_len(10000)\n",
    "    collatz_len(100000)\n",
    "    t_end = time.time_ns()\n",
    "    execution_times.append(t_end - t_start)\n",
    "print(f\"Mean execution time = {mean(execution_times)} nanoseconds\")"
   ],
   "metadata": {
    "collapsed": false,
    "ExecuteTime": {
     "end_time": "2024-03-31T05:39:00.849496578Z",
     "start_time": "2024-03-31T05:39:00.740061179Z"
    }
   }
  },
  {
   "cell_type": "markdown",
   "source": [
    "#### 2) Data Cleaning / Preparation\n",
    "Data preparation is a major part of the data science workflow. The raw collected data is often not in the best form to train the ML models. Common processes in data preparation include feature selection, normalization, generating data subsets for training, testing and validation. The pace in which these tasks gets completed dies not typically rely on the computer performance but rather the metholdolgy that the user choses. That said, it is still important to understand the capabilities of the machine for prepartion of data and perferforming typical organization tasks and mathematical operations often used in the prepartion process.\n",
    "\n",
    "The following lines of code mimic a typical data prepartion process for multiple data sets"
   ],
   "metadata": {
    "collapsed": false
   }
  },
  {
   "cell_type": "code",
   "execution_count": null,
   "outputs": [],
   "source": [
    "df_housing = pd.read_csv('data/housing.csv')\n",
    "# switching latitiude and longitude order in the DataFrame\n",
    "df_housing = df_housing[['latitude', 'longitude', 'housing_median_age', 'total_rooms',\n",
    "                         'total_bedrooms', 'population', 'households', 'median_income',\n",
    "                         'median_house_value', 'ocean_proximity']]\n",
    "features = ['housing_median_age', 'total_rooms','total_bedrooms',\n",
    "            'population', 'households', 'median_income']\n",
    "target = ['median_house_value']\n",
    "\n",
    "# drop columns we won't use\n",
    "df_housing = df_housing[features + target]\n",
    "# drop rows with missing data in one of the remaining columns\n",
    "df_housing = df_housing.dropna()\n",
    "\n"
   ],
   "metadata": {
    "collapsed": false
   }
  },
  {
   "cell_type": "markdown",
   "source": [
    "## Multiprocessing/ Multi threading Tasks\n",
    "1) Parellel algorithm Performance (collatz length)\n",
    "2) small and big forest training"
   ],
   "metadata": {
    "collapsed": false
   }
  },
  {
   "cell_type": "markdown",
   "source": [
    "## Graphics Processing Tasks\n",
    "GPU accelerated computing (very tew technolgy, only available with Nvidia GPU's with Cuda Cores) \n",
    "https://developer.nvidia.com/how-to-cuda-python\n",
    "Just do a graphics benchmark instead? "
   ],
   "metadata": {
    "collapsed": false
   }
  },
  {
   "cell_type": "code",
   "execution_count": null,
   "outputs": [],
   "source": [],
   "metadata": {
    "collapsed": false
   }
  }
 ],
 "metadata": {
  "kernelspec": {
   "display_name": "Python 3",
   "language": "python",
   "name": "python3"
  },
  "language_info": {
   "codemirror_mode": {
    "name": "ipython",
    "version": 2
   },
   "file_extension": ".py",
   "mimetype": "text/x-python",
   "name": "python",
   "nbconvert_exporter": "python",
   "pygments_lexer": "ipython2",
   "version": "2.7.6"
  }
 },
 "nbformat": 4,
 "nbformat_minor": 0
}
