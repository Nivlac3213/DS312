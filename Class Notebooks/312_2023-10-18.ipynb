{
 "cells": [
  {
   "cell_type": "markdown",
   "metadata": {},
   "source": [
    "Two things. First, we can combine this optimization with the previous optimizations we did on max_depth and criterion. However, the search space is getting quite large, so we would need a plan to make our search computationally possible. Second: pruning (and other hyperparameter optimization) is often combined with a technique called _cross-validation_. Cross-validation improves our estimates of optimal parameters at the expense of extra computation time. Let's start by discussing the broader technique of bootstrapping."
   ]
  },
  {
   "cell_type": "markdown",
   "metadata": {},
   "source": [
    "### Bootstrapping\n",
    "\n",
    "Now we discuss bootstrapping. Bootstrapping is a fundamental statistical technique, especially in nonparametric statistics. We use repeated sampling to empirically formulate estimates of population parameters without supposing a distribution."
   ]
  },
  {
   "cell_type": "code",
   "execution_count": 1,
   "metadata": {},
   "outputs": [],
   "source": [
    "from sklearn.linear_model import LinearRegression\n",
    "import pandas as pd\n",
    "import numpy as np\n",
    "import matplotlib.pyplot as plt\n",
    "import numpy as np"
   ]
  },
  {
   "cell_type": "code",
   "execution_count": 2,
   "metadata": {},
   "outputs": [
    {
     "data": {
      "text/html": [
       "<div>\n",
       "<style scoped>\n",
       "    .dataframe tbody tr th:only-of-type {\n",
       "        vertical-align: middle;\n",
       "    }\n",
       "\n",
       "    .dataframe tbody tr th {\n",
       "        vertical-align: top;\n",
       "    }\n",
       "\n",
       "    .dataframe thead th {\n",
       "        text-align: right;\n",
       "    }\n",
       "</style>\n",
       "<table border=\"1\" class=\"dataframe\">\n",
       "  <thead>\n",
       "    <tr style=\"text-align: right;\">\n",
       "      <th></th>\n",
       "      <th>sepal.length</th>\n",
       "      <th>sepal.width</th>\n",
       "      <th>petal.length</th>\n",
       "      <th>petal.width</th>\n",
       "      <th>variety</th>\n",
       "    </tr>\n",
       "  </thead>\n",
       "  <tbody>\n",
       "    <tr>\n",
       "      <th>0</th>\n",
       "      <td>5.1</td>\n",
       "      <td>3.5</td>\n",
       "      <td>1.4</td>\n",
       "      <td>0.2</td>\n",
       "      <td>Setosa</td>\n",
       "    </tr>\n",
       "    <tr>\n",
       "      <th>1</th>\n",
       "      <td>4.9</td>\n",
       "      <td>3.0</td>\n",
       "      <td>1.4</td>\n",
       "      <td>0.2</td>\n",
       "      <td>Setosa</td>\n",
       "    </tr>\n",
       "    <tr>\n",
       "      <th>2</th>\n",
       "      <td>4.7</td>\n",
       "      <td>3.2</td>\n",
       "      <td>1.3</td>\n",
       "      <td>0.2</td>\n",
       "      <td>Setosa</td>\n",
       "    </tr>\n",
       "    <tr>\n",
       "      <th>3</th>\n",
       "      <td>4.6</td>\n",
       "      <td>3.1</td>\n",
       "      <td>1.5</td>\n",
       "      <td>0.2</td>\n",
       "      <td>Setosa</td>\n",
       "    </tr>\n",
       "    <tr>\n",
       "      <th>4</th>\n",
       "      <td>5.0</td>\n",
       "      <td>3.6</td>\n",
       "      <td>1.4</td>\n",
       "      <td>0.2</td>\n",
       "      <td>Setosa</td>\n",
       "    </tr>\n",
       "  </tbody>\n",
       "</table>\n",
       "</div>"
      ],
      "text/plain": [
       "   sepal.length  sepal.width  petal.length  petal.width variety\n",
       "0           5.1          3.5           1.4          0.2  Setosa\n",
       "1           4.9          3.0           1.4          0.2  Setosa\n",
       "2           4.7          3.2           1.3          0.2  Setosa\n",
       "3           4.6          3.1           1.5          0.2  Setosa\n",
       "4           5.0          3.6           1.4          0.2  Setosa"
      ]
     },
     "execution_count": 2,
     "metadata": {},
     "output_type": "execute_result"
    }
   ],
   "source": [
    "# get the iris dataset\n",
    "iris = pd.read_csv('https://gist.github.com/netj/8836201/raw/6f9306ad21398ea43cba4f7d537619d0e07d5ae3/iris.csv')\n",
    "iris.head()"
   ]
  },
  {
   "cell_type": "code",
   "execution_count": 5,
   "metadata": {},
   "outputs": [
    {
     "data": {
      "image/png": "[encoded data removed]",
      "text/plain": [
       "<Figure size 432x288 with 1 Axes>"
      ]
     },
     "metadata": {
      "needs_background": "light"
     },
     "output_type": "display_data"
    }
   ],
   "source": [
    "plt.scatter(iris['petal.width'],iris['petal.length'],alpha=0.3)\n",
    "plt.title('Iris petal length vs width');"
   ]
  },
  {
   "cell_type": "markdown",
   "metadata": {},
   "source": [
    "We'll randomly sample 500 points at a time (with repetition) from the iris dataset. For each sample, we will find the parameters of the line of best fit. We'll then study the collection of parameters generated."
   ]
  },
  {
   "cell_type": "code",
   "execution_count": 12,
   "metadata": {},
   "outputs": [],
   "source": [
    "intercepts = [] # to hold the y-intercepts of the lines of best fit\n",
    "coefs = [] # to hold the slopes\n",
    "# 1000 iterations: sample the data, fit a line, and get the parameters\n",
    "for i in range(1000):\n",
    "    choices = np.random.choice(range(150), size=50, replace=True)\n",
    "    lr = LinearRegression()\n",
    "    lr.fit(iris[['petal.width']].loc[choices],iris[['petal.length']].loc[choices])\n",
    "    intercepts.append(lr.intercept_.item())\n",
    "    coefs.append(lr.coef_.item())\n",
    "# collect the parameter samples into a dataframe\n",
    "reg_df = pd.DataFrame({'coef':coefs,'intercept':intercepts})"
   ]
  },
  {
   "cell_type": "code",
   "execution_count": 13,
   "metadata": {},
   "outputs": [
    {
     "data": {
      "text/html": [
       "<div>\n",
       "<style scoped>\n",
       "    .dataframe tbody tr th:only-of-type {\n",
       "        vertical-align: middle;\n",
       "    }\n",
       "\n",
       "    .dataframe tbody tr th {\n",
       "        vertical-align: top;\n",
       "    }\n",
       "\n",
       "    .dataframe thead th {\n",
       "        text-align: right;\n",
       "    }\n",
       "</style>\n",
       "<table border=\"1\" class=\"dataframe\">\n",
       "  <thead>\n",
       "    <tr style=\"text-align: right;\">\n",
       "      <th></th>\n",
       "      <th>coef</th>\n",
       "      <th>intercept</th>\n",
       "    </tr>\n",
       "  </thead>\n",
       "  <tbody>\n",
       "    <tr>\n",
       "      <th>0</th>\n",
       "      <td>2.124098</td>\n",
       "      <td>1.292483</td>\n",
       "    </tr>\n",
       "    <tr>\n",
       "      <th>1</th>\n",
       "      <td>2.249479</td>\n",
       "      <td>1.096181</td>\n",
       "    </tr>\n",
       "    <tr>\n",
       "      <th>2</th>\n",
       "      <td>2.401059</td>\n",
       "      <td>0.931595</td>\n",
       "    </tr>\n",
       "    <tr>\n",
       "      <th>3</th>\n",
       "      <td>2.293938</td>\n",
       "      <td>1.064699</td>\n",
       "    </tr>\n",
       "    <tr>\n",
       "      <th>4</th>\n",
       "      <td>2.321992</td>\n",
       "      <td>1.080625</td>\n",
       "    </tr>\n",
       "  </tbody>\n",
       "</table>\n",
       "</div>"
      ],
      "text/plain": [
       "       coef  intercept\n",
       "0  2.124098   1.292483\n",
       "1  2.249479   1.096181\n",
       "2  2.401059   0.931595\n",
       "3  2.293938   1.064699\n",
       "4  2.321992   1.080625"
      ]
     },
     "execution_count": 13,
     "metadata": {},
     "output_type": "execute_result"
    }
   ],
   "source": [
    "reg_df.head()"
   ]
  },
  {
   "cell_type": "markdown",
   "metadata": {},
   "source": [
    "Next, for each x-value, we'll find a confidence interval for the predicted y-value based on our sample of lines of best fit."
   ]
  },
  {
   "cell_type": "code",
   "execution_count": 14,
   "metadata": {},
   "outputs": [],
   "source": [
    "# a function which will take a set of x-values and a dataframe with coef and intercept\n",
    "# it will return a confidence interval of predictions for each x-value, with CI = 95 default\n",
    "def minmax_preds(xs,df,CI = 95):\n",
    "    mins = []\n",
    "    maxes = []\n",
    "    for x in xs:\n",
    "        values = df['coef']*x+df['intercept']\n",
    "        maxes.append(np.percentile(values,(100+CI)/2))\n",
    "        mins.append(np.percentile(values,(100-CI)/2))\n",
    "    return(mins,maxes)"
   ]
  },
  {
   "cell_type": "code",
   "execution_count": 18,
   "metadata": {},
   "outputs": [
    {
     "data": {
      "image/png": "[encoded data removed]",
      "text/plain": [
       "<Figure size 432x288 with 1 Axes>"
      ]
     },
     "metadata": {
      "needs_background": "light"
     },
     "output_type": "display_data"
    }
   ],
   "source": [
    "# define the xs to be the range of petal.width values\n",
    "xs = np.linspace(0,max(iris['petal.width']),50)\n",
    "ymins,ymaxes = minmax_preds(xs,reg_df,50)\n",
    "\n",
    "# plot the lower and upper bounds of the line predictions for each x-value\n",
    "fig,ax = plt.subplots(figsize = (6,4))\n",
    "ax.plot(xs,ymins,color = '#FF0000')\n",
    "ax.plot(xs,ymaxes,color = '#FF0000')\n",
    "ax.scatter(iris['petal.width'],iris['petal.length'])\n",
    "ax.set_title('Iris / lines of best fit 95% CI')\n",
    "ax.set_xlabel('petal width')\n",
    "ax.set_ylabel('petal length');"
   ]
  },
  {
   "cell_type": "markdown",
   "metadata": {},
   "source": [
    "### Cross-validation\n",
    "\n",
    "k-fold cross-validation is a sort of bootstrapping. It means after splitting off the test data from a dataset, breaking the remainder into k evenly-sized pieces. Each of the k pieces is, in turn, treated as a validation set, while the other k-1 pieces act as training sets. Doing so will give us a collection of parameters which can be averaged. This approach is less prone to overfit since it uses several training sets. Let's use k-fold cross validation on the iris set."
   ]
  },
  {
   "cell_type": "code",
   "execution_count": 19,
   "metadata": {},
   "outputs": [],
   "source": [
    "from sklearn.model_selection import KFold, train_test_split"
   ]
  },
  {
   "cell_type": "code",
   "execution_count": 20,
   "metadata": {},
   "outputs": [],
   "source": [
    "x_tr,x_te,y_tr,y_te = train_test_split(iris[['petal.width']],iris[['petal.length']],\n",
    "                                      test_size = 0.2,random_state = 0)"
   ]
  },
  {
   "cell_type": "markdown",
   "metadata": {},
   "source": [
    "We'll use KFold to define a k-fold cross-validation set. If randomization is important, we need to randomize our data first, or else use KFold's optional argument shuffle = True. Since our train_test_split call randomized our initial dataset, we do not need to use KFold's shuffle.\n",
    "\n",
    "Note also that kf will give a split of the row numbers of the input, not the actual index. So, we use the generated indices with iloc, not loc."
   ]
  },
  {
   "cell_type": "code",
   "execution_count": 21,
   "metadata": {},
   "outputs": [
    {
     "name": "stdout",
     "output_type": "stream",
     "text": [
      "FOLD 0:\n",
      "\n",
      "  TRAIN INDEX=[ 40  41  42  43  44  45  46  47  48  49  50  51  52  53  54  55  56  57\n",
      "  58  59  60  61  62  63  64  65  66  67  68  69  70  71  72  73  74  75\n",
      "  76  77  78  79  80  81  82  83  84  85  86  87  88  89  90  91  92  93\n",
      "  94  95  96  97  98  99 100 101 102 103 104 105 106 107 108 109 110 111\n",
      " 112 113 114 115 116 117 118 119]\n",
      "\n",
      "  VAL INDEX=[ 0  1  2  3  4  5  6  7  8  9 10 11 12 13 14 15 16 17 18 19 20 21 22 23\n",
      " 24 25 26 27 28 29 30 31 32 33 34 35 36 37 38 39]\n",
      "\n",
      "\n",
      "FOLD 1:\n",
      "\n",
      "  TRAIN INDEX=[  0   1   2   3   4   5   6   7   8   9  10  11  12  13  14  15  16  17\n",
      "  18  19  20  21  22  23  24  25  26  27  28  29  30  31  32  33  34  35\n",
      "  36  37  38  39  80  81  82  83  84  85  86  87  88  89  90  91  92  93\n",
      "  94  95  96  97  98  99 100 101 102 103 104 105 106 107 108 109 110 111\n",
      " 112 113 114 115 116 117 118 119]\n",
      "\n",
      "  VAL INDEX=[40 41 42 43 44 45 46 47 48 49 50 51 52 53 54 55 56 57 58 59 60 61 62 63\n",
      " 64 65 66 67 68 69 70 71 72 73 74 75 76 77 78 79]\n",
      "\n",
      "\n",
      "FOLD 2:\n",
      "\n",
      "  TRAIN INDEX=[ 0  1  2  3  4  5  6  7  8  9 10 11 12 13 14 15 16 17 18 19 20 21 22 23\n",
      " 24 25 26 27 28 29 30 31 32 33 34 35 36 37 38 39 40 41 42 43 44 45 46 47\n",
      " 48 49 50 51 52 53 54 55 56 57 58 59 60 61 62 63 64 65 66 67 68 69 70 71\n",
      " 72 73 74 75 76 77 78 79]\n",
      "\n",
      "  VAL INDEX=[ 80  81  82  83  84  85  86  87  88  89  90  91  92  93  94  95  96  97\n",
      "  98  99 100 101 102 103 104 105 106 107 108 109 110 111 112 113 114 115\n",
      " 116 117 118 119]\n",
      "\n",
      "\n"
     ]
    }
   ],
   "source": [
    "kf = KFold(n_splits=3) # by default, the input will not be shuffled!\n",
    "kf.get_n_splits(x_tr) # define splits on the x_tr row numbers.\n",
    "# kf.split(x_tr) returns a generator. let's investigate:\n",
    "for i, (train_index, val_index) in enumerate(kf.split(x_tr)):\n",
    "    print(f'FOLD {i}:\\n')\n",
    "    print(f'  TRAIN INDEX={train_index}\\n')\n",
    "    print(f'  VAL INDEX={val_index}\\n\\n')"
   ]
  },
  {
   "cell_type": "code",
   "execution_count": 24,
   "metadata": {},
   "outputs": [],
   "source": [
    "coefs = []\n",
    "intercepts = []\n",
    "for train_index,val_index in kf.split(x_tr):\n",
    "    lr.fit(x_tr.iloc[train_index],y_tr.iloc[train_index])\n",
    "    coefs.append(lr.coef_)\n",
    "    intercepts.append(lr.intercept_)"
   ]
  },
  {
   "cell_type": "code",
   "execution_count": 25,
   "metadata": {},
   "outputs": [
    {
     "name": "stdout",
     "output_type": "stream",
     "text": [
      "coef: 2.228\n",
      "intercept: 1.073\n"
     ]
    }
   ],
   "source": [
    "coef = round(np.mean(coefs),3)\n",
    "intercept = round(np.mean(intercepts),3)\n",
    "print(f'coef: {coef}\\nintercept: {intercept}')"
   ]
  },
  {
   "cell_type": "code",
   "execution_count": 27,
   "metadata": {},
   "outputs": [
    {
     "data": {
      "image/png": "[encoded data removed]",
      "text/plain": [
       "<Figure size 432x288 with 1 Axes>"
      ]
     },
     "metadata": {
      "needs_background": "light"
     },
     "output_type": "display_data"
    }
   ],
   "source": [
    "# plot the k-folds average line of best fit vs the 95% CI min/max\n",
    "fig,ax = plt.subplots(figsize = (6,4))\n",
    "ax.plot(xs,ymins,color = '#FF0000',label = '95% CI min/max')\n",
    "ax.plot(xs,ymaxes,color = '#FF0000')\n",
    "ax.scatter(iris['petal.width'],iris['petal.length'])\n",
    "ax.plot(xs,[x*coef+intercept for x in xs],color = '#000000',label = 'k-fold avg')\n",
    "ax.set_title('Iris / lines of best fit 95% CI')\n",
    "ax.set_xlabel('petal width')\n",
    "ax.set_ylabel('petal length')\n",
    "ax.legend();"
   ]
  },
  {
   "cell_type": "markdown",
   "metadata": {},
   "source": [
    "Now we use bootstrapping with k-fold cross-validation to get a confidence interval for the line of best fit."
   ]
  },
  {
   "cell_type": "code",
   "execution_count": 28,
   "metadata": {},
   "outputs": [
    {
     "data": {
      "image/png": "[encoded data removed]",
      "text/plain": [
       "<Figure size 432x288 with 1 Axes>"
      ]
     },
     "metadata": {
      "needs_background": "light"
     },
     "output_type": "display_data"
    }
   ],
   "source": [
    "# now with more folds!\n",
    "folds = 10\n",
    "kf = KFold(n_splits=folds)\n",
    "kf.get_n_splits(x_tr)\n",
    "coefs = []\n",
    "intercepts = []\n",
    "for fold,(train_index,val_index) in enumerate(kf.split(x_tr)):\n",
    "    lr.fit(x_tr.iloc[train_index],y_tr.iloc[train_index])\n",
    "    coefs.append(lr.coef_)\n",
    "    intercepts.append(lr.intercept_)\n",
    "fig,ax = plt.subplots(figsize = (6,4))\n",
    "ax.scatter(xs,ymins,s=3,color = '#FF0000',label = '95% CI min/max')\n",
    "ax.scatter(xs,ymaxes,s=3,color = '#FF0000')\n",
    "ax.scatter(iris['petal.width'],iris['petal.length'])\n",
    "ax.plot(xs,[x*coef+intercept for x in xs],color = '#000000',label = f'{folds}-fold avg')\n",
    "ax.set_title('Iris / lines of best fit 95% CI')\n",
    "ax.set_xlabel('petal width')\n",
    "ax.set_ylabel('petal length')\n",
    "ax.legend();"
   ]
  }
 ],
 "metadata": {
  "kernelspec": {
   "display_name": "Python 3",
   "language": "python",
   "name": "python3"
  },
  "language_info": {
   "codemirror_mode": {
    "name": "ipython",
    "version": 3
   },
   "file_extension": ".py",
   "mimetype": "text/x-python",
   "name": "python",
   "nbconvert_exporter": "python",
   "pygments_lexer": "ipython3",
   "version": "3.8.10"
  }
 },
 "nbformat": 4,
 "nbformat_minor": 4
}
