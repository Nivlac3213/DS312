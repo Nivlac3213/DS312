{
 "cells": [
  {
   "cell_type": "code",
   "execution_count": 4,
   "metadata": {
    "ExecuteTime": {
     "end_time": "2023-09-25T15:07:50.618889500Z",
     "start_time": "2023-09-25T15:07:50.415814400Z"
    }
   },
   "outputs": [],
   "source": [
    "import pandas as pd"
   ]
  },
  {
   "cell_type": "code",
   "execution_count": 5,
   "metadata": {
    "ExecuteTime": {
     "end_time": "2023-09-25T15:07:51.059907600Z",
     "start_time": "2023-09-25T15:07:50.425226500Z"
    }
   },
   "outputs": [],
   "source": [
    "df = pd.read_csv('../data/housing.csv')"
   ]
  },
  {
   "cell_type": "code",
   "execution_count": 6,
   "metadata": {
    "ExecuteTime": {
     "end_time": "2023-09-25T15:07:51.091853100Z",
     "start_time": "2023-09-25T15:07:50.488590400Z"
    }
   },
   "outputs": [
    {
     "data": {
      "text/plain": "   longitude  latitude  housing_median_age  total_rooms  total_bedrooms  \\\n0    -122.23     37.88                41.0        880.0           129.0   \n1    -122.22     37.86                21.0       7099.0          1106.0   \n2    -122.24     37.85                52.0       1467.0           190.0   \n\n   population  households  median_income  median_house_value ocean_proximity  \n0       322.0       126.0         8.3252            452600.0        NEAR BAY  \n1      2401.0      1138.0         8.3014            358500.0        NEAR BAY  \n2       496.0       177.0         7.2574            352100.0        NEAR BAY  ",
      "text/html": "<div>\n<style scoped>\n    .dataframe tbody tr th:only-of-type {\n        vertical-align: middle;\n    }\n\n    .dataframe tbody tr th {\n        vertical-align: top;\n    }\n\n    .dataframe thead th {\n        text-align: right;\n    }\n</style>\n<table border=\"1\" class=\"dataframe\">\n  <thead>\n    <tr style=\"text-align: right;\">\n      <th></th>\n      <th>longitude</th>\n      <th>latitude</th>\n      <th>housing_median_age</th>\n      <th>total_rooms</th>\n      <th>total_bedrooms</th>\n      <th>population</th>\n      <th>households</th>\n      <th>median_income</th>\n      <th>median_house_value</th>\n      <th>ocean_proximity</th>\n    </tr>\n  </thead>\n  <tbody>\n    <tr>\n      <th>0</th>\n      <td>-122.23</td>\n      <td>37.88</td>\n      <td>41.0</td>\n      <td>880.0</td>\n      <td>129.0</td>\n      <td>322.0</td>\n      <td>126.0</td>\n      <td>8.3252</td>\n      <td>452600.0</td>\n      <td>NEAR BAY</td>\n    </tr>\n    <tr>\n      <th>1</th>\n      <td>-122.22</td>\n      <td>37.86</td>\n      <td>21.0</td>\n      <td>7099.0</td>\n      <td>1106.0</td>\n      <td>2401.0</td>\n      <td>1138.0</td>\n      <td>8.3014</td>\n      <td>358500.0</td>\n      <td>NEAR BAY</td>\n    </tr>\n    <tr>\n      <th>2</th>\n      <td>-122.24</td>\n      <td>37.85</td>\n      <td>52.0</td>\n      <td>1467.0</td>\n      <td>190.0</td>\n      <td>496.0</td>\n      <td>177.0</td>\n      <td>7.2574</td>\n      <td>352100.0</td>\n      <td>NEAR BAY</td>\n    </tr>\n  </tbody>\n</table>\n</div>"
     },
     "execution_count": 6,
     "metadata": {},
     "output_type": "execute_result"
    }
   ],
   "source": [
    "df.head(3)"
   ]
  },
  {
   "cell_type": "code",
   "execution_count": 7,
   "metadata": {
    "ExecuteTime": {
     "end_time": "2023-09-25T15:07:51.091853100Z",
     "start_time": "2023-09-25T15:07:50.520153700Z"
    }
   },
   "outputs": [
    {
     "data": {
      "text/plain": "Index(['longitude', 'latitude', 'housing_median_age', 'total_rooms',\n       'total_bedrooms', 'population', 'households', 'median_income',\n       'median_house_value', 'ocean_proximity'],\n      dtype='object')"
     },
     "execution_count": 7,
     "metadata": {},
     "output_type": "execute_result"
    }
   ],
   "source": [
    "df.columns"
   ]
  },
  {
   "cell_type": "code",
   "execution_count": 8,
   "metadata": {
    "ExecuteTime": {
     "end_time": "2023-09-25T15:07:51.091853100Z",
     "start_time": "2023-09-25T15:07:50.537119800Z"
    }
   },
   "outputs": [],
   "source": [
    "df = df[['latitude', 'longitude', 'housing_median_age', 'total_rooms',\n",
    "       'total_bedrooms', 'population', 'households', 'median_income',\n",
    "       'median_house_value', 'ocean_proximity']]"
   ]
  },
  {
   "cell_type": "code",
   "execution_count": 9,
   "metadata": {
    "ExecuteTime": {
     "end_time": "2023-09-25T15:07:51.107500700Z",
     "start_time": "2023-09-25T15:07:50.553097900Z"
    }
   },
   "outputs": [
    {
     "data": {
      "text/plain": "           latitude     longitude  housing_median_age   total_rooms  \\\ncount  20640.000000  20640.000000        20640.000000  20640.000000   \nmean      35.631861   -119.569704           28.639486   2635.763081   \nstd        2.135952      2.003532           12.585558   2181.615252   \nmin       32.540000   -124.350000            1.000000      2.000000   \n25%       33.930000   -121.800000           18.000000   1447.750000   \n50%       34.260000   -118.490000           29.000000   2127.000000   \n75%       37.710000   -118.010000           37.000000   3148.000000   \nmax       41.950000   -114.310000           52.000000  39320.000000   \n\n       total_bedrooms    population    households  median_income  \\\ncount    20433.000000  20640.000000  20640.000000   20640.000000   \nmean       537.870553   1425.476744    499.539680       3.870671   \nstd        421.385070   1132.462122    382.329753       1.899822   \nmin          1.000000      3.000000      1.000000       0.499900   \n25%        296.000000    787.000000    280.000000       2.563400   \n50%        435.000000   1166.000000    409.000000       3.534800   \n75%        647.000000   1725.000000    605.000000       4.743250   \nmax       6445.000000  35682.000000   6082.000000      15.000100   \n\n       median_house_value  \ncount        20640.000000  \nmean        206855.816909  \nstd         115395.615874  \nmin          14999.000000  \n25%         119600.000000  \n50%         179700.000000  \n75%         264725.000000  \nmax         500001.000000  ",
      "text/html": "<div>\n<style scoped>\n    .dataframe tbody tr th:only-of-type {\n        vertical-align: middle;\n    }\n\n    .dataframe tbody tr th {\n        vertical-align: top;\n    }\n\n    .dataframe thead th {\n        text-align: right;\n    }\n</style>\n<table border=\"1\" class=\"dataframe\">\n  <thead>\n    <tr style=\"text-align: right;\">\n      <th></th>\n      <th>latitude</th>\n      <th>longitude</th>\n      <th>housing_median_age</th>\n      <th>total_rooms</th>\n      <th>total_bedrooms</th>\n      <th>population</th>\n      <th>households</th>\n      <th>median_income</th>\n      <th>median_house_value</th>\n    </tr>\n  </thead>\n  <tbody>\n    <tr>\n      <th>count</th>\n      <td>20640.000000</td>\n      <td>20640.000000</td>\n      <td>20640.000000</td>\n      <td>20640.000000</td>\n      <td>20433.000000</td>\n      <td>20640.000000</td>\n      <td>20640.000000</td>\n      <td>20640.000000</td>\n      <td>20640.000000</td>\n    </tr>\n    <tr>\n      <th>mean</th>\n      <td>35.631861</td>\n      <td>-119.569704</td>\n      <td>28.639486</td>\n      <td>2635.763081</td>\n      <td>537.870553</td>\n      <td>1425.476744</td>\n      <td>499.539680</td>\n      <td>3.870671</td>\n      <td>206855.816909</td>\n    </tr>\n    <tr>\n      <th>std</th>\n      <td>2.135952</td>\n      <td>2.003532</td>\n      <td>12.585558</td>\n      <td>2181.615252</td>\n      <td>421.385070</td>\n      <td>1132.462122</td>\n      <td>382.329753</td>\n      <td>1.899822</td>\n      <td>115395.615874</td>\n    </tr>\n    <tr>\n      <th>min</th>\n      <td>32.540000</td>\n      <td>-124.350000</td>\n      <td>1.000000</td>\n      <td>2.000000</td>\n      <td>1.000000</td>\n      <td>3.000000</td>\n      <td>1.000000</td>\n      <td>0.499900</td>\n      <td>14999.000000</td>\n    </tr>\n    <tr>\n      <th>25%</th>\n      <td>33.930000</td>\n      <td>-121.800000</td>\n      <td>18.000000</td>\n      <td>1447.750000</td>\n      <td>296.000000</td>\n      <td>787.000000</td>\n      <td>280.000000</td>\n      <td>2.563400</td>\n      <td>119600.000000</td>\n    </tr>\n    <tr>\n      <th>50%</th>\n      <td>34.260000</td>\n      <td>-118.490000</td>\n      <td>29.000000</td>\n      <td>2127.000000</td>\n      <td>435.000000</td>\n      <td>1166.000000</td>\n      <td>409.000000</td>\n      <td>3.534800</td>\n      <td>179700.000000</td>\n    </tr>\n    <tr>\n      <th>75%</th>\n      <td>37.710000</td>\n      <td>-118.010000</td>\n      <td>37.000000</td>\n      <td>3148.000000</td>\n      <td>647.000000</td>\n      <td>1725.000000</td>\n      <td>605.000000</td>\n      <td>4.743250</td>\n      <td>264725.000000</td>\n    </tr>\n    <tr>\n      <th>max</th>\n      <td>41.950000</td>\n      <td>-114.310000</td>\n      <td>52.000000</td>\n      <td>39320.000000</td>\n      <td>6445.000000</td>\n      <td>35682.000000</td>\n      <td>6082.000000</td>\n      <td>15.000100</td>\n      <td>500001.000000</td>\n    </tr>\n  </tbody>\n</table>\n</div>"
     },
     "execution_count": 9,
     "metadata": {},
     "output_type": "execute_result"
    }
   ],
   "source": [
    "df.describe()"
   ]
  },
  {
   "cell_type": "code",
   "execution_count": 10,
   "metadata": {
    "ExecuteTime": {
     "end_time": "2023-09-25T15:07:51.107500700Z",
     "start_time": "2023-09-25T15:07:50.618889500Z"
    }
   },
   "outputs": [],
   "source": [
    "# let's model median_house_value as our target variable\n",
    "# I'll pick these six features\n",
    "# I don't think lat and long will be useful for a linear model,\n",
    "# and I will omit the string column ocean_proximity\n",
    "features = ['housing_median_age', 'total_rooms','total_bedrooms',\n",
    "            'population', 'households', 'median_income']\n",
    "target = ['median_house_value']"
   ]
  },
  {
   "cell_type": "code",
   "execution_count": 11,
   "metadata": {
    "ExecuteTime": {
     "end_time": "2023-09-25T15:07:51.107500700Z",
     "start_time": "2023-09-25T15:07:50.633099800Z"
    }
   },
   "outputs": [],
   "source": [
    "# drop columns we won't use\n",
    "df = df[features+target]"
   ]
  },
  {
   "cell_type": "code",
   "execution_count": 12,
   "metadata": {
    "ExecuteTime": {
     "end_time": "2023-09-25T15:07:51.107500700Z",
     "start_time": "2023-09-25T15:07:50.647362400Z"
    }
   },
   "outputs": [],
   "source": [
    "# drop rows with missing data in one of the remaining columns\n",
    "df = df.dropna()"
   ]
  },
  {
   "cell_type": "code",
   "execution_count": 13,
   "metadata": {
    "ExecuteTime": {
     "end_time": "2023-09-25T15:07:51.613699200Z",
     "start_time": "2023-09-25T15:07:50.663188600Z"
    }
   },
   "outputs": [],
   "source": [
    "# let's do a train-val-test split\n",
    "from sklearn.model_selection import train_test_split\n",
    "x_train,x_test,y_train,y_test = train_test_split(df[features],\n",
    "                                                 df[target],\n",
    "                                                 test_size = 0.4,\n",
    "                                                 random_state = 0)"
   ]
  },
  {
   "cell_type": "code",
   "execution_count": 14,
   "metadata": {
    "ExecuteTime": {
     "end_time": "2023-09-25T15:07:51.613699200Z",
     "start_time": "2023-09-25T15:07:51.582112900Z"
    }
   },
   "outputs": [],
   "source": [
    "x_val,x_test,y_val,y_test = train_test_split(x_test,\n",
    "                                             y_test,\n",
    "                                             test_size = 0.5,\n",
    "                                             random_state = 0)"
   ]
  },
  {
   "cell_type": "code",
   "execution_count": 15,
   "metadata": {
    "ExecuteTime": {
     "end_time": "2023-09-25T15:07:51.650839100Z",
     "start_time": "2023-09-25T15:07:51.598039700Z"
    }
   },
   "outputs": [
    {
     "data": {
      "text/plain": "2.9995106435037924"
     },
     "execution_count": 15,
     "metadata": {},
     "output_type": "execute_result"
    }
   ],
   "source": [
    "len(x_train)/len(x_test)"
   ]
  },
  {
   "cell_type": "code",
   "execution_count": 16,
   "metadata": {
    "ExecuteTime": {
     "end_time": "2023-09-25T15:07:52.051303500Z",
     "start_time": "2023-09-25T15:07:51.609679100Z"
    }
   },
   "outputs": [],
   "source": [
    "from sklearn.linear_model import LinearRegression"
   ]
  },
  {
   "cell_type": "code",
   "execution_count": 17,
   "metadata": {
    "ExecuteTime": {
     "end_time": "2023-09-25T15:07:52.061188400Z",
     "start_time": "2023-09-25T15:07:52.060671300Z"
    }
   },
   "outputs": [],
   "source": [
    "lr = LinearRegression()"
   ]
  },
  {
   "cell_type": "code",
   "execution_count": 18,
   "metadata": {
    "ExecuteTime": {
     "end_time": "2023-09-25T15:07:52.132857700Z",
     "start_time": "2023-09-25T15:07:52.061188400Z"
    }
   },
   "outputs": [
    {
     "data": {
      "text/plain": "0.5614677159523239"
     },
     "execution_count": 18,
     "metadata": {},
     "output_type": "execute_result"
    }
   ],
   "source": [
    "lr.fit(x_train,y_train)\n",
    "lr.score(x_val,y_val)"
   ]
  },
  {
   "cell_type": "code",
   "execution_count": 19,
   "metadata": {
    "ExecuteTime": {
     "end_time": "2023-09-25T15:07:52.133982100Z",
     "start_time": "2023-09-25T15:07:52.098704200Z"
    }
   },
   "outputs": [
    {
     "name": "stdout",
     "output_type": "stream",
     "text": [
      "housing_median_age 1866.0512948368803\n",
      "total_rooms -18.6044215098864\n",
      "total_bedrooms 98.40287632209355\n",
      "population -32.80233615787482\n",
      "households 113.49421027982164\n",
      "median_income 47133.06363115725\n"
     ]
    }
   ],
   "source": [
    "# let's look at the coefficients\n",
    "for _ in zip(features,lr.coef_[0]):\n",
    "    print(_[0],_[1])\n"
   ]
  },
  {
   "cell_type": "code",
   "execution_count": 20,
   "metadata": {
    "ExecuteTime": {
     "end_time": "2023-09-25T15:07:53.460738300Z",
     "start_time": "2023-09-25T15:07:52.105090500Z"
    }
   },
   "outputs": [
    {
     "data": {
      "text/plain": "<Figure size 640x480 with 2 Axes>",
      "image/png": "[encoded data removed]"
     },
     "metadata": {},
     "output_type": "display_data"
    }
   ],
   "source": [
    "import matplotlib.pyplot as plt\n",
    "import seaborn as sns\n",
    "fig,ax = plt.subplots()\n",
    "ax = sns.heatmap(df.corr(),vmin=-1,vmax=1,cmap=\"vlag\",annot = True)\n",
    "ax.set_xticklabels(ax.get_xticklabels(),rotation=90)\n",
    "ax.set_yticklabels(ax.get_yticklabels(),rotation=0)\n",
    "ax.set_title('bay area housing price heat map');"
   ]
  },
  {
   "cell_type": "code",
   "execution_count": 21,
   "metadata": {
    "ExecuteTime": {
     "end_time": "2023-09-25T15:07:53.469315700Z",
     "start_time": "2023-09-25T15:07:53.460738300Z"
    }
   },
   "outputs": [],
   "source": [
    "from itertools import combinations"
   ]
  },
  {
   "cell_type": "code",
   "execution_count": 22,
   "metadata": {
    "ExecuteTime": {
     "end_time": "2023-09-25T15:07:53.485052400Z",
     "start_time": "2023-09-25T15:07:53.469315700Z"
    }
   },
   "outputs": [],
   "source": [
    "coef_dct = dict(zip(features,[[],[],[],[],[],[]]))"
   ]
  },
  {
   "cell_type": "code",
   "execution_count": 23,
   "metadata": {
    "ExecuteTime": {
     "end_time": "2023-09-25T15:07:54.344207800Z",
     "start_time": "2023-09-25T15:07:53.477716700Z"
    }
   },
   "outputs": [],
   "source": [
    "for i in range(1,len(features)+1):\n",
    "    for feature_subset in combinations(features,i):\n",
    "        feature_subset = list(feature_subset)\n",
    "        df_tmp = df[feature_subset+target]\n",
    "        df_tmp = df_tmp.dropna()\n",
    "        x_train,x_test,y_train,y_test = train_test_split(df_tmp[feature_subset],\n",
    "                                                         df_tmp[target],\n",
    "                                                         test_size = 0.4,\n",
    "                                                         random_state = 0)\n",
    "        x_val,x_test,y_val,y_test = train_test_split(x_test,\n",
    "                                                     y_test,\n",
    "                                                     test_size = 0.5,\n",
    "                                                     random_state = 0)\n",
    "        lr = LinearRegression()\n",
    "        lr.fit(x_train,y_train)\n",
    "        lr.score(x_val,y_val)\n",
    "        for item in zip(feature_subset, lr.coef_[0]):\n",
    "            coef_dct[item[0]].append(item[1])"
   ]
  },
  {
   "cell_type": "code",
   "execution_count": 24,
   "metadata": {
    "ExecuteTime": {
     "end_time": "2023-09-25T15:07:54.357430900Z",
     "start_time": "2023-09-25T15:07:54.344207800Z"
    }
   },
   "outputs": [],
   "source": [
    "df_coef = pd.DataFrame(coef_dct)"
   ]
  },
  {
   "cell_type": "code",
   "execution_count": 25,
   "metadata": {
    "ExecuteTime": {
     "end_time": "2023-09-25T15:07:54.385576300Z",
     "start_time": "2023-09-25T15:07:54.355185300Z"
    }
   },
   "outputs": [
    {
     "data": {
      "text/plain": "['housing_median_age',\n 'total_rooms',\n 'total_bedrooms',\n 'population',\n 'households',\n 'median_income']"
     },
     "execution_count": 25,
     "metadata": {},
     "output_type": "execute_result"
    }
   ],
   "source": [
    "features"
   ]
  },
  {
   "cell_type": "code",
   "execution_count": 26,
   "metadata": {
    "ExecuteTime": {
     "end_time": "2023-09-25T15:07:54.653900700Z",
     "start_time": "2023-09-25T15:07:54.374023700Z"
    }
   },
   "outputs": [
    {
     "data": {
      "text/plain": "<Axes: >"
     },
     "execution_count": 26,
     "metadata": {},
     "output_type": "execute_result"
    },
    {
     "data": {
      "text/plain": "<Figure size 640x480 with 1 Axes>",
      "image/png": "[encoded data removed]"
     },
     "metadata": {},
     "output_type": "display_data"
    }
   ],
   "source": [
    "df_coef[features[1:-1]].boxplot()"
   ]
  },
  {
   "cell_type": "code",
   "execution_count": 27,
   "metadata": {
    "ExecuteTime": {
     "end_time": "2023-09-25T15:07:54.663471700Z",
     "start_time": "2023-09-25T15:07:54.653900700Z"
    }
   },
   "outputs": [],
   "source": [
    "# the wild fluctuation in coefficients per feature proves the features are dependent.\n",
    "# the boxplot shows the impact of feature dependence on our ability to interpret a linear\n",
    "# model.\n",
    "# we will do feature engineering to produce a set of six independent features from the\n",
    "# given feature set.\n",
    "# specifically, we'll use Principal Component Analysis (PCA)\n",
    "# PCA assumed the variables are jointly normally distributed.\n"
   ]
  },
  {
   "cell_type": "code",
   "execution_count": 28,
   "metadata": {
    "ExecuteTime": {
     "end_time": "2023-09-25T15:07:54.798788200Z",
     "start_time": "2023-09-25T15:07:54.664484100Z"
    }
   },
   "outputs": [],
   "source": [
    "from sklearn.decomposition import PCA"
   ]
  },
  {
   "cell_type": "code",
   "execution_count": 29,
   "metadata": {
    "ExecuteTime": {
     "end_time": "2023-09-25T15:07:54.798788200Z",
     "start_time": "2023-09-25T15:07:54.752199Z"
    }
   },
   "outputs": [],
   "source": [
    "pca = PCA(n_components=6) # controls how many principal components are returned\n",
    "# this gives us an object we can fit to some data"
   ]
  },
  {
   "cell_type": "code",
   "execution_count": 30,
   "metadata": {
    "ExecuteTime": {
     "end_time": "2023-09-25T15:07:54.798788200Z",
     "start_time": "2023-09-25T15:07:54.765009900Z"
    }
   },
   "outputs": [
    {
     "data": {
      "text/plain": "PCA(n_components=6)",
      "text/html": "<style>#sk-container-id-1 {color: black;}#sk-container-id-1 pre{padding: 0;}#sk-container-id-1 div.sk-toggleable {background-color: white;}#sk-container-id-1 label.sk-toggleable__label {cursor: pointer;display: block;width: 100%;margin-bottom: 0;padding: 0.3em;box-sizing: border-box;text-align: center;}#sk-container-id-1 label.sk-toggleable__label-arrow:before {content: \"▸\";float: left;margin-right: 0.25em;color: #696969;}#sk-container-id-1 label.sk-toggleable__label-arrow:hover:before {color: black;}#sk-container-id-1 div.sk-estimator:hover label.sk-toggleable__label-arrow:before {color: black;}#sk-container-id-1 div.sk-toggleable__content {max-height: 0;max-width: 0;overflow: hidden;text-align: left;background-color: #f0f8ff;}#sk-container-id-1 div.sk-toggleable__content pre {margin: 0.2em;color: black;border-radius: 0.25em;background-color: #f0f8ff;}#sk-container-id-1 input.sk-toggleable__control:checked~div.sk-toggleable__content {max-height: 200px;max-width: 100%;overflow: auto;}#sk-container-id-1 input.sk-toggleable__control:checked~label.sk-toggleable__label-arrow:before {content: \"▾\";}#sk-container-id-1 div.sk-estimator input.sk-toggleable__control:checked~label.sk-toggleable__label {background-color: #d4ebff;}#sk-container-id-1 div.sk-label input.sk-toggleable__control:checked~label.sk-toggleable__label {background-color: #d4ebff;}#sk-container-id-1 input.sk-hidden--visually {border: 0;clip: rect(1px 1px 1px 1px);clip: rect(1px, 1px, 1px, 1px);height: 1px;margin: -1px;overflow: hidden;padding: 0;position: absolute;width: 1px;}#sk-container-id-1 div.sk-estimator {font-family: monospace;background-color: #f0f8ff;border: 1px dotted black;border-radius: 0.25em;box-sizing: border-box;margin-bottom: 0.5em;}#sk-container-id-1 div.sk-estimator:hover {background-color: #d4ebff;}#sk-container-id-1 div.sk-parallel-item::after {content: \"\";width: 100%;border-bottom: 1px solid gray;flex-grow: 1;}#sk-container-id-1 div.sk-label:hover label.sk-toggleable__label {background-color: #d4ebff;}#sk-container-id-1 div.sk-serial::before {content: \"\";position: absolute;border-left: 1px solid gray;box-sizing: border-box;top: 0;bottom: 0;left: 50%;z-index: 0;}#sk-container-id-1 div.sk-serial {display: flex;flex-direction: column;align-items: center;background-color: white;padding-right: 0.2em;padding-left: 0.2em;position: relative;}#sk-container-id-1 div.sk-item {position: relative;z-index: 1;}#sk-container-id-1 div.sk-parallel {display: flex;align-items: stretch;justify-content: center;background-color: white;position: relative;}#sk-container-id-1 div.sk-item::before, #sk-container-id-1 div.sk-parallel-item::before {content: \"\";position: absolute;border-left: 1px solid gray;box-sizing: border-box;top: 0;bottom: 0;left: 50%;z-index: -1;}#sk-container-id-1 div.sk-parallel-item {display: flex;flex-direction: column;z-index: 1;position: relative;background-color: white;}#sk-container-id-1 div.sk-parallel-item:first-child::after {align-self: flex-end;width: 50%;}#sk-container-id-1 div.sk-parallel-item:last-child::after {align-self: flex-start;width: 50%;}#sk-container-id-1 div.sk-parallel-item:only-child::after {width: 0;}#sk-container-id-1 div.sk-dashed-wrapped {border: 1px dashed gray;margin: 0 0.4em 0.5em 0.4em;box-sizing: border-box;padding-bottom: 0.4em;background-color: white;}#sk-container-id-1 div.sk-label label {font-family: monospace;font-weight: bold;display: inline-block;line-height: 1.2em;}#sk-container-id-1 div.sk-label-container {text-align: center;}#sk-container-id-1 div.sk-container {/* jupyter's `normalize.less` sets `[hidden] { display: none; }` but bootstrap.min.css set `[hidden] { display: none !important; }` so we also need the `!important` here to be able to override the default hidden behavior on the sphinx rendered scikit-learn.org. See: https://github.com/scikit-learn/scikit-learn/issues/21755 */display: inline-block !important;position: relative;}#sk-container-id-1 div.sk-text-repr-fallback {display: none;}</style><div id=\"sk-container-id-1\" class=\"sk-top-container\"><div class=\"sk-text-repr-fallback\"><pre>PCA(n_components=6)</pre><b>In a Jupyter environment, please rerun this cell to show the HTML representation or trust the notebook. <br />On GitHub, the HTML representation is unable to render, please try loading this page with nbviewer.org.</b></div><div class=\"sk-container\" hidden><div class=\"sk-item\"><div class=\"sk-estimator sk-toggleable\"><input class=\"sk-toggleable__control sk-hidden--visually\" id=\"sk-estimator-id-1\" type=\"checkbox\" checked><label for=\"sk-estimator-id-1\" class=\"sk-toggleable__label sk-toggleable__label-arrow\">PCA</label><div class=\"sk-toggleable__content\"><pre>PCA(n_components=6)</pre></div></div></div></div></div>"
     },
     "execution_count": 30,
     "metadata": {},
     "output_type": "execute_result"
    }
   ],
   "source": [
    "pca.fit(x_train)"
   ]
  },
  {
   "cell_type": "code",
   "execution_count": 31,
   "metadata": {
    "ExecuteTime": {
     "end_time": "2023-09-25T15:07:54.798788200Z",
     "start_time": "2023-09-25T15:07:54.781925Z"
    }
   },
   "outputs": [
    {
     "name": "stdout",
     "output_type": "stream",
     "text": [
      "[9.48715257e-01 4.57776020e-02 5.06970923e-03 4.14916270e-04\n",
      " 2.21267496e-05 3.88656987e-07]\n"
     ]
    }
   ],
   "source": [
    "print(pca.explained_variance_ratio_)"
   ]
  },
  {
   "cell_type": "code",
   "execution_count": 32,
   "metadata": {
    "ExecuteTime": {
     "end_time": "2023-09-25T15:07:54.834960300Z",
     "start_time": "2023-09-25T15:07:54.796761800Z"
    }
   },
   "outputs": [],
   "source": [
    "# this looks too good to be true because it is. we didn't normalize our data.\n",
    "# that trivializes the variation found in variables relatively smaller scales"
   ]
  },
  {
   "cell_type": "code",
   "execution_count": 33,
   "metadata": {
    "ExecuteTime": {
     "end_time": "2023-09-25T15:07:54.977119900Z",
     "start_time": "2023-09-25T15:07:54.798788200Z"
    }
   },
   "outputs": [
    {
     "data": {
      "text/plain": "       housing_median_age   total_rooms  total_bedrooms    population  \\\ncount        20433.000000  20433.000000    20433.000000  20433.000000   \nmean            28.633094   2636.504233      537.870553   1424.946949   \nstd             12.591805   2185.269567      421.385070   1133.208490   \nmin              1.000000      2.000000        1.000000      3.000000   \n25%             18.000000   1450.000000      296.000000    787.000000   \n50%             29.000000   2127.000000      435.000000   1166.000000   \n75%             37.000000   3143.000000      647.000000   1722.000000   \nmax             52.000000  39320.000000     6445.000000  35682.000000   \n\n         households  median_income  median_house_value  \ncount  20433.000000   20433.000000        20433.000000  \nmean     499.433465       3.871162       206864.413155  \nstd      382.299226       1.899291       115435.667099  \nmin        1.000000       0.499900        14999.000000  \n25%      280.000000       2.563700       119500.000000  \n50%      409.000000       3.536500       179700.000000  \n75%      604.000000       4.744000       264700.000000  \nmax     6082.000000      15.000100       500001.000000  ",
      "text/html": "<div>\n<style scoped>\n    .dataframe tbody tr th:only-of-type {\n        vertical-align: middle;\n    }\n\n    .dataframe tbody tr th {\n        vertical-align: top;\n    }\n\n    .dataframe thead th {\n        text-align: right;\n    }\n</style>\n<table border=\"1\" class=\"dataframe\">\n  <thead>\n    <tr style=\"text-align: right;\">\n      <th></th>\n      <th>housing_median_age</th>\n      <th>total_rooms</th>\n      <th>total_bedrooms</th>\n      <th>population</th>\n      <th>households</th>\n      <th>median_income</th>\n      <th>median_house_value</th>\n    </tr>\n  </thead>\n  <tbody>\n    <tr>\n      <th>count</th>\n      <td>20433.000000</td>\n      <td>20433.000000</td>\n      <td>20433.000000</td>\n      <td>20433.000000</td>\n      <td>20433.000000</td>\n      <td>20433.000000</td>\n      <td>20433.000000</td>\n    </tr>\n    <tr>\n      <th>mean</th>\n      <td>28.633094</td>\n      <td>2636.504233</td>\n      <td>537.870553</td>\n      <td>1424.946949</td>\n      <td>499.433465</td>\n      <td>3.871162</td>\n      <td>206864.413155</td>\n    </tr>\n    <tr>\n      <th>std</th>\n      <td>12.591805</td>\n      <td>2185.269567</td>\n      <td>421.385070</td>\n      <td>1133.208490</td>\n      <td>382.299226</td>\n      <td>1.899291</td>\n      <td>115435.667099</td>\n    </tr>\n    <tr>\n      <th>min</th>\n      <td>1.000000</td>\n      <td>2.000000</td>\n      <td>1.000000</td>\n      <td>3.000000</td>\n      <td>1.000000</td>\n      <td>0.499900</td>\n      <td>14999.000000</td>\n    </tr>\n    <tr>\n      <th>25%</th>\n      <td>18.000000</td>\n      <td>1450.000000</td>\n      <td>296.000000</td>\n      <td>787.000000</td>\n      <td>280.000000</td>\n      <td>2.563700</td>\n      <td>119500.000000</td>\n    </tr>\n    <tr>\n      <th>50%</th>\n      <td>29.000000</td>\n      <td>2127.000000</td>\n      <td>435.000000</td>\n      <td>1166.000000</td>\n      <td>409.000000</td>\n      <td>3.536500</td>\n      <td>179700.000000</td>\n    </tr>\n    <tr>\n      <th>75%</th>\n      <td>37.000000</td>\n      <td>3143.000000</td>\n      <td>647.000000</td>\n      <td>1722.000000</td>\n      <td>604.000000</td>\n      <td>4.744000</td>\n      <td>264700.000000</td>\n    </tr>\n    <tr>\n      <th>max</th>\n      <td>52.000000</td>\n      <td>39320.000000</td>\n      <td>6445.000000</td>\n      <td>35682.000000</td>\n      <td>6082.000000</td>\n      <td>15.000100</td>\n      <td>500001.000000</td>\n    </tr>\n  </tbody>\n</table>\n</div>"
     },
     "execution_count": 33,
     "metadata": {},
     "output_type": "execute_result"
    }
   ],
   "source": [
    "df.describe()"
   ]
  },
  {
   "cell_type": "code",
   "execution_count": 34,
   "metadata": {
    "ExecuteTime": {
     "end_time": "2023-09-25T15:07:54.993480400Z",
     "start_time": "2023-09-25T15:07:54.846286600Z"
    }
   },
   "outputs": [],
   "source": [
    "# let's normalize the data first\n",
    "from sklearn import preprocessing"
   ]
  },
  {
   "cell_type": "code",
   "execution_count": 35,
   "metadata": {
    "ExecuteTime": {
     "end_time": "2023-09-25T15:07:55.058236100Z",
     "start_time": "2023-09-25T15:07:54.860930300Z"
    }
   },
   "outputs": [],
   "source": [
    "scaler = preprocessing.StandardScaler()"
   ]
  },
  {
   "cell_type": "code",
   "execution_count": 36,
   "metadata": {
    "ExecuteTime": {
     "end_time": "2023-09-25T15:07:55.058236100Z",
     "start_time": "2023-09-25T15:07:54.875837Z"
    }
   },
   "outputs": [
    {
     "data": {
      "text/plain": "StandardScaler()",
      "text/html": "<style>#sk-container-id-2 {color: black;}#sk-container-id-2 pre{padding: 0;}#sk-container-id-2 div.sk-toggleable {background-color: white;}#sk-container-id-2 label.sk-toggleable__label {cursor: pointer;display: block;width: 100%;margin-bottom: 0;padding: 0.3em;box-sizing: border-box;text-align: center;}#sk-container-id-2 label.sk-toggleable__label-arrow:before {content: \"▸\";float: left;margin-right: 0.25em;color: #696969;}#sk-container-id-2 label.sk-toggleable__label-arrow:hover:before {color: black;}#sk-container-id-2 div.sk-estimator:hover label.sk-toggleable__label-arrow:before {color: black;}#sk-container-id-2 div.sk-toggleable__content {max-height: 0;max-width: 0;overflow: hidden;text-align: left;background-color: #f0f8ff;}#sk-container-id-2 div.sk-toggleable__content pre {margin: 0.2em;color: black;border-radius: 0.25em;background-color: #f0f8ff;}#sk-container-id-2 input.sk-toggleable__control:checked~div.sk-toggleable__content {max-height: 200px;max-width: 100%;overflow: auto;}#sk-container-id-2 input.sk-toggleable__control:checked~label.sk-toggleable__label-arrow:before {content: \"▾\";}#sk-container-id-2 div.sk-estimator input.sk-toggleable__control:checked~label.sk-toggleable__label {background-color: #d4ebff;}#sk-container-id-2 div.sk-label input.sk-toggleable__control:checked~label.sk-toggleable__label {background-color: #d4ebff;}#sk-container-id-2 input.sk-hidden--visually {border: 0;clip: rect(1px 1px 1px 1px);clip: rect(1px, 1px, 1px, 1px);height: 1px;margin: -1px;overflow: hidden;padding: 0;position: absolute;width: 1px;}#sk-container-id-2 div.sk-estimator {font-family: monospace;background-color: #f0f8ff;border: 1px dotted black;border-radius: 0.25em;box-sizing: border-box;margin-bottom: 0.5em;}#sk-container-id-2 div.sk-estimator:hover {background-color: #d4ebff;}#sk-container-id-2 div.sk-parallel-item::after {content: \"\";width: 100%;border-bottom: 1px solid gray;flex-grow: 1;}#sk-container-id-2 div.sk-label:hover label.sk-toggleable__label {background-color: #d4ebff;}#sk-container-id-2 div.sk-serial::before {content: \"\";position: absolute;border-left: 1px solid gray;box-sizing: border-box;top: 0;bottom: 0;left: 50%;z-index: 0;}#sk-container-id-2 div.sk-serial {display: flex;flex-direction: column;align-items: center;background-color: white;padding-right: 0.2em;padding-left: 0.2em;position: relative;}#sk-container-id-2 div.sk-item {position: relative;z-index: 1;}#sk-container-id-2 div.sk-parallel {display: flex;align-items: stretch;justify-content: center;background-color: white;position: relative;}#sk-container-id-2 div.sk-item::before, #sk-container-id-2 div.sk-parallel-item::before {content: \"\";position: absolute;border-left: 1px solid gray;box-sizing: border-box;top: 0;bottom: 0;left: 50%;z-index: -1;}#sk-container-id-2 div.sk-parallel-item {display: flex;flex-direction: column;z-index: 1;position: relative;background-color: white;}#sk-container-id-2 div.sk-parallel-item:first-child::after {align-self: flex-end;width: 50%;}#sk-container-id-2 div.sk-parallel-item:last-child::after {align-self: flex-start;width: 50%;}#sk-container-id-2 div.sk-parallel-item:only-child::after {width: 0;}#sk-container-id-2 div.sk-dashed-wrapped {border: 1px dashed gray;margin: 0 0.4em 0.5em 0.4em;box-sizing: border-box;padding-bottom: 0.4em;background-color: white;}#sk-container-id-2 div.sk-label label {font-family: monospace;font-weight: bold;display: inline-block;line-height: 1.2em;}#sk-container-id-2 div.sk-label-container {text-align: center;}#sk-container-id-2 div.sk-container {/* jupyter's `normalize.less` sets `[hidden] { display: none; }` but bootstrap.min.css set `[hidden] { display: none !important; }` so we also need the `!important` here to be able to override the default hidden behavior on the sphinx rendered scikit-learn.org. See: https://github.com/scikit-learn/scikit-learn/issues/21755 */display: inline-block !important;position: relative;}#sk-container-id-2 div.sk-text-repr-fallback {display: none;}</style><div id=\"sk-container-id-2\" class=\"sk-top-container\"><div class=\"sk-text-repr-fallback\"><pre>StandardScaler()</pre><b>In a Jupyter environment, please rerun this cell to show the HTML representation or trust the notebook. <br />On GitHub, the HTML representation is unable to render, please try loading this page with nbviewer.org.</b></div><div class=\"sk-container\" hidden><div class=\"sk-item\"><div class=\"sk-estimator sk-toggleable\"><input class=\"sk-toggleable__control sk-hidden--visually\" id=\"sk-estimator-id-2\" type=\"checkbox\" checked><label for=\"sk-estimator-id-2\" class=\"sk-toggleable__label sk-toggleable__label-arrow\">StandardScaler</label><div class=\"sk-toggleable__content\"><pre>StandardScaler()</pre></div></div></div></div></div>"
     },
     "execution_count": 36,
     "metadata": {},
     "output_type": "execute_result"
    }
   ],
   "source": [
    "# I fit the scaler to my training data\n",
    "scaler.fit(x_train)"
   ]
  },
  {
   "cell_type": "code",
   "execution_count": 37,
   "metadata": {
    "ExecuteTime": {
     "end_time": "2023-09-25T15:07:55.058236100Z",
     "start_time": "2023-09-25T15:07:54.899416800Z"
    }
   },
   "outputs": [
    {
     "data": {
      "text/plain": "       housing_median_age  total_rooms  total_bedrooms  population  \\\n9490                 17.0       3145.0           693.0      1560.0   \n3191                 24.0        544.0           112.0       442.0   \n9896                 10.0        969.0           160.0       482.0   \n8042                 36.0       1348.0           234.0       643.0   \n10421                31.0       3959.0           856.0      1919.0   \n\n       households  median_income  \n9490        647.0         2.2926  \n3191        106.0         3.1071  \n9896        180.0         6.5799  \n8042        221.0         3.6447  \n10421       775.0         4.0313  ",
      "text/html": "<div>\n<style scoped>\n    .dataframe tbody tr th:only-of-type {\n        vertical-align: middle;\n    }\n\n    .dataframe tbody tr th {\n        vertical-align: top;\n    }\n\n    .dataframe thead th {\n        text-align: right;\n    }\n</style>\n<table border=\"1\" class=\"dataframe\">\n  <thead>\n    <tr style=\"text-align: right;\">\n      <th></th>\n      <th>housing_median_age</th>\n      <th>total_rooms</th>\n      <th>total_bedrooms</th>\n      <th>population</th>\n      <th>households</th>\n      <th>median_income</th>\n    </tr>\n  </thead>\n  <tbody>\n    <tr>\n      <th>9490</th>\n      <td>17.0</td>\n      <td>3145.0</td>\n      <td>693.0</td>\n      <td>1560.0</td>\n      <td>647.0</td>\n      <td>2.2926</td>\n    </tr>\n    <tr>\n      <th>3191</th>\n      <td>24.0</td>\n      <td>544.0</td>\n      <td>112.0</td>\n      <td>442.0</td>\n      <td>106.0</td>\n      <td>3.1071</td>\n    </tr>\n    <tr>\n      <th>9896</th>\n      <td>10.0</td>\n      <td>969.0</td>\n      <td>160.0</td>\n      <td>482.0</td>\n      <td>180.0</td>\n      <td>6.5799</td>\n    </tr>\n    <tr>\n      <th>8042</th>\n      <td>36.0</td>\n      <td>1348.0</td>\n      <td>234.0</td>\n      <td>643.0</td>\n      <td>221.0</td>\n      <td>3.6447</td>\n    </tr>\n    <tr>\n      <th>10421</th>\n      <td>31.0</td>\n      <td>3959.0</td>\n      <td>856.0</td>\n      <td>1919.0</td>\n      <td>775.0</td>\n      <td>4.0313</td>\n    </tr>\n  </tbody>\n</table>\n</div>"
     },
     "execution_count": 37,
     "metadata": {},
     "output_type": "execute_result"
    }
   ],
   "source": [
    "x_train.head()"
   ]
  },
  {
   "cell_type": "code",
   "execution_count": 38,
   "metadata": {
    "ExecuteTime": {
     "end_time": "2023-09-25T15:07:55.058236100Z",
     "start_time": "2023-09-25T15:07:54.928802700Z"
    }
   },
   "outputs": [
    {
     "data": {
      "text/plain": "                  0             1             2             3             4  \\\ncount  1.225900e+04  1.225900e+04  1.225900e+04  1.225900e+04  1.225900e+04   \nmean  -8.288409e-17 -1.391062e-17 -1.112849e-16 -1.391062e-17 -4.289107e-17   \nstd    1.000041e+00  1.000041e+00  1.000041e+00  1.000041e+00  1.000041e+00   \nmin   -2.197477e+00 -1.225269e+00 -1.288604e+00 -1.271057e+00 -1.317843e+00   \n25%   -8.473965e-01 -5.456467e-01 -5.781802e-01 -5.641078e-01 -5.755344e-01   \n50%    2.618497e-02 -2.329601e-01 -2.445689e-01 -2.298973e-01 -2.347594e-01   \n75%    6.615170e-01  2.305984e-01  2.618483e-01  2.673864e-01  2.803655e-01   \nmax    1.852764e+00  1.708331e+01  1.361350e+01  3.069577e+01  1.283356e+01   \n\n                  5  \ncount  1.225900e+04  \nmean  -1.669274e-16  \nstd    1.000041e+00  \nmin   -1.766758e+00  \n25%   -6.838435e-01  \n50%   -1.732688e-01  \n75%    4.554746e-01  \nmax    5.855434e+00  ",
      "text/html": "<div>\n<style scoped>\n    .dataframe tbody tr th:only-of-type {\n        vertical-align: middle;\n    }\n\n    .dataframe tbody tr th {\n        vertical-align: top;\n    }\n\n    .dataframe thead th {\n        text-align: right;\n    }\n</style>\n<table border=\"1\" class=\"dataframe\">\n  <thead>\n    <tr style=\"text-align: right;\">\n      <th></th>\n      <th>0</th>\n      <th>1</th>\n      <th>2</th>\n      <th>3</th>\n      <th>4</th>\n      <th>5</th>\n    </tr>\n  </thead>\n  <tbody>\n    <tr>\n      <th>count</th>\n      <td>1.225900e+04</td>\n      <td>1.225900e+04</td>\n      <td>1.225900e+04</td>\n      <td>1.225900e+04</td>\n      <td>1.225900e+04</td>\n      <td>1.225900e+04</td>\n    </tr>\n    <tr>\n      <th>mean</th>\n      <td>-8.288409e-17</td>\n      <td>-1.391062e-17</td>\n      <td>-1.112849e-16</td>\n      <td>-1.391062e-17</td>\n      <td>-4.289107e-17</td>\n      <td>-1.669274e-16</td>\n    </tr>\n    <tr>\n      <th>std</th>\n      <td>1.000041e+00</td>\n      <td>1.000041e+00</td>\n      <td>1.000041e+00</td>\n      <td>1.000041e+00</td>\n      <td>1.000041e+00</td>\n      <td>1.000041e+00</td>\n    </tr>\n    <tr>\n      <th>min</th>\n      <td>-2.197477e+00</td>\n      <td>-1.225269e+00</td>\n      <td>-1.288604e+00</td>\n      <td>-1.271057e+00</td>\n      <td>-1.317843e+00</td>\n      <td>-1.766758e+00</td>\n    </tr>\n    <tr>\n      <th>25%</th>\n      <td>-8.473965e-01</td>\n      <td>-5.456467e-01</td>\n      <td>-5.781802e-01</td>\n      <td>-5.641078e-01</td>\n      <td>-5.755344e-01</td>\n      <td>-6.838435e-01</td>\n    </tr>\n    <tr>\n      <th>50%</th>\n      <td>2.618497e-02</td>\n      <td>-2.329601e-01</td>\n      <td>-2.445689e-01</td>\n      <td>-2.298973e-01</td>\n      <td>-2.347594e-01</td>\n      <td>-1.732688e-01</td>\n    </tr>\n    <tr>\n      <th>75%</th>\n      <td>6.615170e-01</td>\n      <td>2.305984e-01</td>\n      <td>2.618483e-01</td>\n      <td>2.673864e-01</td>\n      <td>2.803655e-01</td>\n      <td>4.554746e-01</td>\n    </tr>\n    <tr>\n      <th>max</th>\n      <td>1.852764e+00</td>\n      <td>1.708331e+01</td>\n      <td>1.361350e+01</td>\n      <td>3.069577e+01</td>\n      <td>1.283356e+01</td>\n      <td>5.855434e+00</td>\n    </tr>\n  </tbody>\n</table>\n</div>"
     },
     "execution_count": 38,
     "metadata": {},
     "output_type": "execute_result"
    }
   ],
   "source": [
    "pd.DataFrame(scaler.transform(x_train)).describe()"
   ]
  },
  {
   "cell_type": "code",
   "execution_count": 39,
   "metadata": {
    "ExecuteTime": {
     "end_time": "2023-09-25T15:07:55.120382100Z",
     "start_time": "2023-09-25T15:07:54.994527800Z"
    }
   },
   "outputs": [],
   "source": [
    "x_train_sc = scaler.transform(x_train)"
   ]
  },
  {
   "cell_type": "code",
   "execution_count": 40,
   "metadata": {
    "ExecuteTime": {
     "end_time": "2023-09-25T15:07:55.196100200Z",
     "start_time": "2023-09-25T15:07:55.001552500Z"
    }
   },
   "outputs": [
    {
     "data": {
      "text/plain": "PCA()",
      "text/html": "<style>#sk-container-id-3 {color: black;}#sk-container-id-3 pre{padding: 0;}#sk-container-id-3 div.sk-toggleable {background-color: white;}#sk-container-id-3 label.sk-toggleable__label {cursor: pointer;display: block;width: 100%;margin-bottom: 0;padding: 0.3em;box-sizing: border-box;text-align: center;}#sk-container-id-3 label.sk-toggleable__label-arrow:before {content: \"▸\";float: left;margin-right: 0.25em;color: #696969;}#sk-container-id-3 label.sk-toggleable__label-arrow:hover:before {color: black;}#sk-container-id-3 div.sk-estimator:hover label.sk-toggleable__label-arrow:before {color: black;}#sk-container-id-3 div.sk-toggleable__content {max-height: 0;max-width: 0;overflow: hidden;text-align: left;background-color: #f0f8ff;}#sk-container-id-3 div.sk-toggleable__content pre {margin: 0.2em;color: black;border-radius: 0.25em;background-color: #f0f8ff;}#sk-container-id-3 input.sk-toggleable__control:checked~div.sk-toggleable__content {max-height: 200px;max-width: 100%;overflow: auto;}#sk-container-id-3 input.sk-toggleable__control:checked~label.sk-toggleable__label-arrow:before {content: \"▾\";}#sk-container-id-3 div.sk-estimator input.sk-toggleable__control:checked~label.sk-toggleable__label {background-color: #d4ebff;}#sk-container-id-3 div.sk-label input.sk-toggleable__control:checked~label.sk-toggleable__label {background-color: #d4ebff;}#sk-container-id-3 input.sk-hidden--visually {border: 0;clip: rect(1px 1px 1px 1px);clip: rect(1px, 1px, 1px, 1px);height: 1px;margin: -1px;overflow: hidden;padding: 0;position: absolute;width: 1px;}#sk-container-id-3 div.sk-estimator {font-family: monospace;background-color: #f0f8ff;border: 1px dotted black;border-radius: 0.25em;box-sizing: border-box;margin-bottom: 0.5em;}#sk-container-id-3 div.sk-estimator:hover {background-color: #d4ebff;}#sk-container-id-3 div.sk-parallel-item::after {content: \"\";width: 100%;border-bottom: 1px solid gray;flex-grow: 1;}#sk-container-id-3 div.sk-label:hover label.sk-toggleable__label {background-color: #d4ebff;}#sk-container-id-3 div.sk-serial::before {content: \"\";position: absolute;border-left: 1px solid gray;box-sizing: border-box;top: 0;bottom: 0;left: 50%;z-index: 0;}#sk-container-id-3 div.sk-serial {display: flex;flex-direction: column;align-items: center;background-color: white;padding-right: 0.2em;padding-left: 0.2em;position: relative;}#sk-container-id-3 div.sk-item {position: relative;z-index: 1;}#sk-container-id-3 div.sk-parallel {display: flex;align-items: stretch;justify-content: center;background-color: white;position: relative;}#sk-container-id-3 div.sk-item::before, #sk-container-id-3 div.sk-parallel-item::before {content: \"\";position: absolute;border-left: 1px solid gray;box-sizing: border-box;top: 0;bottom: 0;left: 50%;z-index: -1;}#sk-container-id-3 div.sk-parallel-item {display: flex;flex-direction: column;z-index: 1;position: relative;background-color: white;}#sk-container-id-3 div.sk-parallel-item:first-child::after {align-self: flex-end;width: 50%;}#sk-container-id-3 div.sk-parallel-item:last-child::after {align-self: flex-start;width: 50%;}#sk-container-id-3 div.sk-parallel-item:only-child::after {width: 0;}#sk-container-id-3 div.sk-dashed-wrapped {border: 1px dashed gray;margin: 0 0.4em 0.5em 0.4em;box-sizing: border-box;padding-bottom: 0.4em;background-color: white;}#sk-container-id-3 div.sk-label label {font-family: monospace;font-weight: bold;display: inline-block;line-height: 1.2em;}#sk-container-id-3 div.sk-label-container {text-align: center;}#sk-container-id-3 div.sk-container {/* jupyter's `normalize.less` sets `[hidden] { display: none; }` but bootstrap.min.css set `[hidden] { display: none !important; }` so we also need the `!important` here to be able to override the default hidden behavior on the sphinx rendered scikit-learn.org. See: https://github.com/scikit-learn/scikit-learn/issues/21755 */display: inline-block !important;position: relative;}#sk-container-id-3 div.sk-text-repr-fallback {display: none;}</style><div id=\"sk-container-id-3\" class=\"sk-top-container\"><div class=\"sk-text-repr-fallback\"><pre>PCA()</pre><b>In a Jupyter environment, please rerun this cell to show the HTML representation or trust the notebook. <br />On GitHub, the HTML representation is unable to render, please try loading this page with nbviewer.org.</b></div><div class=\"sk-container\" hidden><div class=\"sk-item\"><div class=\"sk-estimator sk-toggleable\"><input class=\"sk-toggleable__control sk-hidden--visually\" id=\"sk-estimator-id-3\" type=\"checkbox\" checked><label for=\"sk-estimator-id-3\" class=\"sk-toggleable__label sk-toggleable__label-arrow\">PCA</label><div class=\"sk-toggleable__content\"><pre>PCA()</pre></div></div></div></div></div>"
     },
     "execution_count": 40,
     "metadata": {},
     "output_type": "execute_result"
    }
   ],
   "source": [
    "# fits the PCA to the scaled data\n",
    "pca = PCA()\n",
    "pca.fit(x_train_sc)"
   ]
  },
  {
   "cell_type": "code",
   "execution_count": 41,
   "metadata": {
    "ExecuteTime": {
     "end_time": "2023-09-25T15:07:55.260192600Z",
     "start_time": "2023-09-25T15:07:55.017750400Z"
    }
   },
   "outputs": [
    {
     "name": "stdout",
     "output_type": "stream",
     "text": [
      "[0.64560233 0.17811116 0.1363209  0.02607035 0.01146702 0.00242823]\n"
     ]
    }
   ],
   "source": [
    "print(pca.explained_variance_ratio_)"
   ]
  },
  {
   "cell_type": "code",
   "execution_count": 42,
   "metadata": {
    "ExecuteTime": {
     "end_time": "2023-09-25T15:07:55.260192600Z",
     "start_time": "2023-09-25T15:07:55.034978400Z"
    }
   },
   "outputs": [],
   "source": [
    "# exercise: see how the coefficients of the PCs vary in linear models\n",
    "# trained on all subsets of PCs.\n",
    "pca_features = ['pc'+str(i) for i in range(1,7)]\n",
    "df_pca = pd.DataFrame(pca.transform(x_train_sc),columns = pca_features)\n",
    "coef_dct = dict(zip(pca_features,[[],[],[],[],[],[]]))"
   ]
  },
  {
   "cell_type": "code",
   "execution_count": 43,
   "metadata": {
    "ExecuteTime": {
     "end_time": "2023-09-25T15:07:55.984217800Z",
     "start_time": "2023-09-25T15:07:55.050216700Z"
    }
   },
   "outputs": [],
   "source": [
    "for i in range(1,len(pca_features)+1):\n",
    "    for feature_subset in combinations(pca_features,i):\n",
    "        feature_subset = list(feature_subset)\n",
    "        df_tmp = df_pca[feature_subset]\n",
    "        df_tmp = df_tmp.dropna()\n",
    "        lr = LinearRegression()\n",
    "        lr.fit(df_tmp,y_train)\n",
    "        lr.score(pd.DataFrame(pca.transform(scaler.transform(x_val)),columns=pca_features)[feature_subset],\n",
    "                 y_val)\n",
    "        for item in zip(feature_subset, lr.coef_[0]):\n",
    "            coef_dct[item[0]].append(item[1])"
   ]
  },
  {
   "cell_type": "code",
   "execution_count": 45,
   "metadata": {
    "ExecuteTime": {
     "end_time": "2023-09-25T15:08:03.058033800Z",
     "start_time": "2023-09-25T15:08:02.915367500Z"
    }
   },
   "outputs": [
    {
     "data": {
      "text/plain": "            pc1           pc2           pc3           pc4           pc5  \\\n0   3729.771042  61453.696335  57019.918528 -38656.149322 -80516.639807   \n1   3729.771042  61453.696335  57019.918528 -38656.149322 -80516.639807   \n2   3729.771042  61453.696335  57019.918528 -38656.149322 -80516.639807   \n3   3729.771042  61453.696335  57019.918528 -38656.149322 -80516.639807   \n4   3729.771042  61453.696335  57019.918528 -38656.149322 -80516.639807   \n5   3729.771042  61453.696335  57019.918528 -38656.149322 -80516.639807   \n6   3729.771042  61453.696335  57019.918528 -38656.149322 -80516.639807   \n7   3729.771042  61453.696335  57019.918528 -38656.149322 -80516.639807   \n8   3729.771042  61453.696335  57019.918528 -38656.149322 -80516.639807   \n9   3729.771042  61453.696335  57019.918528 -38656.149322 -80516.639807   \n10  3729.771042  61453.696335  57019.918528 -38656.149322 -80516.639807   \n11  3729.771042  61453.696335  57019.918528 -38656.149322 -80516.639807   \n12  3729.771042  61453.696335  57019.918528 -38656.149322 -80516.639807   \n13  3729.771042  61453.696335  57019.918528 -38656.149322 -80516.639807   \n14  3729.771042  61453.696335  57019.918528 -38656.149322 -80516.639807   \n15  3729.771042  61453.696335  57019.918528 -38656.149322 -80516.639807   \n16  3729.771042  61453.696335  57019.918528 -38656.149322 -80516.639807   \n17  3729.771042  61453.696335  57019.918528 -38656.149322 -80516.639807   \n18  3729.771042  61453.696335  57019.918528 -38656.149322 -80516.639807   \n19  3729.771042  61453.696335  57019.918528 -38656.149322 -80516.639807   \n20  3729.771042  61453.696335  57019.918528 -38656.149322 -80516.639807   \n21  3729.771042  61453.696335  57019.918528 -38656.149322 -80516.639807   \n22  3729.771042  61453.696335  57019.918528 -38656.149322 -80516.639807   \n23  3729.771042  61453.696335  57019.918528 -38656.149322 -80516.639807   \n24  3729.771042  61453.696335  57019.918528 -38656.149322 -80516.639807   \n25  3729.771042  61453.696335  57019.918528 -38656.149322 -80516.639807   \n26  3729.771042  61453.696335  57019.918528 -38656.149322 -80516.639807   \n27  3729.771042  61453.696335  57019.918528 -38656.149322 -80516.639807   \n28  3729.771042  61453.696335  57019.918528 -38656.149322 -80516.639807   \n29  3729.771042  61453.696335  57019.918528 -38656.149322 -80516.639807   \n30  3729.771042  61453.696335  57019.918528 -38656.149322 -80516.639807   \n31  3729.771042  61453.696335  57019.918528 -38656.149322 -80516.639807   \n\n           pc6  \n0   6014.28991  \n1   6014.28991  \n2   6014.28991  \n3   6014.28991  \n4   6014.28991  \n5   6014.28991  \n6   6014.28991  \n7   6014.28991  \n8   6014.28991  \n9   6014.28991  \n10  6014.28991  \n11  6014.28991  \n12  6014.28991  \n13  6014.28991  \n14  6014.28991  \n15  6014.28991  \n16  6014.28991  \n17  6014.28991  \n18  6014.28991  \n19  6014.28991  \n20  6014.28991  \n21  6014.28991  \n22  6014.28991  \n23  6014.28991  \n24  6014.28991  \n25  6014.28991  \n26  6014.28991  \n27  6014.28991  \n28  6014.28991  \n29  6014.28991  \n30  6014.28991  \n31  6014.28991  ",
      "text/html": "<div>\n<style scoped>\n    .dataframe tbody tr th:only-of-type {\n        vertical-align: middle;\n    }\n\n    .dataframe tbody tr th {\n        vertical-align: top;\n    }\n\n    .dataframe thead th {\n        text-align: right;\n    }\n</style>\n<table border=\"1\" class=\"dataframe\">\n  <thead>\n    <tr style=\"text-align: right;\">\n      <th></th>\n      <th>pc1</th>\n      <th>pc2</th>\n      <th>pc3</th>\n      <th>pc4</th>\n      <th>pc5</th>\n      <th>pc6</th>\n    </tr>\n  </thead>\n  <tbody>\n    <tr>\n      <th>0</th>\n      <td>3729.771042</td>\n      <td>61453.696335</td>\n      <td>57019.918528</td>\n      <td>-38656.149322</td>\n      <td>-80516.639807</td>\n      <td>6014.28991</td>\n    </tr>\n    <tr>\n      <th>1</th>\n      <td>3729.771042</td>\n      <td>61453.696335</td>\n      <td>57019.918528</td>\n      <td>-38656.149322</td>\n      <td>-80516.639807</td>\n      <td>6014.28991</td>\n    </tr>\n    <tr>\n      <th>2</th>\n      <td>3729.771042</td>\n      <td>61453.696335</td>\n      <td>57019.918528</td>\n      <td>-38656.149322</td>\n      <td>-80516.639807</td>\n      <td>6014.28991</td>\n    </tr>\n    <tr>\n      <th>3</th>\n      <td>3729.771042</td>\n      <td>61453.696335</td>\n      <td>57019.918528</td>\n      <td>-38656.149322</td>\n      <td>-80516.639807</td>\n      <td>6014.28991</td>\n    </tr>\n    <tr>\n      <th>4</th>\n      <td>3729.771042</td>\n      <td>61453.696335</td>\n      <td>57019.918528</td>\n      <td>-38656.149322</td>\n      <td>-80516.639807</td>\n      <td>6014.28991</td>\n    </tr>\n    <tr>\n      <th>5</th>\n      <td>3729.771042</td>\n      <td>61453.696335</td>\n      <td>57019.918528</td>\n      <td>-38656.149322</td>\n      <td>-80516.639807</td>\n      <td>6014.28991</td>\n    </tr>\n    <tr>\n      <th>6</th>\n      <td>3729.771042</td>\n      <td>61453.696335</td>\n      <td>57019.918528</td>\n      <td>-38656.149322</td>\n      <td>-80516.639807</td>\n      <td>6014.28991</td>\n    </tr>\n    <tr>\n      <th>7</th>\n      <td>3729.771042</td>\n      <td>61453.696335</td>\n      <td>57019.918528</td>\n      <td>-38656.149322</td>\n      <td>-80516.639807</td>\n      <td>6014.28991</td>\n    </tr>\n    <tr>\n      <th>8</th>\n      <td>3729.771042</td>\n      <td>61453.696335</td>\n      <td>57019.918528</td>\n      <td>-38656.149322</td>\n      <td>-80516.639807</td>\n      <td>6014.28991</td>\n    </tr>\n    <tr>\n      <th>9</th>\n      <td>3729.771042</td>\n      <td>61453.696335</td>\n      <td>57019.918528</td>\n      <td>-38656.149322</td>\n      <td>-80516.639807</td>\n      <td>6014.28991</td>\n    </tr>\n    <tr>\n      <th>10</th>\n      <td>3729.771042</td>\n      <td>61453.696335</td>\n      <td>57019.918528</td>\n      <td>-38656.149322</td>\n      <td>-80516.639807</td>\n      <td>6014.28991</td>\n    </tr>\n    <tr>\n      <th>11</th>\n      <td>3729.771042</td>\n      <td>61453.696335</td>\n      <td>57019.918528</td>\n      <td>-38656.149322</td>\n      <td>-80516.639807</td>\n      <td>6014.28991</td>\n    </tr>\n    <tr>\n      <th>12</th>\n      <td>3729.771042</td>\n      <td>61453.696335</td>\n      <td>57019.918528</td>\n      <td>-38656.149322</td>\n      <td>-80516.639807</td>\n      <td>6014.28991</td>\n    </tr>\n    <tr>\n      <th>13</th>\n      <td>3729.771042</td>\n      <td>61453.696335</td>\n      <td>57019.918528</td>\n      <td>-38656.149322</td>\n      <td>-80516.639807</td>\n      <td>6014.28991</td>\n    </tr>\n    <tr>\n      <th>14</th>\n      <td>3729.771042</td>\n      <td>61453.696335</td>\n      <td>57019.918528</td>\n      <td>-38656.149322</td>\n      <td>-80516.639807</td>\n      <td>6014.28991</td>\n    </tr>\n    <tr>\n      <th>15</th>\n      <td>3729.771042</td>\n      <td>61453.696335</td>\n      <td>57019.918528</td>\n      <td>-38656.149322</td>\n      <td>-80516.639807</td>\n      <td>6014.28991</td>\n    </tr>\n    <tr>\n      <th>16</th>\n      <td>3729.771042</td>\n      <td>61453.696335</td>\n      <td>57019.918528</td>\n      <td>-38656.149322</td>\n      <td>-80516.639807</td>\n      <td>6014.28991</td>\n    </tr>\n    <tr>\n      <th>17</th>\n      <td>3729.771042</td>\n      <td>61453.696335</td>\n      <td>57019.918528</td>\n      <td>-38656.149322</td>\n      <td>-80516.639807</td>\n      <td>6014.28991</td>\n    </tr>\n    <tr>\n      <th>18</th>\n      <td>3729.771042</td>\n      <td>61453.696335</td>\n      <td>57019.918528</td>\n      <td>-38656.149322</td>\n      <td>-80516.639807</td>\n      <td>6014.28991</td>\n    </tr>\n    <tr>\n      <th>19</th>\n      <td>3729.771042</td>\n      <td>61453.696335</td>\n      <td>57019.918528</td>\n      <td>-38656.149322</td>\n      <td>-80516.639807</td>\n      <td>6014.28991</td>\n    </tr>\n    <tr>\n      <th>20</th>\n      <td>3729.771042</td>\n      <td>61453.696335</td>\n      <td>57019.918528</td>\n      <td>-38656.149322</td>\n      <td>-80516.639807</td>\n      <td>6014.28991</td>\n    </tr>\n    <tr>\n      <th>21</th>\n      <td>3729.771042</td>\n      <td>61453.696335</td>\n      <td>57019.918528</td>\n      <td>-38656.149322</td>\n      <td>-80516.639807</td>\n      <td>6014.28991</td>\n    </tr>\n    <tr>\n      <th>22</th>\n      <td>3729.771042</td>\n      <td>61453.696335</td>\n      <td>57019.918528</td>\n      <td>-38656.149322</td>\n      <td>-80516.639807</td>\n      <td>6014.28991</td>\n    </tr>\n    <tr>\n      <th>23</th>\n      <td>3729.771042</td>\n      <td>61453.696335</td>\n      <td>57019.918528</td>\n      <td>-38656.149322</td>\n      <td>-80516.639807</td>\n      <td>6014.28991</td>\n    </tr>\n    <tr>\n      <th>24</th>\n      <td>3729.771042</td>\n      <td>61453.696335</td>\n      <td>57019.918528</td>\n      <td>-38656.149322</td>\n      <td>-80516.639807</td>\n      <td>6014.28991</td>\n    </tr>\n    <tr>\n      <th>25</th>\n      <td>3729.771042</td>\n      <td>61453.696335</td>\n      <td>57019.918528</td>\n      <td>-38656.149322</td>\n      <td>-80516.639807</td>\n      <td>6014.28991</td>\n    </tr>\n    <tr>\n      <th>26</th>\n      <td>3729.771042</td>\n      <td>61453.696335</td>\n      <td>57019.918528</td>\n      <td>-38656.149322</td>\n      <td>-80516.639807</td>\n      <td>6014.28991</td>\n    </tr>\n    <tr>\n      <th>27</th>\n      <td>3729.771042</td>\n      <td>61453.696335</td>\n      <td>57019.918528</td>\n      <td>-38656.149322</td>\n      <td>-80516.639807</td>\n      <td>6014.28991</td>\n    </tr>\n    <tr>\n      <th>28</th>\n      <td>3729.771042</td>\n      <td>61453.696335</td>\n      <td>57019.918528</td>\n      <td>-38656.149322</td>\n      <td>-80516.639807</td>\n      <td>6014.28991</td>\n    </tr>\n    <tr>\n      <th>29</th>\n      <td>3729.771042</td>\n      <td>61453.696335</td>\n      <td>57019.918528</td>\n      <td>-38656.149322</td>\n      <td>-80516.639807</td>\n      <td>6014.28991</td>\n    </tr>\n    <tr>\n      <th>30</th>\n      <td>3729.771042</td>\n      <td>61453.696335</td>\n      <td>57019.918528</td>\n      <td>-38656.149322</td>\n      <td>-80516.639807</td>\n      <td>6014.28991</td>\n    </tr>\n    <tr>\n      <th>31</th>\n      <td>3729.771042</td>\n      <td>61453.696335</td>\n      <td>57019.918528</td>\n      <td>-38656.149322</td>\n      <td>-80516.639807</td>\n      <td>6014.28991</td>\n    </tr>\n  </tbody>\n</table>\n</div>"
     },
     "execution_count": 45,
     "metadata": {},
     "output_type": "execute_result"
    }
   ],
   "source": [
    "pd.DataFrame(coef_dct)"
   ]
  },
  {
   "cell_type": "code",
   "execution_count": 58,
   "outputs": [],
   "source": [
    "# deductive feature selection to choose nbest list of fatures from original\n",
    "\n",
    "# Make a copy of the list of features\n",
    "fs = [feat for feat in features]\n",
    "important_features = []"
   ],
   "metadata": {
    "collapsed": false,
    "ExecuteTime": {
     "end_time": "2023-09-25T15:24:14.385793200Z",
     "start_time": "2023-09-25T15:24:14.370132200Z"
    }
   }
  },
  {
   "cell_type": "code",
   "execution_count": 57,
   "outputs": [
    {
     "data": {
      "text/plain": "[('housing_median_age', 0.5525475711947789),\n ('housing_median_age', 0.5525475711947789),\n ('housing_median_age', 0.5525475711947789),\n ('housing_median_age', 0.5525475711947789),\n ('housing_median_age', 0.5525475711947789),\n ('housing_median_age', 0.5525475711947789)]"
     },
     "execution_count": 57,
     "metadata": {},
     "output_type": "execute_result"
    }
   ],
   "source": [
    "# train linear models on each subset of 5 from fs\n",
    "res= []\n",
    "for comb in combinations(features,5):\n",
    "    missing = [_ for _ in features if _ not in list(fs)][0]\n",
    "    comb = list(fs)\n",
    "    lr.fit(x_train[fs], y_train)\n",
    "    score = lr.score(x_test[fs], y_test)\n",
    "    res.append((missing, score))\n",
    "res"
   ],
   "metadata": {
    "collapsed": false,
    "ExecuteTime": {
     "end_time": "2023-09-25T15:21:59.082033800Z",
     "start_time": "2023-09-25T15:21:59.009647500Z"
    }
   }
  },
  {
   "cell_type": "code",
   "execution_count": 56,
   "outputs": [
    {
     "data": {
      "text/plain": "'total_bedrooms'"
     },
     "execution_count": 56,
     "metadata": {},
     "output_type": "execute_result"
    }
   ],
   "source": [
    "# getting least valuable feature from highest value score\n",
    "least_important = max(res, key=lambda t:t[1])[0]"
   ],
   "metadata": {
    "collapsed": false,
    "ExecuteTime": {
     "end_time": "2023-09-25T15:20:45.533716100Z",
     "start_time": "2023-09-25T15:20:45.504597900Z"
    }
   }
  },
  {
   "cell_type": "code",
   "execution_count": 62,
   "outputs": [],
   "source": [
    "# iterating everyting above\n",
    "fs = [feat for feat in features]\n",
    "imoportant_features = []\n",
    "while len(fs) > 1:\n",
    "    if len(fs) == 1:\n",
    "        important_features.insert(0,fs[0])\n",
    "        break\n",
    "    res= []\n",
    "    for comb in combinations(fs,len(fs)-1):\n",
    "        missing = [_ for _ in fs if _ not in list(comb)][0]\n",
    "        comb = list(comb)\n",
    "        lr.fit(x_train[comb], y_train)\n",
    "        score = lr.score(x_test[comb], y_test)\n",
    "        res.append((missing, score))\n",
    "    least_important = max(res, key=lambda t:t[1])[0]\n",
    "    important_features.insert(0,least_important)\n",
    "    fs.remove(least_important)"
   ],
   "metadata": {
    "collapsed": false,
    "ExecuteTime": {
     "end_time": "2023-09-25T15:31:14.020329900Z",
     "start_time": "2023-09-25T15:31:13.853650Z"
    }
   }
  },
  {
   "cell_type": "code",
   "execution_count": 65,
   "outputs": [
    {
     "data": {
      "text/plain": "['median_income',\n 'housing_median_age',\n 'households',\n 'population',\n 'total_rooms',\n 'total_bedrooms']"
     },
     "execution_count": 65,
     "metadata": {},
     "output_type": "execute_result"
    }
   ],
   "source": [
    "important_features"
   ],
   "metadata": {
    "collapsed": false,
    "ExecuteTime": {
     "end_time": "2023-09-25T15:32:07.369406200Z",
     "start_time": "2023-09-25T15:32:07.356562700Z"
    }
   }
  },
  {
   "cell_type": "code",
   "execution_count": 66,
   "outputs": [],
   "source": [
    "acc = []\n",
    "for i in range(1, len(important_features)+1):\n",
    "    lr.fit(x_train[important_features[:i]],y_train)\n",
    "    acc.append(lr.score(x_val[important_features[:i]], y_val))"
   ],
   "metadata": {
    "collapsed": false,
    "ExecuteTime": {
     "end_time": "2023-09-25T15:34:43.374744500Z",
     "start_time": "2023-09-25T15:34:43.296062Z"
    }
   }
  },
  {
   "cell_type": "code",
   "execution_count": 67,
   "outputs": [
    {
     "data": {
      "text/plain": "<matplotlib.collections.PathCollection at 0x21e97026550>"
     },
     "execution_count": 67,
     "metadata": {},
     "output_type": "execute_result"
    },
    {
     "data": {
      "text/plain": "<Figure size 640x480 with 1 Axes>",
      "image/png": "[encoded data removed]"
     },
     "metadata": {},
     "output_type": "display_data"
    }
   ],
   "source": [
    "fig, ax = plt. subplots()\n",
    "ax.scatter(range(1,len(important_features)+1), acc)"
   ],
   "metadata": {
    "collapsed": false,
    "ExecuteTime": {
     "end_time": "2023-09-25T15:36:51.458770500Z",
     "start_time": "2023-09-25T15:36:51.150661Z"
    }
   }
  },
  {
   "cell_type": "code",
   "execution_count": 69,
   "outputs": [
    {
     "ename": "KeyError",
     "evalue": "\"None of [Index(['pc1', 'pc2', 'pc3', 'pc4', 'pc5'], dtype='object')] are in the [columns]\"",
     "output_type": "error",
     "traceback": [
      "\u001B[1;31m---------------------------------------------------------------------------\u001B[0m",
      "\u001B[1;31mKeyError\u001B[0m                                  Traceback (most recent call last)",
      "Cell \u001B[1;32mIn[69], line 13\u001B[0m\n\u001B[0;32m     11\u001B[0m missing \u001B[38;5;241m=\u001B[39m [_ \u001B[38;5;28;01mfor\u001B[39;00m _ \u001B[38;5;129;01min\u001B[39;00m fs \u001B[38;5;28;01mif\u001B[39;00m _ \u001B[38;5;129;01mnot\u001B[39;00m \u001B[38;5;129;01min\u001B[39;00m \u001B[38;5;28mlist\u001B[39m(comb)][\u001B[38;5;241m0\u001B[39m]\n\u001B[0;32m     12\u001B[0m comb \u001B[38;5;241m=\u001B[39m \u001B[38;5;28mlist\u001B[39m(comb)\n\u001B[1;32m---> 13\u001B[0m lr\u001B[38;5;241m.\u001B[39mfit(pca\u001B[38;5;241m.\u001B[39mtransform(\u001B[43mx_train\u001B[49m\u001B[43m[\u001B[49m\u001B[43mcomb\u001B[49m\u001B[43m]\u001B[49m), y_train)\n\u001B[0;32m     14\u001B[0m score \u001B[38;5;241m=\u001B[39m lr\u001B[38;5;241m.\u001B[39mscore(x_val[comb], y_val)\n\u001B[0;32m     15\u001B[0m res\u001B[38;5;241m.\u001B[39mappend((missing, score))\n",
      "File \u001B[1;32m~\\PycharmProjects\\PythonProjects\\Lib\\site-packages\\pandas\\core\\frame.py:3902\u001B[0m, in \u001B[0;36mDataFrame.__getitem__\u001B[1;34m(self, key)\u001B[0m\n\u001B[0;32m   3900\u001B[0m     \u001B[38;5;28;01mif\u001B[39;00m is_iterator(key):\n\u001B[0;32m   3901\u001B[0m         key \u001B[38;5;241m=\u001B[39m \u001B[38;5;28mlist\u001B[39m(key)\n\u001B[1;32m-> 3902\u001B[0m     indexer \u001B[38;5;241m=\u001B[39m \u001B[38;5;28;43mself\u001B[39;49m\u001B[38;5;241;43m.\u001B[39;49m\u001B[43mcolumns\u001B[49m\u001B[38;5;241;43m.\u001B[39;49m\u001B[43m_get_indexer_strict\u001B[49m\u001B[43m(\u001B[49m\u001B[43mkey\u001B[49m\u001B[43m,\u001B[49m\u001B[43m \u001B[49m\u001B[38;5;124;43m\"\u001B[39;49m\u001B[38;5;124;43mcolumns\u001B[39;49m\u001B[38;5;124;43m\"\u001B[39;49m\u001B[43m)\u001B[49m[\u001B[38;5;241m1\u001B[39m]\n\u001B[0;32m   3904\u001B[0m \u001B[38;5;66;03m# take() does not accept boolean indexers\u001B[39;00m\n\u001B[0;32m   3905\u001B[0m \u001B[38;5;28;01mif\u001B[39;00m \u001B[38;5;28mgetattr\u001B[39m(indexer, \u001B[38;5;124m\"\u001B[39m\u001B[38;5;124mdtype\u001B[39m\u001B[38;5;124m\"\u001B[39m, \u001B[38;5;28;01mNone\u001B[39;00m) \u001B[38;5;241m==\u001B[39m \u001B[38;5;28mbool\u001B[39m:\n",
      "File \u001B[1;32m~\\PycharmProjects\\PythonProjects\\Lib\\site-packages\\pandas\\core\\indexes\\base.py:6114\u001B[0m, in \u001B[0;36mIndex._get_indexer_strict\u001B[1;34m(self, key, axis_name)\u001B[0m\n\u001B[0;32m   6111\u001B[0m \u001B[38;5;28;01melse\u001B[39;00m:\n\u001B[0;32m   6112\u001B[0m     keyarr, indexer, new_indexer \u001B[38;5;241m=\u001B[39m \u001B[38;5;28mself\u001B[39m\u001B[38;5;241m.\u001B[39m_reindex_non_unique(keyarr)\n\u001B[1;32m-> 6114\u001B[0m \u001B[38;5;28;43mself\u001B[39;49m\u001B[38;5;241;43m.\u001B[39;49m\u001B[43m_raise_if_missing\u001B[49m\u001B[43m(\u001B[49m\u001B[43mkeyarr\u001B[49m\u001B[43m,\u001B[49m\u001B[43m \u001B[49m\u001B[43mindexer\u001B[49m\u001B[43m,\u001B[49m\u001B[43m \u001B[49m\u001B[43maxis_name\u001B[49m\u001B[43m)\u001B[49m\n\u001B[0;32m   6116\u001B[0m keyarr \u001B[38;5;241m=\u001B[39m \u001B[38;5;28mself\u001B[39m\u001B[38;5;241m.\u001B[39mtake(indexer)\n\u001B[0;32m   6117\u001B[0m \u001B[38;5;28;01mif\u001B[39;00m \u001B[38;5;28misinstance\u001B[39m(key, Index):\n\u001B[0;32m   6118\u001B[0m     \u001B[38;5;66;03m# GH 42790 - Preserve name from an Index\u001B[39;00m\n",
      "File \u001B[1;32m~\\PycharmProjects\\PythonProjects\\Lib\\site-packages\\pandas\\core\\indexes\\base.py:6175\u001B[0m, in \u001B[0;36mIndex._raise_if_missing\u001B[1;34m(self, key, indexer, axis_name)\u001B[0m\n\u001B[0;32m   6173\u001B[0m     \u001B[38;5;28;01mif\u001B[39;00m use_interval_msg:\n\u001B[0;32m   6174\u001B[0m         key \u001B[38;5;241m=\u001B[39m \u001B[38;5;28mlist\u001B[39m(key)\n\u001B[1;32m-> 6175\u001B[0m     \u001B[38;5;28;01mraise\u001B[39;00m \u001B[38;5;167;01mKeyError\u001B[39;00m(\u001B[38;5;124mf\u001B[39m\u001B[38;5;124m\"\u001B[39m\u001B[38;5;124mNone of [\u001B[39m\u001B[38;5;132;01m{\u001B[39;00mkey\u001B[38;5;132;01m}\u001B[39;00m\u001B[38;5;124m] are in the [\u001B[39m\u001B[38;5;132;01m{\u001B[39;00maxis_name\u001B[38;5;132;01m}\u001B[39;00m\u001B[38;5;124m]\u001B[39m\u001B[38;5;124m\"\u001B[39m)\n\u001B[0;32m   6177\u001B[0m not_found \u001B[38;5;241m=\u001B[39m \u001B[38;5;28mlist\u001B[39m(ensure_index(key)[missing_mask\u001B[38;5;241m.\u001B[39mnonzero()[\u001B[38;5;241m0\u001B[39m]]\u001B[38;5;241m.\u001B[39munique())\n\u001B[0;32m   6178\u001B[0m \u001B[38;5;28;01mraise\u001B[39;00m \u001B[38;5;167;01mKeyError\u001B[39;00m(\u001B[38;5;124mf\u001B[39m\u001B[38;5;124m\"\u001B[39m\u001B[38;5;132;01m{\u001B[39;00mnot_found\u001B[38;5;132;01m}\u001B[39;00m\u001B[38;5;124m not in index\u001B[39m\u001B[38;5;124m\"\u001B[39m)\n",
      "\u001B[1;31mKeyError\u001B[0m: \"None of [Index(['pc1', 'pc2', 'pc3', 'pc4', 'pc5'], dtype='object')] are in the [columns]\""
     ]
    }
   ],
   "source": [
    "# do he same with principal components\n",
    "# iterating everyting above\n",
    "pca_fs = [feat for feat in pca_features ]\n",
    "pca_important_features = []\n",
    "while len(pca_fs) > 1:\n",
    "    if len(pca_fs) == 1:\n",
    "        pca_important_features.insert(0,fs[0])\n",
    "        break\n",
    "    res= []\n",
    "    for comb in combinations(pca_fs,len(pca_fs)-1):\n",
    "        missing = [_ for _ in fs if _ not in list(comb)][0]\n",
    "        comb = list(comb)\n",
    "        lr.fit(pca.transform(x_train[comb]), y_train)\n",
    "        score = lr.score(x_val[comb], y_val)\n",
    "        res.append((missing, score))\n",
    "    least_important = max(res, key=lambda t:t[1])[0]\n",
    "    pca_important_features.insert(0,least_important)\n",
    "    pca_fs.remove(least_important)"
   ],
   "metadata": {
    "collapsed": false,
    "ExecuteTime": {
     "end_time": "2023-09-25T15:40:52.394563500Z",
     "start_time": "2023-09-25T15:40:52.290008100Z"
    }
   }
  },
  {
   "cell_type": "code",
   "execution_count": 71,
   "outputs": [
    {
     "name": "stdout",
     "output_type": "stream",
     "text": [
      "0.002870956050893936\n",
      "0.2965501047632507\n",
      "0.49770522302371756\n",
      "0.5184982575279566\n",
      "0.5615219099178583\n",
      "0.561467715952324\n"
     ]
    }
   ],
   "source": [
    "for i in range(1,7):\n",
    "    scaler = preprocessing.StandardScaler()\n",
    "    scaler.fit(x_train)\n",
    "    x_train_sc = scaler.transform(x_train)\n",
    "    pca = PCA(n_components=i)\n",
    "    pca.fit(x_train_sc)\n",
    "    lr.fit(pca.transform(x_train_sc), y_train)\n",
    "    sc = lr.score(pca.transform(scaler.transform(x_val)), y_val)\n",
    "    print(sc)"
   ],
   "metadata": {
    "collapsed": false,
    "ExecuteTime": {
     "end_time": "2023-09-25T15:45:39.970930500Z",
     "start_time": "2023-09-25T15:45:39.830691900Z"
    }
   }
  },
  {
   "cell_type": "code",
   "execution_count": null,
   "outputs": [],
   "source": [
    "acc = []\n",
    "for i in range(1, len(pca_features)+1):\n",
    "    lr.fit(x_train[pca_features[:i]],y_train)\n",
    "    acc.append(lr.score(x_val[important_features[:i]], y_val))"
   ],
   "metadata": {
    "collapsed": false
   }
  }
 ],
 "metadata": {
  "kernelspec": {
   "display_name": "Python 3",
   "language": "python",
   "name": "python3"
  },
  "language_info": {
   "codemirror_mode": {
    "name": "ipython",
    "version": 3
   },
   "file_extension": ".py",
   "mimetype": "text/x-python",
   "name": "python",
   "nbconvert_exporter": "python",
   "pygments_lexer": "ipython3",
   "version": "3.8.10"
  }
 },
 "nbformat": 4,
 "nbformat_minor": 4
}
