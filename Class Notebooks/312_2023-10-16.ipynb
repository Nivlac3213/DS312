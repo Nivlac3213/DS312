{
 "cells": [
  {
   "cell_type": "markdown",
   "metadata": {},
   "source": [
    "### decision tree pruning"
   ]
  },
  {
   "cell_type": "markdown",
   "metadata": {},
   "source": [
    "We can prune decision trees. We do this by imposing a penalty per split. This amounts to defining a new loss function, say (for a regressor)\n",
    "\n",
    "tree_score = SSE + $\\alpha$ \\* n_leaves.\n",
    "\n",
    "When $\\alpha=0$, this is just the old loss function. If $\\alpha$ is high, this new loss function penalizes a tree for additional leaves. We then have $\\alpha$ as a hyperparameter which controls overfit and can be optimized experimentally, just as with max_depth."
   ]
  },
  {
   "cell_type": "code",
   "execution_count": 1,
   "metadata": {},
   "outputs": [],
   "source": [
    "import matplotlib.pyplot as plt\n",
    "import pandas as pd\n",
    "from sklearn.model_selection import train_test_split\n",
    "from sklearn.tree import DecisionTreeRegressor\n",
    "from multiprocessing import Pool"
   ]
  },
  {
   "cell_type": "code",
   "execution_count": 2,
   "metadata": {},
   "outputs": [],
   "source": [
    "df = pd.read_csv('/home/briggsc1-erau.edu/Downloads/housing.csv')\n",
    "features = ['longitude', 'latitude', 'housing_median_age', 'total_rooms',\n",
    "       'total_bedrooms', 'population', 'households', 'median_income']\n",
    "target = ['median_house_value']\n",
    "df = df.dropna(subset = features+target)"
   ]
  },
  {
   "cell_type": "markdown",
   "metadata": {},
   "source": [
    "Using our full dataset with a normally-sized training set, we may run into memory limitations. Try it and see. If so, use a smaller training set. I have split train-val-test 20-40-40 here."
   ]
  },
  {
   "cell_type": "code",
   "execution_count": 3,
   "metadata": {},
   "outputs": [],
   "source": [
    "x_tr,x_te,y_tr,y_te = train_test_split(df[features],df[target],\n",
    "                                       test_size = 0.8, random_state = 0)\n",
    "x_va,x_te,y_va,y_te = train_test_split(x_te,y_te,\n",
    "                                       test_size = 0.5, random_state = 0)"
   ]
  },
  {
   "cell_type": "markdown",
   "metadata": {},
   "source": [
    "The way we start is to fit a tree to some data, then increase alpha from 0 until some leaf is eliminated. We store this value of alpha, the leaf which was eliminated, and the SSE. We then continue to increase alpha until another leaf is eliminated. And so on, until we arrive at the trivial tree (one leaf, null model)."
   ]
  },
  {
   "cell_type": "code",
   "execution_count": 4,
   "metadata": {},
   "outputs": [],
   "source": [
    "tr = DecisionTreeRegressor(random_state=0)\n",
    "path = tr.cost_complexity_pruning_path(x_tr, y_tr)\n",
    "ccp_alphas, SSE = path.ccp_alphas, path.impurities"
   ]
  },
  {
   "cell_type": "markdown",
   "metadata": {},
   "source": [
    "As alpha increases, of course SSE (on the training set) will increase."
   ]
  },
  {
   "cell_type": "code",
   "execution_count": 5,
   "metadata": {},
   "outputs": [
    {
     "data": {
      "image/png": "[encoded data removed]",
      "text/plain": [
       "<Figure size 432x288 with 1 Axes>"
      ]
     },
     "metadata": {
      "needs_background": "light"
     },
     "output_type": "display_data"
    }
   ],
   "source": [
    "fig, ax = plt.subplots()\n",
    "ax.plot(ccp_alphas, SSE)\n",
    "ax.set_xlabel('effective alpha')\n",
    "ax.set_ylabel('SSE')\n",
    "ax.set_title('SSE vs alpha for the training set');"
   ]
  },
  {
   "cell_type": "markdown",
   "metadata": {},
   "source": [
    "We can supply an alpha to the function which instantiates a tree. This redefines the loss function of the tree by incorporating a leaf penalty with coefficient alpha. We'll train a tree for each of our stored alphas. Multiprocessing will help things to run in a reasonable time."
   ]
  },
  {
   "cell_type": "code",
   "execution_count": 6,
   "metadata": {},
   "outputs": [],
   "source": [
    "def fit_tree(alpha):\n",
    "    tr = DecisionTreeRegressor(random_state=0, ccp_alpha=alpha)\n",
    "    tr.fit(x_tr, y_tr)\n",
    "    return(tr)\n",
    "with Pool(processes = 15) as p:\n",
    "    trees = p.map(fit_tree,ccp_alphas)"
   ]
  },
  {
   "cell_type": "markdown",
   "metadata": {},
   "source": [
    "Now we'll get the training and validation scores for each tree."
   ]
  },
  {
   "cell_type": "code",
   "execution_count": 8,
   "metadata": {},
   "outputs": [
    {
     "data": {
      "text/html": [
       "<div>\n",
       "<style scoped>\n",
       "    .dataframe tbody tr th:only-of-type {\n",
       "        vertical-align: middle;\n",
       "    }\n",
       "\n",
       "    .dataframe tbody tr th {\n",
       "        vertical-align: top;\n",
       "    }\n",
       "\n",
       "    .dataframe thead th {\n",
       "        text-align: right;\n",
       "    }\n",
       "</style>\n",
       "<table border=\"1\" class=\"dataframe\">\n",
       "  <thead>\n",
       "    <tr style=\"text-align: right;\">\n",
       "      <th></th>\n",
       "      <th>alpha</th>\n",
       "      <th>depth</th>\n",
       "      <th>n_leaves</th>\n",
       "      <th>acc_tr</th>\n",
       "      <th>acc_va</th>\n",
       "    </tr>\n",
       "  </thead>\n",
       "  <tbody>\n",
       "    <tr>\n",
       "      <th>0</th>\n",
       "      <td>0.000000</td>\n",
       "      <td>28</td>\n",
       "      <td>3927</td>\n",
       "      <td>1.0</td>\n",
       "      <td>0.566926</td>\n",
       "    </tr>\n",
       "    <tr>\n",
       "      <th>1</th>\n",
       "      <td>0.000163</td>\n",
       "      <td>28</td>\n",
       "      <td>3926</td>\n",
       "      <td>1.0</td>\n",
       "      <td>0.566926</td>\n",
       "    </tr>\n",
       "    <tr>\n",
       "      <th>2</th>\n",
       "      <td>0.000184</td>\n",
       "      <td>28</td>\n",
       "      <td>3924</td>\n",
       "      <td>1.0</td>\n",
       "      <td>0.566926</td>\n",
       "    </tr>\n",
       "    <tr>\n",
       "      <th>3</th>\n",
       "      <td>0.000184</td>\n",
       "      <td>28</td>\n",
       "      <td>3924</td>\n",
       "      <td>1.0</td>\n",
       "      <td>0.566926</td>\n",
       "    </tr>\n",
       "    <tr>\n",
       "      <th>4</th>\n",
       "      <td>0.000204</td>\n",
       "      <td>28</td>\n",
       "      <td>3923</td>\n",
       "      <td>1.0</td>\n",
       "      <td>0.566926</td>\n",
       "    </tr>\n",
       "  </tbody>\n",
       "</table>\n",
       "</div>"
      ],
      "text/plain": [
       "      alpha  depth  n_leaves  acc_tr    acc_va\n",
       "0  0.000000     28      3927     1.0  0.566926\n",
       "1  0.000163     28      3926     1.0  0.566926\n",
       "2  0.000184     28      3924     1.0  0.566926\n",
       "3  0.000184     28      3924     1.0  0.566926\n",
       "4  0.000204     28      3923     1.0  0.566926"
      ]
     },
     "execution_count": 8,
     "metadata": {},
     "output_type": "execute_result"
    }
   ],
   "source": [
    "data = []\n",
    "for tr in trees:\n",
    "    alpha = tr.ccp_alpha\n",
    "    acc_tr = tr.score(x_tr,y_tr)\n",
    "    acc_va = tr.score(x_va,y_va)\n",
    "    n_leaves = tr.get_n_leaves()\n",
    "    depth = tr.get_depth()\n",
    "    data.append({'alpha':alpha,'depth':depth,'n_leaves':n_leaves,\n",
    "                 'acc_tr':acc_tr,'acc_va':acc_va})\n",
    "df_acc = pd.DataFrame(data)\n",
    "df_acc.head()"
   ]
  },
  {
   "cell_type": "markdown",
   "metadata": {},
   "source": [
    "We can look at how alpha is affecting the number of leaves and the depth."
   ]
  },
  {
   "cell_type": "code",
   "execution_count": 15,
   "metadata": {},
   "outputs": [
    {
     "data": {
      "image/png": "[encoded data removed]",
      "text/plain": [
       "<Figure size 720x432 with 2 Axes>"
      ]
     },
     "metadata": {
      "needs_background": "light"
     },
     "output_type": "display_data"
    }
   ],
   "source": [
    "fig, ax = plt.subplots(2, 1,figsize = (10,6))\n",
    "ax[0].plot(df_acc.alpha, df_acc.n_leaves)\n",
    "ax[0].set_xlabel('alpha')\n",
    "ax[0].set_ylabel('number of nodes')\n",
    "ax[0].set_title('number of leaves vs alpha')\n",
    "ax[1].plot(df_acc.alpha, df_acc.depth)\n",
    "ax[1].set_xlabel('alpha')\n",
    "ax[1].set_ylabel('depth')\n",
    "ax[1].set_title('tree depth vs alpha')\n",
    "ax[0].set_xlim(-10**5,10**7)\n",
    "fig.tight_layout();"
   ]
  },
  {
   "cell_type": "markdown",
   "metadata": {},
   "source": [
    "We are most interested in how alpha affects the accuracy of the tree on the validation set."
   ]
  },
  {
   "cell_type": "code",
   "execution_count": 21,
   "metadata": {},
   "outputs": [
    {
     "data": {
      "image/png": "[encoded data removed]",
      "text/plain": [
       "<Figure size 432x288 with 1 Axes>"
      ]
     },
     "metadata": {
      "needs_background": "light"
     },
     "output_type": "display_data"
    }
   ],
   "source": [
    "fig, ax = plt.subplots()\n",
    "ax.set_xlabel('alpha')\n",
    "ax.set_ylabel('accuracy')\n",
    "ax.set_title('accuracy vs alpha for training and validation sets')\n",
    "ax.plot(df_acc.alpha, df_acc.acc_tr, label='train')\n",
    "ax.plot(df_acc.alpha, df_acc.acc_va, label='val')\n",
    "ax.legend()\n",
    "plt.show()"
   ]
  },
  {
   "cell_type": "markdown",
   "metadata": {},
   "source": [
    "This graph is a characteristic for optimizing hyperparameters: there is a monotonic decrease in accuracy for the training set while the validation set has an optimum somewhere in the middle. We locate the best alpha for accuracy on the validation set."
   ]
  },
  {
   "cell_type": "code",
   "execution_count": 22,
   "metadata": {},
   "outputs": [
    {
     "data": {
      "text/plain": [
       "alpha       1.311190e+07\n",
       "depth       1.300000e+01\n",
       "n_leaves    1.020000e+02\n",
       "acc_tr      8.107542e-01\n",
       "acc_va      6.615858e-01\n",
       "Name: 3541, dtype: float64"
      ]
     },
     "execution_count": 22,
     "metadata": {},
     "output_type": "execute_result"
    }
   ],
   "source": [
    "best_idx = df_acc['acc_va'].idxmax()\n",
    "best_row = df_acc.loc[best_idx]\n",
    "best_row"
   ]
  },
  {
   "cell_type": "markdown",
   "metadata": {},
   "source": [
    "Finally, we can measure the accuracy on the test set."
   ]
  },
  {
   "cell_type": "code",
   "execution_count": 23,
   "metadata": {},
   "outputs": [
    {
     "data": {
      "text/plain": [
       "0.674751413996367"
      ]
     },
     "execution_count": 23,
     "metadata": {},
     "output_type": "execute_result"
    }
   ],
   "source": [
    "trees[best_idx].score(x_te,y_te)"
   ]
  }
 ],
 "metadata": {
  "kernelspec": {
   "display_name": "Python 3 (ipykernel)",
   "language": "python",
   "name": "python3"
  },
  "language_info": {
   "codemirror_mode": {
    "name": "ipython",
    "version": 3
   },
   "file_extension": ".py",
   "mimetype": "text/x-python",
   "name": "python",
   "nbconvert_exporter": "python",
   "pygments_lexer": "ipython3",
   "version": "3.10.12"
  }
 },
 "nbformat": 4,
 "nbformat_minor": 4
}
