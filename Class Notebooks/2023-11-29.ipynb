{
 "cells": [
  {
   "cell_type": "markdown",
   "metadata": {},
   "source": [
    "### Convolutional Neural Networks (CNNs)\n",
    "\n",
    "Let's explore CNN components. First we see how convolution layers work."
   ]
  },
  {
   "cell_type": "code",
   "execution_count": 1,
   "metadata": {},
   "outputs": [],
   "source": [
    "import numpy as np\n",
    "from keras.models import Sequential\n",
    "from keras.layers import Conv1D, Conv2D"
   ]
  },
  {
   "cell_type": "code",
   "execution_count": 2,
   "metadata": {},
   "outputs": [],
   "source": [
    "# create an array to which we'll apply the filter\n",
    "data = np.asarray([0, 0, 0, 1, 1, 1, 1, 0, 0, 0])"
   ]
  },
  {
   "cell_type": "markdown",
   "metadata": {},
   "source": [
    "keras expects 1D arrays to come in a 3D package. The first dimension is for the sample (i.e. one sample among many), the second dimension is for the length of each array, and the third dimension is for the channel (as in color)."
   ]
  },
  {
   "cell_type": "code",
   "execution_count": 3,
   "metadata": {},
   "outputs": [],
   "source": [
    "data = data.reshape(1, 10, 1)"
   ]
  },
  {
   "cell_type": "markdown",
   "metadata": {},
   "source": [
    "Sequential is a class from keras that lets us stack together layer one-at-a-time into a single model. Conv1D and Conv2D are convolusional layers for application to sets of 1D and 2D arrays respectively."
   ]
  },
  {
   "cell_type": "code",
   "execution_count": 4,
   "metadata": {},
   "outputs": [],
   "source": [
    "model = Sequential()"
   ]
  },
  {
   "cell_type": "markdown",
   "metadata": {},
   "source": [
    "We'll use one filter with a length of 3, so we'll add one convolution layer to our model."
   ]
  },
  {
   "cell_type": "code",
   "execution_count": 5,
   "metadata": {},
   "outputs": [],
   "source": [
    "model.add(Conv1D(1, 3, input_shape=(10, 1)))"
   ]
  },
  {
   "cell_type": "code",
   "execution_count": 15,
   "metadata": {},
   "outputs": [],
   "source": [
    "# define an edge detector. The final weight is a bias, added to all outputs.\n",
    "weights = [np.asarray([[[0]],[[-1]],[[1]]]), np.asarray([0])]"
   ]
  },
  {
   "cell_type": "code",
   "execution_count": 16,
   "metadata": {},
   "outputs": [],
   "source": [
    "# store the weights in the model\n",
    "model.set_weights(weights)"
   ]
  },
  {
   "cell_type": "code",
   "execution_count": 17,
   "metadata": {},
   "outputs": [
    {
     "name": "stdout",
     "output_type": "stream",
     "text": [
      "[array([[[ 0.]],\n",
      "\n",
      "       [[-1.]],\n",
      "\n",
      "       [[ 1.]]], dtype=float32), array([0.], dtype=float32)]\n"
     ]
    }
   ],
   "source": [
    "print(model.get_weights())"
   ]
  },
  {
   "cell_type": "code",
   "execution_count": 18,
   "metadata": {},
   "outputs": [
    {
     "name": "stdout",
     "output_type": "stream",
     "text": [
      "1/1 [==============================] - 0s 10ms/step\n",
      "[[[ 0.]\n",
      "  [ 1.]\n",
      "  [ 0.]\n",
      "  [ 0.]\n",
      "  [ 0.]\n",
      "  [-1.]\n",
      "  [ 0.]\n",
      "  [ 0.]]]\n"
     ]
    }
   ],
   "source": [
    "# apply filter to input data\n",
    "yhat = model.predict(data)\n",
    "print(yhat)"
   ]
  },
  {
   "cell_type": "markdown",
   "metadata": {},
   "source": [
    "Of course, we're really just detecting 1s, and not detecting edges."
   ]
  },
  {
   "cell_type": "code",
   "execution_count": 80,
   "metadata": {},
   "outputs": [
    {
     "name": "stdout",
     "output_type": "stream",
     "text": [
      "1/1 [==============================] - 0s 22ms/step\n",
      "[[[ 0.]\n",
      "  [ 0.]\n",
      "  [ 1.]\n",
      "  [ 0.]\n",
      "  [ 0.]\n",
      "  [ 0.]\n",
      "  [-1.]\n",
      "  [ 0.]]]\n"
     ]
    }
   ],
   "source": [
    "weights = [np.asarray([[[-1]],[[1]],[[0]]]), np.asarray([0])]\n",
    "model.set_weights(weights)\n",
    "yhat = model.predict(data)\n",
    "print(yhat)"
   ]
  },
  {
   "cell_type": "markdown",
   "metadata": {},
   "source": [
    "There are some edges.\n",
    "\n",
    "Note that the output is smaller than the input. If we wanted to ensure the output had the same size as the input (as in the Mario picture from the video Monday), we could pad the border of our data with 0s before applying the convolution filter.\n",
    "\n",
    "Now we'll apply a filter to a two-dimensional array."
   ]
  },
  {
   "cell_type": "code",
   "execution_count": 19,
   "metadata": {},
   "outputs": [],
   "source": [
    "# define input data\n",
    "data = np.asarray(\n",
    "    [[[0, 0, 0, 1, 1, 0, 0, 0],\n",
    "      [0, 0, 0, 1, 1, 0, 0, 0],\n",
    "      [0, 0, 0, 1, 1, 0, 0, 0],\n",
    "      [0, 0, 0, 1, 1, 0, 0, 0],\n",
    "      [0, 0, 0, 1, 1, 0, 0, 0],\n",
    "      [0, 0, 0, 1, 1, 0, 0, 0],\n",
    "      [0, 0, 0, 1, 1, 0, 0, 0],\n",
    "      [0, 0, 0, 1, 1, 0, 0, 0]],\n",
    "     \n",
    "     [[0, 0, 0, 0, 0, 0, 0, 0],\n",
    "      [0, 0, 0, 0, 0, 0, 0, 0],\n",
    "      [0, 0, 0, 0, 0, 0, 0, 0],\n",
    "      [1, 1, 1, 1, 1, 1, 1, 1],\n",
    "      [1, 1, 1, 1, 1, 1, 1, 1],\n",
    "      [1, 1, 1, 1, 1, 1, 1, 1],\n",
    "      [0, 0, 0, 0, 0, 0, 0, 0],\n",
    "      [0, 0, 0, 0, 0, 0, 0, 0]]])\n",
    "\n",
    "data = data.reshape(2, 8, 8, 1)"
   ]
  },
  {
   "cell_type": "code",
   "execution_count": 20,
   "metadata": {},
   "outputs": [],
   "source": [
    "# create model\n",
    "model = Sequential()\n",
    "model.add(Conv2D(1, (3,3), input_shape=(8, 8, 1)))"
   ]
  },
  {
   "cell_type": "code",
   "execution_count": 21,
   "metadata": {},
   "outputs": [],
   "source": [
    "# define a vertical line detector\n",
    "detector = [[[[-1]],[[1]],[[0]]],\n",
    "            [[[-1]],[[1]],[[0]]],\n",
    "            [[[-1]],[[1]],[[0]]]]\n",
    "weights = [np.asarray(detector), np.asarray([0.0])]\n",
    "# store the weights in the model\n",
    "model.set_weights(weights)"
   ]
  },
  {
   "cell_type": "code",
   "execution_count": 22,
   "metadata": {},
   "outputs": [
    {
     "name": "stdout",
     "output_type": "stream",
     "text": [
      "1/1 [==============================] - 0s 21ms/step\n"
     ]
    }
   ],
   "source": [
    "# apply filter to input data\n",
    "yhat = model.predict(data)"
   ]
  },
  {
   "cell_type": "markdown",
   "metadata": {},
   "source": [
    "We have a 2x6x6x1 output."
   ]
  },
  {
   "cell_type": "code",
   "execution_count": 23,
   "metadata": {},
   "outputs": [
    {
     "data": {
      "text/plain": [
       "(2, 6, 6, 1)"
      ]
     },
     "execution_count": 23,
     "metadata": {},
     "output_type": "execute_result"
    }
   ],
   "source": [
    "yhat.shape"
   ]
  },
  {
   "cell_type": "markdown",
   "metadata": {},
   "source": [
    "We can arrange the output into a 2D grids for nice printing."
   ]
  },
  {
   "cell_type": "code",
   "execution_count": 27,
   "metadata": {},
   "outputs": [
    {
     "name": "stdout",
     "output_type": "stream",
     "text": [
      "[[ 0.  0.  3.  0. -3.  0.]\n",
      " [ 0.  0.  3.  0. -3.  0.]\n",
      " [ 0.  0.  3.  0. -3.  0.]\n",
      " [ 0.  0.  3.  0. -3.  0.]\n",
      " [ 0.  0.  3.  0. -3.  0.]\n",
      " [ 0.  0.  3.  0. -3.  0.]]\n"
     ]
    }
   ],
   "source": [
    "# first input grid, vertical edge detector\n",
    "print(yhat[0,:,:,:].reshape(6,6))"
   ]
  },
  {
   "cell_type": "code",
   "execution_count": 29,
   "metadata": {},
   "outputs": [
    {
     "name": "stdout",
     "output_type": "stream",
     "text": [
      "[[0. 0. 0. 0. 0. 0.]\n",
      " [0. 0. 0. 0. 0. 0.]\n",
      " [0. 0. 0. 0. 0. 0.]\n",
      " [0. 0. 0. 0. 0. 0.]\n",
      " [0. 0. 0. 0. 0. 0.]\n",
      " [0. 0. 0. 0. 0. 0.]]\n"
     ]
    }
   ],
   "source": [
    "# second input grid (horizontal stripe), vertical edge detector\n",
    "print(yhat[1,:,:,0])"
   ]
  },
  {
   "cell_type": "markdown",
   "metadata": {},
   "source": [
    "See that our filter identifies vertical edges but ignores horizontal edges. We can make a filter to detect horizontal edges and ignore vertical edges."
   ]
  },
  {
   "cell_type": "code",
   "execution_count": 30,
   "metadata": {},
   "outputs": [],
   "source": [
    "# let's include two filters with this model\n",
    "model = Sequential()\n",
    "model.add(Conv2D(2, (3,3), input_shape=(8, 8, 1)))\n",
    "\n",
    "# define vertical and horizontal line detectors\n",
    "detector = [[[[-1,-1]],[[1,-1]],[[0,-1]]],\n",
    "            [[[-1,1]],[[1,1]],[[0,1]]],\n",
    "            [[[-1,0]],[[1,0]],[[0,0]]]]\n",
    "            \n",
    "# our bias vector must have two components\n",
    "weights = [np.asarray(detector), np.asarray([0.0,0])]\n",
    "model.set_weights(weights)"
   ]
  },
  {
   "cell_type": "code",
   "execution_count": 31,
   "metadata": {},
   "outputs": [
    {
     "name": "stdout",
     "output_type": "stream",
     "text": [
      "1/1 [==============================] - 0s 30ms/step\n"
     ]
    }
   ],
   "source": [
    "# apply filter to input data\n",
    "yhat = model.predict(data)"
   ]
  },
  {
   "cell_type": "code",
   "execution_count": 32,
   "metadata": {},
   "outputs": [
    {
     "data": {
      "text/plain": [
       "(2, 6, 6, 2)"
      ]
     },
     "execution_count": 32,
     "metadata": {},
     "output_type": "execute_result"
    }
   ],
   "source": [
    "yhat.shape"
   ]
  },
  {
   "cell_type": "code",
   "execution_count": 35,
   "metadata": {},
   "outputs": [
    {
     "data": {
      "text/plain": [
       "array([[[ 0.,  0.,  3.,  0., -3.,  0.],\n",
       "        [ 0.,  0.,  3.,  0., -3.,  0.],\n",
       "        [ 0.,  0.,  3.,  0., -3.,  0.],\n",
       "        [ 0.,  0.,  3.,  0., -3.,  0.],\n",
       "        [ 0.,  0.,  3.,  0., -3.,  0.],\n",
       "        [ 0.,  0.,  3.,  0., -3.,  0.]],\n",
       "\n",
       "       [[ 0.,  0.,  0.,  0.,  0.,  0.],\n",
       "        [ 0.,  0.,  0.,  0.,  0.,  0.],\n",
       "        [ 0.,  0.,  0.,  0.,  0.,  0.],\n",
       "        [ 0.,  0.,  0.,  0.,  0.,  0.],\n",
       "        [ 0.,  0.,  0.,  0.,  0.,  0.],\n",
       "        [ 0.,  0.,  0.,  0.,  0.,  0.]]], dtype=float32)"
      ]
     },
     "execution_count": 35,
     "metadata": {},
     "output_type": "execute_result"
    }
   ],
   "source": [
    "# see the effects of the filters on the first input array\n",
    "yhat[:,:,:,0]"
   ]
  },
  {
   "cell_type": "code",
   "execution_count": 28,
   "metadata": {},
   "outputs": [
    {
     "data": {
      "text/plain": [
       "array([[[ 0.,  0.,  0.,  0.,  0.,  0.],\n",
       "        [ 0.,  0.,  0.,  0.,  0.,  0.],\n",
       "        [ 0.,  0.,  0.,  0.,  0.,  0.],\n",
       "        [ 0.,  0.,  0.,  0.,  0.,  0.],\n",
       "        [ 0.,  0.,  0.,  0.,  0.,  0.],\n",
       "        [ 0.,  0.,  0.,  0.,  0.,  0.]],\n",
       "\n",
       "       [[ 0.,  0.,  0.,  0.,  0.,  0.],\n",
       "        [ 0.,  0.,  0.,  0.,  0.,  0.],\n",
       "        [ 3.,  3.,  3.,  3.,  3.,  3.],\n",
       "        [ 0.,  0.,  0.,  0.,  0.,  0.],\n",
       "        [ 0.,  0.,  0.,  0.,  0.,  0.],\n",
       "        [-3., -3., -3., -3., -3., -3.]]], dtype=float32)"
      ]
     },
     "execution_count": 28,
     "metadata": {},
     "output_type": "execute_result"
    }
   ],
   "source": [
    "# see the effects of the filters on the second input array\n",
    "yhat[:,:,:,1]"
   ]
  },
  {
   "cell_type": "markdown",
   "metadata": {},
   "source": [
    "### Pooling\n",
    "\n",
    "Pooling is an operation done to a numeric grid (e.g. image), similar to applying a convolution. However, the pooling filter is usually 2x2 and applied with a stride of 2 (no overlap between applications). For each 2x2 subgrid of our image, a scalar is produced. The image is thus down sampled by a factor of 4. Max pooling takes the max of of the four pixels, while average pooling takes the average of the four pixels.\n",
    "\n",
    "The utility of pooling is that sometimes features we're trying to detect may change their location slightly within an image. The down sampling involved in pooling gives us a margin of error for the location of features we're detecting.\n",
    "\n",
    "Let's start with an example using max pooling."
   ]
  },
  {
   "cell_type": "code",
   "execution_count": 36,
   "metadata": {},
   "outputs": [],
   "source": [
    "import numpy as np\n",
    "from keras.models import Sequential\n",
    "from keras.layers import Conv2D\n",
    "from keras.layers import MaxPooling2D\n",
    "from keras.layers import AveragePooling2D"
   ]
  },
  {
   "cell_type": "markdown",
   "metadata": {},
   "source": [
    "As before, we create the data. A 2D array is reshaped to 1 point x 8 rows x 8 columns x 1 channel."
   ]
  },
  {
   "cell_type": "code",
   "execution_count": null,
   "metadata": {},
   "outputs": [],
   "source": [
    "detector = [[[[0]],[[-1]],[[1]]],\n",
    "            [[[0]],[[-1]],[[1]]],\n",
    "            [[[0]],[[-1]],[[1]]]]"
   ]
  },
  {
   "cell_type": "code",
   "execution_count": 41,
   "metadata": {},
   "outputs": [
    {
     "name": "stdout",
     "output_type": "stream",
     "text": [
      "Model: \"sequential_5\"\n",
      "_________________________________________________________________\n",
      " Layer (type)                Output Shape              Param #   \n",
      "=================================================================\n",
      " conv2d_4 (Conv2D)           (None, 6, 6, 1)           10        \n",
      "                                                                 \n",
      " average_pooling2d_1 (Avera  (None, 3, 3, 1)           0         \n",
      " gePooling2D)                                                    \n",
      "                                                                 \n",
      "=================================================================\n",
      "Total params: 10 (40.00 Byte)\n",
      "Trainable params: 10 (40.00 Byte)\n",
      "Non-trainable params: 0 (0.00 Byte)\n",
      "_________________________________________________________________\n"
     ]
    }
   ],
   "source": [
    "data = [[0, 0, 0, 1, 1, 1, 0, 0],\n",
    "        [0, 0, 0, 1, 1, 1, 0, 0],\n",
    "        [0, 0, 0, 1, 1, 1, 0, 0],\n",
    "        [0, 0, 0, 1, 1, 1, 0, 0],\n",
    "        [0, 0, 0, 1, 1, 1, 0, 0],\n",
    "        [0, 0, 0, 1, 1, 1, 0, 0],\n",
    "        [0, 0, 0, 1, 1, 1, 0, 0],\n",
    "        [0, 0, 0, 1, 1, 1, 0, 0]]\n",
    "data = np.asarray(data).reshape(1, 8, 8, 1)\n",
    "\n",
    "# create model and add a convolution layer\n",
    "model = Sequential()\n",
    "model.add(Conv2D(1, (3,3), activation=None, input_shape=(8, 8, 1)))\n",
    "\n",
    "# add a pooling layer. switch between max and average, and observe the results\n",
    "# model.add(MaxPooling2D())\n",
    "model.add(AveragePooling2D())\n",
    "\n",
    "# summarize model\n",
    "model.summary()"
   ]
  },
  {
   "cell_type": "code",
   "execution_count": 42,
   "metadata": {},
   "outputs": [
    {
     "name": "stdout",
     "output_type": "stream",
     "text": [
      "WARNING:tensorflow:6 out of the last 8 calls to <function Model.make_predict_function.<locals>.predict_function at 0x7f2af820be50> triggered tf.function retracing. Tracing is expensive and the excessive number of tracings could be due to (1) creating @tf.function repeatedly in a loop, (2) passing tensors with different shapes, (3) passing Python objects instead of tensors. For (1), please define your @tf.function outside of the loop. For (2), @tf.function has reduce_retracing=True option that can avoid unnecessary retracing. For (3), please refer to https://www.tensorflow.org/guide/function#controlling_retracing and https://www.tensorflow.org/api_docs/python/tf/function for  more details.\n",
      "1/1 [==============================] - 0s 22ms/step\n",
      "[1.5, 0.0, -1.5]\n",
      "[1.5, 0.0, -1.5]\n",
      "[1.5, 0.0, -1.5]\n"
     ]
    }
   ],
   "source": [
    "# define a vertical line detector\n",
    "detector = [[[[0]],[[-1]],[[1]]],\n",
    "            [[[0]],[[-1]],[[1]]],\n",
    "            [[[0]],[[-1]],[[1]]]]\n",
    "weights = [np.asarray(detector), np.asarray([0.0])]\n",
    "# store the weights in the model\n",
    "model.set_weights(weights)\n",
    "# apply filter to input data\n",
    "yhat = model.predict(data)\n",
    "# enumerate rows\n",
    "for r in range(yhat.shape[1]):\n",
    "    # print each column in the row\n",
    "    print([yhat[0,r,c,0] for c in range(yhat.shape[2])])"
   ]
  },
  {
   "cell_type": "markdown",
   "metadata": {},
   "source": [
    "Check these results by hand. Can you figure out why the right-most column is still 0s even when we use average pooling? Shouldn't we be taking the average of a negative value and 0?"
   ]
  },
  {
   "cell_type": "code",
   "execution_count": 43,
   "metadata": {},
   "outputs": [],
   "source": [
    "from keras.models import Sequential\n",
    "from keras.layers import Conv1D, Conv2D, Dense, MaxPooling2D, Flatten\n",
    "from keras.optimizers import SGD\n",
    "from keras.utils import to_categorical\n",
    "from keras.datasets import mnist"
   ]
  },
  {
   "cell_type": "code",
   "execution_count": 44,
   "metadata": {},
   "outputs": [],
   "source": [
    "# define cnn model\n",
    "def define_model():\n",
    "    model = Sequential()\n",
    "    model.add(Conv2D(32, (3, 3), activation='relu', kernel_initializer='he_uniform', input_shape=(28, 28, 1)))\n",
    "    model.add(MaxPooling2D((2, 2)))\n",
    "    model.add(Flatten())\n",
    "    model.add(Dense(100, activation='relu', kernel_initializer='he_uniform'))\n",
    "    model.add(Dense(10, activation='softmax')) # output layer\n",
    "    # compile model\n",
    "    opt = SGD(learning_rate=0.01, momentum=0.9)\n",
    "    model.compile(optimizer=opt, loss='categorical_crossentropy', metrics=['accuracy'])\n",
    "    return model"
   ]
  },
  {
   "cell_type": "code",
   "execution_count": 45,
   "metadata": {},
   "outputs": [],
   "source": [
    "model = define_model()"
   ]
  },
  {
   "cell_type": "code",
   "execution_count": 49,
   "metadata": {},
   "outputs": [],
   "source": [
    "(x_tr, y_tr), (x_te, y_te) = mnist.load_data()\n",
    "x_tr = x_tr.reshape((x_tr.shape[0], 28, 28, 1))\n",
    "x_te = x_te.reshape((x_te.shape[0], 28, 28, 1))"
   ]
  },
  {
   "cell_type": "code",
   "execution_count": 51,
   "metadata": {},
   "outputs": [],
   "source": [
    "y_tr = to_categorical(y_tr) # changes each outcome (integer) into a 1x10 binary array\n",
    "y_te = to_categorical(y_te)"
   ]
  },
  {
   "cell_type": "code",
   "execution_count": 53,
   "metadata": {},
   "outputs": [],
   "source": [
    "# scale the data\n",
    "x_tr = x_tr / 255"
   ]
  },
  {
   "cell_type": "code",
   "execution_count": 54,
   "metadata": {},
   "outputs": [],
   "source": [
    "x_te = x_te / 255"
   ]
  },
  {
   "cell_type": "code",
   "execution_count": 55,
   "metadata": {},
   "outputs": [
    {
     "name": "stdout",
     "output_type": "stream",
     "text": [
      "1875/1875 [==============================] - 7s 3ms/step - loss: 0.1743 - accuracy: 0.9470\n"
     ]
    },
    {
     "data": {
      "text/plain": [
       "<keras.src.callbacks.History at 0x7f2af816f4f0>"
      ]
     },
     "execution_count": 55,
     "metadata": {},
     "output_type": "execute_result"
    }
   ],
   "source": [
    "model.fit(x_tr,y_tr)"
   ]
  },
  {
   "cell_type": "code",
   "execution_count": 56,
   "metadata": {},
   "outputs": [
    {
     "name": "stdout",
     "output_type": "stream",
     "text": [
      "313/313 [==============================] - 0s 977us/step - loss: 0.0855 - accuracy: 0.9732\n"
     ]
    },
    {
     "data": {
      "text/plain": [
       "[0.08554726094007492, 0.9732000231742859]"
      ]
     },
     "execution_count": 56,
     "metadata": {},
     "output_type": "execute_result"
    }
   ],
   "source": [
    "model.evaluate(x_te,y_te)"
   ]
  },
  {
   "cell_type": "code",
   "execution_count": 57,
   "metadata": {},
   "outputs": [],
   "source": [
    "filters, biases = model.layers[0].get_weights()"
   ]
  },
  {
   "cell_type": "markdown",
   "metadata": {},
   "source": [
    "We have a bias vector with 32 entries."
   ]
  },
  {
   "cell_type": "code",
   "execution_count": 58,
   "metadata": {},
   "outputs": [
    {
     "data": {
      "text/plain": [
       "(32,)"
      ]
     },
     "execution_count": 58,
     "metadata": {},
     "output_type": "execute_result"
    }
   ],
   "source": [
    "biases.shape"
   ]
  },
  {
   "cell_type": "markdown",
   "metadata": {},
   "source": [
    "We have 32 filters, each 3x3x1 (grayscale)."
   ]
  },
  {
   "cell_type": "code",
   "execution_count": 60,
   "metadata": {},
   "outputs": [
    {
     "data": {
      "text/plain": [
       "(3, 3, 1, 32)"
      ]
     },
     "execution_count": 60,
     "metadata": {},
     "output_type": "execute_result"
    }
   ],
   "source": [
    "filters.shape"
   ]
  },
  {
   "cell_type": "markdown",
   "metadata": {},
   "source": [
    "Here are some of the filters."
   ]
  },
  {
   "cell_type": "code",
   "execution_count": 61,
   "metadata": {},
   "outputs": [
    {
     "name": "stdout",
     "output_type": "stream",
     "text": [
      "[[ 0.2480788  -0.12945576  0.04050868]\n",
      " [ 0.36962438  0.56229776 -0.24102975]\n",
      " [-0.37411943  0.66207534 -0.14108403]]\n",
      "[[-0.47312313 -0.07064794 -0.21087766]\n",
      " [-0.6399599  -0.02014964  0.8267993 ]\n",
      " [-0.5691011   0.26392984  0.3229719 ]]\n"
     ]
    }
   ],
   "source": [
    "print(filters[:,:,:,0].reshape(3,3))\n",
    "print(filters[:,:,:,1].reshape(3,3))"
   ]
  },
  {
   "cell_type": "code",
   "execution_count": 62,
   "metadata": {},
   "outputs": [],
   "source": [
    "import matplotlib.pyplot as plt\n",
    "import seaborn as sns"
   ]
  },
  {
   "cell_type": "markdown",
   "metadata": {},
   "source": [
    "We can visualize them with seaborn."
   ]
  },
  {
   "cell_type": "code",
   "execution_count": 63,
   "metadata": {},
   "outputs": [
    {
     "data": {
      "text/plain": [
       "<Axes: >"
      ]
     },
     "execution_count": 63,
     "metadata": {},
     "output_type": "execute_result"
    },
    {
     "data": {
      "image/png": "[encoded data removed]",
      "text/plain": [
       "<Figure size 432x288 with 2 Axes>"
      ]
     },
     "metadata": {
      "needs_background": "light"
     },
     "output_type": "display_data"
    }
   ],
   "source": [
    "sns.heatmap(filters[:,:,:,0].reshape(3,3))"
   ]
  },
  {
   "cell_type": "code",
   "execution_count": 64,
   "metadata": {},
   "outputs": [
    {
     "data": {
      "image/png": "[encoded data removed]",
      "text/plain": [
       "<Figure size 432x864 with 32 Axes>"
      ]
     },
     "metadata": {},
     "output_type": "display_data"
    }
   ],
   "source": [
    "fig,axes = plt.subplots(8,4,figsize = (6,12))\n",
    "for idx in range(32):\n",
    "    sns.heatmap(filters[:,:,:,idx].reshape(3,3),ax=axes[idx//4,idx%4],cbar = False)\n",
    "plt.setp(axes, xticks=[], yticks=[]);"
   ]
  },
  {
   "cell_type": "markdown",
   "metadata": {},
   "source": [
    "Read more [here](https://machinelearningmastery.com/how-to-develop-a-convolutional-neural-network-from-scratch-for-mnist-handwritten-digit-classification/)."
   ]
  }
 ],
 "metadata": {
  "kernelspec": {
   "display_name": "Python 3",
   "language": "python",
   "name": "python3"
  },
  "language_info": {
   "codemirror_mode": {
    "name": "ipython",
    "version": 3
   },
   "file_extension": ".py",
   "mimetype": "text/x-python",
   "name": "python",
   "nbconvert_exporter": "python",
   "pygments_lexer": "ipython3",
   "version": "3.8.10"
  }
 },
 "nbformat": 4,
 "nbformat_minor": 4
}
