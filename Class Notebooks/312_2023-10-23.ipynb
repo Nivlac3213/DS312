{
 "cells": [
  {
   "cell_type": "markdown",
   "metadata": {},
   "source": [
    "### Tree pruning with cross-validation"
   ]
  },
  {
   "cell_type": "markdown",
   "metadata": {},
   "source": [
    "Now that we've bootstrapped something, we'll apply these ideas to optimizing alpha in the tree pruning process. Cross-validation can be used to optimize any hyperparameter or set of hyperparameters. You get more certainty about optimum values at the expense of computation time."
   ]
  },
  {
   "cell_type": "code",
   "execution_count": 1,
   "metadata": {},
   "outputs": [],
   "source": [
    "import matplotlib.pyplot as plt\n",
    "import pandas as pd\n",
    "from sklearn.model_selection import train_test_split\n",
    "from sklearn.tree import DecisionTreeRegressor\n",
    "from multiprocessing import Pool\n",
    "from sklearn.model_selection import KFold, train_test_split\n",
    "from itertools import product\n",
    "import numpy as np\n",
    "from os import cpu_count"
   ]
  },
  {
   "cell_type": "code",
   "execution_count": 2,
   "metadata": {},
   "outputs": [],
   "source": [
    "df = pd.read_csv('/home/briggsc1-erau.edu/Downloads/housing.csv')\n",
    "features = ['longitude', 'latitude', 'housing_median_age', 'total_rooms',\n",
    "       'total_bedrooms', 'population', 'households', 'median_income']\n",
    "target = ['median_house_value']\n",
    "df = df.dropna(subset = features+target)"
   ]
  },
  {
   "cell_type": "code",
   "execution_count": 3,
   "metadata": {},
   "outputs": [],
   "source": [
    "x_tr,x_te,y_tr,y_te = train_test_split(df[features],df[target],\n",
    "                                       test_size = 0.75)"
   ]
  },
  {
   "cell_type": "markdown",
   "metadata": {},
   "source": [
    "To use multiprocessing, we need to create a function to perform the distributed task. Our distributed task will be fitting a tree to some training data. We'll pass in the tree and the training data as a single variable, as required by the multiprocessing syntax."
   ]
  },
  {
   "cell_type": "code",
   "execution_count": 4,
   "metadata": {},
   "outputs": [],
   "source": [
    "def fit_tree(inpt):\n",
    "    x_tra,y_tra,alpha = inpt\n",
    "    tr = DecisionTreeRegressor(ccp_alpha=alpha)\n",
    "    tr.fit(x_tra, y_tra)\n",
    "    return(tr)"
   ]
  },
  {
   "cell_type": "code",
   "execution_count": 5,
   "metadata": {},
   "outputs": [],
   "source": [
    "kf = KFold(n_splits=3)\n",
    "kf.get_n_splits(x_tr)\n",
    "\n",
    "dfs_acc = [] # a list to store our df_acc dataframe for each split\n",
    "\n",
    "optimum_alphas = [] # a list to store the best alpha value for each split.\n",
    "for train_index, val_index in kf.split(x_tr): # this loop is over the cross-val splits\n",
    "    x_tra = x_tr.iloc[train_index]\n",
    "    x_val = x_tr.iloc[val_index]\n",
    "    y_tra = y_tr.iloc[train_index]\n",
    "    y_val = y_tr.iloc[val_index]\n",
    "    \n",
    "    tr = DecisionTreeRegressor()\n",
    "    path = tr.cost_complexity_pruning_path(x_tra, y_tra) # we must compute the ccp_alphas for each split\n",
    "    ccp_alphas, impurities = path.ccp_alphas, path.impurities\n",
    "    \n",
    "    inpt = product([x_tra],[y_tra],ccp_alphas) # assembling the input for the multiprocessing distribution\n",
    "    \n",
    "    cores = cpu_count() # get the number of CPUs\n",
    "    \n",
    "    with Pool(processes = cores-1) as p:\n",
    "        trees = p.map(fit_tree,inpt)\n",
    "\n",
    "    data = [] # data for a dataframe showing the scores and attributes of each tree\n",
    "    for tr in trees:\n",
    "        alpha = tr.ccp_alpha\n",
    "        acc_tr = tr.score(x_tra,y_tra)\n",
    "        acc_va = tr.score(x_val,y_val)\n",
    "        n_leaves = tr.get_n_leaves()\n",
    "        depth = tr.get_depth()\n",
    "        data.append({'alpha':alpha,'depth':depth,'n_leaves':n_leaves,\n",
    "                     'acc_tr':acc_tr,'acc_va':acc_va})\n",
    "    df_acc = pd.DataFrame(data)\n",
    "    dfs_acc.append(df_acc)\n",
    "    best_idx = df_acc['acc_va'].idxmax() # find the row with the best accuracy on the validation set\n",
    "    best_row = df_acc.loc[best_idx]\n",
    "    optimum_alphas.append(best_row['alpha'])"
   ]
  },
  {
   "cell_type": "code",
   "execution_count": 6,
   "metadata": {},
   "outputs": [],
   "source": [
    "# assemble the dfs_acc into a single dataframe with a fold column\n",
    "for i,df_acc in enumerate(dfs_acc):\n",
    "    df_acc['fold'] = i\n",
    "df_acc = pd.concat(dfs_acc)"
   ]
  },
  {
   "cell_type": "code",
   "execution_count": 7,
   "metadata": {},
   "outputs": [
    {
     "data": {
      "text/html": [
       "<div>\n",
       "<style scoped>\n",
       "    .dataframe tbody tr th:only-of-type {\n",
       "        vertical-align: middle;\n",
       "    }\n",
       "\n",
       "    .dataframe tbody tr th {\n",
       "        vertical-align: top;\n",
       "    }\n",
       "\n",
       "    .dataframe thead th {\n",
       "        text-align: right;\n",
       "    }\n",
       "</style>\n",
       "<table border=\"1\" class=\"dataframe\">\n",
       "  <thead>\n",
       "    <tr style=\"text-align: right;\">\n",
       "      <th></th>\n",
       "      <th>alpha</th>\n",
       "      <th>depth</th>\n",
       "      <th>n_leaves</th>\n",
       "      <th>acc_tr</th>\n",
       "      <th>acc_va</th>\n",
       "      <th>fold</th>\n",
       "    </tr>\n",
       "  </thead>\n",
       "  <tbody>\n",
       "    <tr>\n",
       "      <th>0</th>\n",
       "      <td>0.000000e+00</td>\n",
       "      <td>27</td>\n",
       "      <td>3288</td>\n",
       "      <td>1.000000</td>\n",
       "      <td>5.461439e-01</td>\n",
       "      <td>0</td>\n",
       "    </tr>\n",
       "    <tr>\n",
       "      <th>1</th>\n",
       "      <td>1.468429e-04</td>\n",
       "      <td>27</td>\n",
       "      <td>3284</td>\n",
       "      <td>1.000000</td>\n",
       "      <td>5.446578e-01</td>\n",
       "      <td>0</td>\n",
       "    </tr>\n",
       "    <tr>\n",
       "      <th>2</th>\n",
       "      <td>1.468429e-04</td>\n",
       "      <td>27</td>\n",
       "      <td>3284</td>\n",
       "      <td>1.000000</td>\n",
       "      <td>5.400846e-01</td>\n",
       "      <td>0</td>\n",
       "    </tr>\n",
       "    <tr>\n",
       "      <th>3</th>\n",
       "      <td>1.468429e-04</td>\n",
       "      <td>27</td>\n",
       "      <td>3284</td>\n",
       "      <td>1.000000</td>\n",
       "      <td>5.549033e-01</td>\n",
       "      <td>0</td>\n",
       "    </tr>\n",
       "    <tr>\n",
       "      <th>4</th>\n",
       "      <td>2.349540e-04</td>\n",
       "      <td>27</td>\n",
       "      <td>3284</td>\n",
       "      <td>1.000000</td>\n",
       "      <td>5.600465e-01</td>\n",
       "      <td>0</td>\n",
       "    </tr>\n",
       "    <tr>\n",
       "      <th>...</th>\n",
       "      <td>...</td>\n",
       "      <td>...</td>\n",
       "      <td>...</td>\n",
       "      <td>...</td>\n",
       "      <td>...</td>\n",
       "      <td>...</td>\n",
       "    </tr>\n",
       "    <tr>\n",
       "      <th>3026</th>\n",
       "      <td>2.048820e+08</td>\n",
       "      <td>3</td>\n",
       "      <td>5</td>\n",
       "      <td>0.486657</td>\n",
       "      <td>4.405228e-01</td>\n",
       "      <td>2</td>\n",
       "    </tr>\n",
       "    <tr>\n",
       "      <th>3027</th>\n",
       "      <td>2.349431e+08</td>\n",
       "      <td>2</td>\n",
       "      <td>4</td>\n",
       "      <td>0.469352</td>\n",
       "      <td>4.227887e-01</td>\n",
       "      <td>2</td>\n",
       "    </tr>\n",
       "    <tr>\n",
       "      <th>3028</th>\n",
       "      <td>8.412136e+08</td>\n",
       "      <td>2</td>\n",
       "      <td>3</td>\n",
       "      <td>0.407391</td>\n",
       "      <td>3.596662e-01</td>\n",
       "      <td>2</td>\n",
       "    </tr>\n",
       "    <tr>\n",
       "      <th>3029</th>\n",
       "      <td>9.826828e+08</td>\n",
       "      <td>1</td>\n",
       "      <td>2</td>\n",
       "      <td>0.335010</td>\n",
       "      <td>2.725712e-01</td>\n",
       "      <td>2</td>\n",
       "    </tr>\n",
       "    <tr>\n",
       "      <th>3030</th>\n",
       "      <td>4.548276e+09</td>\n",
       "      <td>0</td>\n",
       "      <td>1</td>\n",
       "      <td>0.000000</td>\n",
       "      <td>-1.329892e-11</td>\n",
       "      <td>2</td>\n",
       "    </tr>\n",
       "  </tbody>\n",
       "</table>\n",
       "<p>9080 rows × 6 columns</p>\n",
       "</div>"
      ],
      "text/plain": [
       "             alpha  depth  n_leaves    acc_tr        acc_va  fold\n",
       "0     0.000000e+00     27      3288  1.000000  5.461439e-01     0\n",
       "1     1.468429e-04     27      3284  1.000000  5.446578e-01     0\n",
       "2     1.468429e-04     27      3284  1.000000  5.400846e-01     0\n",
       "3     1.468429e-04     27      3284  1.000000  5.549033e-01     0\n",
       "4     2.349540e-04     27      3284  1.000000  5.600465e-01     0\n",
       "...            ...    ...       ...       ...           ...   ...\n",
       "3026  2.048820e+08      3         5  0.486657  4.405228e-01     2\n",
       "3027  2.349431e+08      2         4  0.469352  4.227887e-01     2\n",
       "3028  8.412136e+08      2         3  0.407391  3.596662e-01     2\n",
       "3029  9.826828e+08      1         2  0.335010  2.725712e-01     2\n",
       "3030  4.548276e+09      0         1  0.000000 -1.329892e-11     2\n",
       "\n",
       "[9080 rows x 6 columns]"
      ]
     },
     "execution_count": 7,
     "metadata": {},
     "output_type": "execute_result"
    }
   ],
   "source": [
    "df_acc"
   ]
  },
  {
   "cell_type": "code",
   "execution_count": 8,
   "metadata": {},
   "outputs": [
    {
     "name": "stdout",
     "output_type": "stream",
     "text": [
      "The optimum value of alpha is 21678995.\n"
     ]
    }
   ],
   "source": [
    "best_alpha = np.mean(optimum_alphas)\n",
    "print(f'The optimum value of alpha is {round(np.mean(best_alpha))}.')"
   ]
  },
  {
   "cell_type": "code",
   "execution_count": 10,
   "metadata": {},
   "outputs": [
    {
     "name": "stdout",
     "output_type": "stream",
     "text": [
      "The optimum tree has accuracy 0.66 on the test set. It has a depth of 10.\n"
     ]
    }
   ],
   "source": [
    "tr = DecisionTreeRegressor(ccp_alpha = best_alpha,random_state = 0)\n",
    "tr.fit(x_tr,y_tr)\n",
    "best_val_acc = tr.score(x_te,y_te)\n",
    "print(f'The optimum tree has accuracy {round(best_val_acc,3)} on the test set. It has a depth of {tr.get_depth()}.')"
   ]
  }
 ],
 "metadata": {
  "kernelspec": {
   "display_name": "Python 3 (ipykernel)",
   "language": "python",
   "name": "python3"
  },
  "language_info": {
   "codemirror_mode": {
    "name": "ipython",
    "version": 3
   },
   "file_extension": ".py",
   "mimetype": "text/x-python",
   "name": "python",
   "nbconvert_exporter": "python",
   "pygments_lexer": "ipython3",
   "version": "3.10.12"
  }
 },
 "nbformat": 4,
 "nbformat_minor": 4
}
